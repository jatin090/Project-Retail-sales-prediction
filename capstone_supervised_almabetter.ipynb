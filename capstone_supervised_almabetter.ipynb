{
  "nbformat": 4,
  "nbformat_minor": 0,
  "metadata": {
    "colab": {
      "name": "capstone supervised almabetter.ipynb",
      "provenance": [],
      "collapsed_sections": [
        "Qwb6sI8oEYOD",
        "HEh-fztuhtgT",
        "LRqC9C4xEiM8"
      ]
    },
    "kernelspec": {
      "name": "python3",
      "display_name": "Python 3"
    }
  },
  "cells": [
    {
      "cell_type": "code",
      "metadata": {
        "colab": {
          "base_uri": "https://localhost:8080/"
        },
        "id": "T6Jp0owECe7T",
        "outputId": "0bf98c40-1ed3-4340-bd03-7080d4e79439"
      },
      "source": [
        "from pandas import datetime as dt\n",
        "from pandas import Series,DataFrame\n",
        "\n",
        "# data visualization\n",
        "import matplotlib.pyplot as plt\n",
        "import seaborn as sns \n",
        "%matplotlib inline\n",
        "\n",
        "\n",
        "from sklearn.model_selection import train_test_split\n",
        "\n",
        "\n",
        "# machine learning\n",
        "from sklearn.linear_model import LinearRegression\n",
        "from sklearn.linear_model import Ridge, Lasso\n",
        "from sklearn.preprocessing import PolynomialFeatures\n",
        "from sklearn.tree import DecisionTreeRegressor\n",
        "from sklearn import model_selection"
      ],
      "execution_count": null,
      "outputs": [
        {
          "output_type": "stream",
          "text": [
            "/usr/local/lib/python3.7/dist-packages/ipykernel_launcher.py:1: FutureWarning: The pandas.datetime class is deprecated and will be removed from pandas in a future version. Import from datetime module instead.\n",
            "  \"\"\"Entry point for launching an IPython kernel.\n"
          ],
          "name": "stderr"
        }
      ]
    },
    {
      "cell_type": "code",
      "metadata": {
        "id": "YEUFCPRhA7si"
      },
      "source": [
        "import pandas as pd\n",
        "import numpy as np"
      ],
      "execution_count": null,
      "outputs": []
    },
    {
      "cell_type": "markdown",
      "metadata": {
        "id": "WWeU1f9bwqQq"
      },
      "source": [
        "## <b> Data Description </b>\n",
        "\n",
        "### <b>Rossmann Stores Data.csv </b> - historical data including Sales\n",
        "### <b>store.csv </b> - supplemental information about the stores\n",
        "\n",
        "\n",
        "### <b><u>Data fields</u></b>\n",
        "### Most of the fields are self-explanatory. The following are descriptions for those that aren't.\n",
        "\n",
        "* #### Id - an Id that represents a (Store, Date) duple within the test set\n",
        "* #### Store - a unique Id for each store\n",
        "* #### Sales - the turnover for any given day (this is what you are predicting)\n",
        "* #### Customers - the number of customers on a given day\n",
        "* #### Open - an indicator for whether the store was open: 0 = closed, 1 = open\n",
        "* #### StateHoliday - indicates a state holiday. Normally all stores, with few exceptions, are closed on state holidays. Note that all schools are closed on public holidays and weekends. a = public holiday, b = Easter holiday, c = Christmas, 0 = None\n",
        "* #### SchoolHoliday - indicates if the (Store, Date) was affected by the closure of public schools\n",
        "* #### StoreType - differentiates between 4 different store models: a, b, c, d\n",
        "* #### Assortment - describes an assortment level: a = basic, b = extra, c = extended\n",
        "* #### CompetitionDistance - distance in meters to the nearest competitor store\n",
        "* #### CompetitionOpenSince[Month/Year] - gives the approximate year and month of the time the nearest competitor was opened\n",
        "* #### Promo - indicates whether a store is running a promo on that day\n",
        "* #### Promo2 - Promo2 is a continuing and consecutive promotion for some stores: 0 = store is not participating, 1 = store is participating\n",
        "* #### Promo2Since[Year/Week] - describes the year and calendar week when the store started participating in Promo2\n",
        "* #### PromoInterval - describes the consecutive intervals Promo2 is started, naming the months the promotion is started anew. E.g. \"Feb,May,Aug,Nov\" means each round starts in February, May, August, November of any given year for that store"
      ]
    },
    {
      "cell_type": "code",
      "metadata": {
        "colab": {
          "base_uri": "https://localhost:8080/"
        },
        "id": "uyTkEoLsCx2p",
        "outputId": "2c375ca0-728b-47ae-8a0f-8cb0dde8867b"
      },
      "source": [
        "from google.colab import drive\n",
        "drive.mount('/content/drive')"
      ],
      "execution_count": null,
      "outputs": [
        {
          "output_type": "stream",
          "text": [
            "Drive already mounted at /content/drive; to attempt to forcibly remount, call drive.mount(\"/content/drive\", force_remount=True).\n"
          ],
          "name": "stdout"
        }
      ]
    },
    {
      "cell_type": "code",
      "metadata": {
        "colab": {
          "base_uri": "https://localhost:8080/"
        },
        "id": "5bStvX84Ch9P",
        "outputId": "b5da6053-8b62-486e-fba6-f628423d3f43"
      },
      "source": [
        "df = pd.read_csv(\"/content/drive/MyDrive/Colab Notebooks/Rossmann Stores Data.csv\")"
      ],
      "execution_count": null,
      "outputs": [
        {
          "output_type": "stream",
          "text": [
            "/usr/local/lib/python3.7/dist-packages/IPython/core/interactiveshell.py:2718: DtypeWarning: Columns (7) have mixed types.Specify dtype option on import or set low_memory=False.\n",
            "  interactivity=interactivity, compiler=compiler, result=result)\n"
          ],
          "name": "stderr"
        }
      ]
    },
    {
      "cell_type": "code",
      "metadata": {
        "colab": {
          "base_uri": "https://localhost:8080/",
          "height": 419
        },
        "id": "R5CvsuzxDKqR",
        "outputId": "df4af2d6-a80a-4e66-c5c6-93c87bf70331"
      },
      "source": [
        "df"
      ],
      "execution_count": null,
      "outputs": [
        {
          "output_type": "execute_result",
          "data": {
            "text/html": [
              "<div>\n",
              "<style scoped>\n",
              "    .dataframe tbody tr th:only-of-type {\n",
              "        vertical-align: middle;\n",
              "    }\n",
              "\n",
              "    .dataframe tbody tr th {\n",
              "        vertical-align: top;\n",
              "    }\n",
              "\n",
              "    .dataframe thead th {\n",
              "        text-align: right;\n",
              "    }\n",
              "</style>\n",
              "<table border=\"1\" class=\"dataframe\">\n",
              "  <thead>\n",
              "    <tr style=\"text-align: right;\">\n",
              "      <th></th>\n",
              "      <th>Store</th>\n",
              "      <th>DayOfWeek</th>\n",
              "      <th>Date</th>\n",
              "      <th>Sales</th>\n",
              "      <th>Customers</th>\n",
              "      <th>Open</th>\n",
              "      <th>Promo</th>\n",
              "      <th>StateHoliday</th>\n",
              "      <th>SchoolHoliday</th>\n",
              "    </tr>\n",
              "  </thead>\n",
              "  <tbody>\n",
              "    <tr>\n",
              "      <th>0</th>\n",
              "      <td>1</td>\n",
              "      <td>5</td>\n",
              "      <td>2015-07-31</td>\n",
              "      <td>5263</td>\n",
              "      <td>555</td>\n",
              "      <td>1</td>\n",
              "      <td>1</td>\n",
              "      <td>0</td>\n",
              "      <td>1</td>\n",
              "    </tr>\n",
              "    <tr>\n",
              "      <th>1</th>\n",
              "      <td>2</td>\n",
              "      <td>5</td>\n",
              "      <td>2015-07-31</td>\n",
              "      <td>6064</td>\n",
              "      <td>625</td>\n",
              "      <td>1</td>\n",
              "      <td>1</td>\n",
              "      <td>0</td>\n",
              "      <td>1</td>\n",
              "    </tr>\n",
              "    <tr>\n",
              "      <th>2</th>\n",
              "      <td>3</td>\n",
              "      <td>5</td>\n",
              "      <td>2015-07-31</td>\n",
              "      <td>8314</td>\n",
              "      <td>821</td>\n",
              "      <td>1</td>\n",
              "      <td>1</td>\n",
              "      <td>0</td>\n",
              "      <td>1</td>\n",
              "    </tr>\n",
              "    <tr>\n",
              "      <th>3</th>\n",
              "      <td>4</td>\n",
              "      <td>5</td>\n",
              "      <td>2015-07-31</td>\n",
              "      <td>13995</td>\n",
              "      <td>1498</td>\n",
              "      <td>1</td>\n",
              "      <td>1</td>\n",
              "      <td>0</td>\n",
              "      <td>1</td>\n",
              "    </tr>\n",
              "    <tr>\n",
              "      <th>4</th>\n",
              "      <td>5</td>\n",
              "      <td>5</td>\n",
              "      <td>2015-07-31</td>\n",
              "      <td>4822</td>\n",
              "      <td>559</td>\n",
              "      <td>1</td>\n",
              "      <td>1</td>\n",
              "      <td>0</td>\n",
              "      <td>1</td>\n",
              "    </tr>\n",
              "    <tr>\n",
              "      <th>...</th>\n",
              "      <td>...</td>\n",
              "      <td>...</td>\n",
              "      <td>...</td>\n",
              "      <td>...</td>\n",
              "      <td>...</td>\n",
              "      <td>...</td>\n",
              "      <td>...</td>\n",
              "      <td>...</td>\n",
              "      <td>...</td>\n",
              "    </tr>\n",
              "    <tr>\n",
              "      <th>1017204</th>\n",
              "      <td>1111</td>\n",
              "      <td>2</td>\n",
              "      <td>2013-01-01</td>\n",
              "      <td>0</td>\n",
              "      <td>0</td>\n",
              "      <td>0</td>\n",
              "      <td>0</td>\n",
              "      <td>a</td>\n",
              "      <td>1</td>\n",
              "    </tr>\n",
              "    <tr>\n",
              "      <th>1017205</th>\n",
              "      <td>1112</td>\n",
              "      <td>2</td>\n",
              "      <td>2013-01-01</td>\n",
              "      <td>0</td>\n",
              "      <td>0</td>\n",
              "      <td>0</td>\n",
              "      <td>0</td>\n",
              "      <td>a</td>\n",
              "      <td>1</td>\n",
              "    </tr>\n",
              "    <tr>\n",
              "      <th>1017206</th>\n",
              "      <td>1113</td>\n",
              "      <td>2</td>\n",
              "      <td>2013-01-01</td>\n",
              "      <td>0</td>\n",
              "      <td>0</td>\n",
              "      <td>0</td>\n",
              "      <td>0</td>\n",
              "      <td>a</td>\n",
              "      <td>1</td>\n",
              "    </tr>\n",
              "    <tr>\n",
              "      <th>1017207</th>\n",
              "      <td>1114</td>\n",
              "      <td>2</td>\n",
              "      <td>2013-01-01</td>\n",
              "      <td>0</td>\n",
              "      <td>0</td>\n",
              "      <td>0</td>\n",
              "      <td>0</td>\n",
              "      <td>a</td>\n",
              "      <td>1</td>\n",
              "    </tr>\n",
              "    <tr>\n",
              "      <th>1017208</th>\n",
              "      <td>1115</td>\n",
              "      <td>2</td>\n",
              "      <td>2013-01-01</td>\n",
              "      <td>0</td>\n",
              "      <td>0</td>\n",
              "      <td>0</td>\n",
              "      <td>0</td>\n",
              "      <td>a</td>\n",
              "      <td>1</td>\n",
              "    </tr>\n",
              "  </tbody>\n",
              "</table>\n",
              "<p>1017209 rows × 9 columns</p>\n",
              "</div>"
            ],
            "text/plain": [
              "         Store  DayOfWeek        Date  ...  Promo  StateHoliday  SchoolHoliday\n",
              "0            1          5  2015-07-31  ...      1             0              1\n",
              "1            2          5  2015-07-31  ...      1             0              1\n",
              "2            3          5  2015-07-31  ...      1             0              1\n",
              "3            4          5  2015-07-31  ...      1             0              1\n",
              "4            5          5  2015-07-31  ...      1             0              1\n",
              "...        ...        ...         ...  ...    ...           ...            ...\n",
              "1017204   1111          2  2013-01-01  ...      0             a              1\n",
              "1017205   1112          2  2013-01-01  ...      0             a              1\n",
              "1017206   1113          2  2013-01-01  ...      0             a              1\n",
              "1017207   1114          2  2013-01-01  ...      0             a              1\n",
              "1017208   1115          2  2013-01-01  ...      0             a              1\n",
              "\n",
              "[1017209 rows x 9 columns]"
            ]
          },
          "metadata": {
            "tags": []
          },
          "execution_count": 403
        }
      ]
    },
    {
      "cell_type": "code",
      "metadata": {
        "id": "9w4dcftmDMPZ"
      },
      "source": [
        "store_df = pd.read_csv('/content/drive/MyDrive/Colab Notebooks/store.csv')"
      ],
      "execution_count": null,
      "outputs": []
    },
    {
      "cell_type": "code",
      "metadata": {
        "colab": {
          "base_uri": "https://localhost:8080/",
          "height": 439
        },
        "id": "ttvzH5qsDVZ7",
        "outputId": "4f99add9-bc9f-49c2-ded4-9d6cd20bb542"
      },
      "source": [
        "store_df"
      ],
      "execution_count": null,
      "outputs": [
        {
          "output_type": "execute_result",
          "data": {
            "text/html": [
              "<div>\n",
              "<style scoped>\n",
              "    .dataframe tbody tr th:only-of-type {\n",
              "        vertical-align: middle;\n",
              "    }\n",
              "\n",
              "    .dataframe tbody tr th {\n",
              "        vertical-align: top;\n",
              "    }\n",
              "\n",
              "    .dataframe thead th {\n",
              "        text-align: right;\n",
              "    }\n",
              "</style>\n",
              "<table border=\"1\" class=\"dataframe\">\n",
              "  <thead>\n",
              "    <tr style=\"text-align: right;\">\n",
              "      <th></th>\n",
              "      <th>Store</th>\n",
              "      <th>StoreType</th>\n",
              "      <th>Assortment</th>\n",
              "      <th>CompetitionDistance</th>\n",
              "      <th>CompetitionOpenSinceMonth</th>\n",
              "      <th>CompetitionOpenSinceYear</th>\n",
              "      <th>Promo2</th>\n",
              "      <th>Promo2SinceWeek</th>\n",
              "      <th>Promo2SinceYear</th>\n",
              "      <th>PromoInterval</th>\n",
              "    </tr>\n",
              "  </thead>\n",
              "  <tbody>\n",
              "    <tr>\n",
              "      <th>0</th>\n",
              "      <td>1</td>\n",
              "      <td>c</td>\n",
              "      <td>a</td>\n",
              "      <td>1270.0</td>\n",
              "      <td>9.0</td>\n",
              "      <td>2008.0</td>\n",
              "      <td>0</td>\n",
              "      <td>NaN</td>\n",
              "      <td>NaN</td>\n",
              "      <td>NaN</td>\n",
              "    </tr>\n",
              "    <tr>\n",
              "      <th>1</th>\n",
              "      <td>2</td>\n",
              "      <td>a</td>\n",
              "      <td>a</td>\n",
              "      <td>570.0</td>\n",
              "      <td>11.0</td>\n",
              "      <td>2007.0</td>\n",
              "      <td>1</td>\n",
              "      <td>13.0</td>\n",
              "      <td>2010.0</td>\n",
              "      <td>Jan,Apr,Jul,Oct</td>\n",
              "    </tr>\n",
              "    <tr>\n",
              "      <th>2</th>\n",
              "      <td>3</td>\n",
              "      <td>a</td>\n",
              "      <td>a</td>\n",
              "      <td>14130.0</td>\n",
              "      <td>12.0</td>\n",
              "      <td>2006.0</td>\n",
              "      <td>1</td>\n",
              "      <td>14.0</td>\n",
              "      <td>2011.0</td>\n",
              "      <td>Jan,Apr,Jul,Oct</td>\n",
              "    </tr>\n",
              "    <tr>\n",
              "      <th>3</th>\n",
              "      <td>4</td>\n",
              "      <td>c</td>\n",
              "      <td>c</td>\n",
              "      <td>620.0</td>\n",
              "      <td>9.0</td>\n",
              "      <td>2009.0</td>\n",
              "      <td>0</td>\n",
              "      <td>NaN</td>\n",
              "      <td>NaN</td>\n",
              "      <td>NaN</td>\n",
              "    </tr>\n",
              "    <tr>\n",
              "      <th>4</th>\n",
              "      <td>5</td>\n",
              "      <td>a</td>\n",
              "      <td>a</td>\n",
              "      <td>29910.0</td>\n",
              "      <td>4.0</td>\n",
              "      <td>2015.0</td>\n",
              "      <td>0</td>\n",
              "      <td>NaN</td>\n",
              "      <td>NaN</td>\n",
              "      <td>NaN</td>\n",
              "    </tr>\n",
              "    <tr>\n",
              "      <th>...</th>\n",
              "      <td>...</td>\n",
              "      <td>...</td>\n",
              "      <td>...</td>\n",
              "      <td>...</td>\n",
              "      <td>...</td>\n",
              "      <td>...</td>\n",
              "      <td>...</td>\n",
              "      <td>...</td>\n",
              "      <td>...</td>\n",
              "      <td>...</td>\n",
              "    </tr>\n",
              "    <tr>\n",
              "      <th>1110</th>\n",
              "      <td>1111</td>\n",
              "      <td>a</td>\n",
              "      <td>a</td>\n",
              "      <td>1900.0</td>\n",
              "      <td>6.0</td>\n",
              "      <td>2014.0</td>\n",
              "      <td>1</td>\n",
              "      <td>31.0</td>\n",
              "      <td>2013.0</td>\n",
              "      <td>Jan,Apr,Jul,Oct</td>\n",
              "    </tr>\n",
              "    <tr>\n",
              "      <th>1111</th>\n",
              "      <td>1112</td>\n",
              "      <td>c</td>\n",
              "      <td>c</td>\n",
              "      <td>1880.0</td>\n",
              "      <td>4.0</td>\n",
              "      <td>2006.0</td>\n",
              "      <td>0</td>\n",
              "      <td>NaN</td>\n",
              "      <td>NaN</td>\n",
              "      <td>NaN</td>\n",
              "    </tr>\n",
              "    <tr>\n",
              "      <th>1112</th>\n",
              "      <td>1113</td>\n",
              "      <td>a</td>\n",
              "      <td>c</td>\n",
              "      <td>9260.0</td>\n",
              "      <td>NaN</td>\n",
              "      <td>NaN</td>\n",
              "      <td>0</td>\n",
              "      <td>NaN</td>\n",
              "      <td>NaN</td>\n",
              "      <td>NaN</td>\n",
              "    </tr>\n",
              "    <tr>\n",
              "      <th>1113</th>\n",
              "      <td>1114</td>\n",
              "      <td>a</td>\n",
              "      <td>c</td>\n",
              "      <td>870.0</td>\n",
              "      <td>NaN</td>\n",
              "      <td>NaN</td>\n",
              "      <td>0</td>\n",
              "      <td>NaN</td>\n",
              "      <td>NaN</td>\n",
              "      <td>NaN</td>\n",
              "    </tr>\n",
              "    <tr>\n",
              "      <th>1114</th>\n",
              "      <td>1115</td>\n",
              "      <td>d</td>\n",
              "      <td>c</td>\n",
              "      <td>5350.0</td>\n",
              "      <td>NaN</td>\n",
              "      <td>NaN</td>\n",
              "      <td>1</td>\n",
              "      <td>22.0</td>\n",
              "      <td>2012.0</td>\n",
              "      <td>Mar,Jun,Sept,Dec</td>\n",
              "    </tr>\n",
              "  </tbody>\n",
              "</table>\n",
              "<p>1115 rows × 10 columns</p>\n",
              "</div>"
            ],
            "text/plain": [
              "      Store StoreType  ... Promo2SinceYear     PromoInterval\n",
              "0         1         c  ...             NaN               NaN\n",
              "1         2         a  ...          2010.0   Jan,Apr,Jul,Oct\n",
              "2         3         a  ...          2011.0   Jan,Apr,Jul,Oct\n",
              "3         4         c  ...             NaN               NaN\n",
              "4         5         a  ...             NaN               NaN\n",
              "...     ...       ...  ...             ...               ...\n",
              "1110   1111         a  ...          2013.0   Jan,Apr,Jul,Oct\n",
              "1111   1112         c  ...             NaN               NaN\n",
              "1112   1113         a  ...             NaN               NaN\n",
              "1113   1114         a  ...             NaN               NaN\n",
              "1114   1115         d  ...          2012.0  Mar,Jun,Sept,Dec\n",
              "\n",
              "[1115 rows x 10 columns]"
            ]
          },
          "metadata": {
            "tags": []
          },
          "execution_count": 405
        }
      ]
    },
    {
      "cell_type": "code",
      "metadata": {
        "colab": {
          "base_uri": "https://localhost:8080/"
        },
        "id": "6fqMkG-rDXzd",
        "outputId": "5a9e0f01-d5e6-4108-be03-d1cc371a5d72"
      },
      "source": [
        "store_df.info()"
      ],
      "execution_count": null,
      "outputs": [
        {
          "output_type": "stream",
          "text": [
            "<class 'pandas.core.frame.DataFrame'>\n",
            "RangeIndex: 1115 entries, 0 to 1114\n",
            "Data columns (total 10 columns):\n",
            " #   Column                     Non-Null Count  Dtype  \n",
            "---  ------                     --------------  -----  \n",
            " 0   Store                      1115 non-null   int64  \n",
            " 1   StoreType                  1115 non-null   object \n",
            " 2   Assortment                 1115 non-null   object \n",
            " 3   CompetitionDistance        1112 non-null   float64\n",
            " 4   CompetitionOpenSinceMonth  761 non-null    float64\n",
            " 5   CompetitionOpenSinceYear   761 non-null    float64\n",
            " 6   Promo2                     1115 non-null   int64  \n",
            " 7   Promo2SinceWeek            571 non-null    float64\n",
            " 8   Promo2SinceYear            571 non-null    float64\n",
            " 9   PromoInterval              571 non-null    object \n",
            "dtypes: float64(5), int64(2), object(3)\n",
            "memory usage: 87.2+ KB\n"
          ],
          "name": "stdout"
        }
      ]
    },
    {
      "cell_type": "code",
      "metadata": {
        "id": "JM1dpV9BOC4b"
      },
      "source": [
        "# lets check the null values"
      ],
      "execution_count": null,
      "outputs": []
    },
    {
      "cell_type": "code",
      "metadata": {
        "id": "ACoWLCgePCWG"
      },
      "source": [
        "store_df['CompetitionOpenSinceMonth'].fillna(store_df['CompetitionOpenSinceMonth'].mode()[0], inplace = True)\n",
        "store_df['CompetitionDistance'].fillna(store_df['CompetitionDistance'].median(), inplace = True)\n",
        "store_df['CompetitionOpenSinceYear'].fillna(store_df['CompetitionOpenSinceYear'].mode()[0], inplace = True)"
      ],
      "execution_count": null,
      "outputs": []
    },
    {
      "cell_type": "code",
      "metadata": {
        "id": "0nidl589XHN2"
      },
      "source": [
        "store_df['Promo2SinceWeek'].fillna(0, inplace = True)\n",
        "store_df['Promo2SinceYear'].fillna(0, inplace = True)\n",
        "store_df['PromoInterval'].fillna(0, inplace = True)\n"
      ],
      "execution_count": null,
      "outputs": []
    },
    {
      "cell_type": "code",
      "metadata": {
        "colab": {
          "base_uri": "https://localhost:8080/",
          "height": 224
        },
        "id": "x06rorGlQqvc",
        "outputId": "e31156d6-b353-4c7f-97c1-908095ca8188"
      },
      "source": [
        "store_df.head()"
      ],
      "execution_count": null,
      "outputs": [
        {
          "output_type": "execute_result",
          "data": {
            "text/html": [
              "<div>\n",
              "<style scoped>\n",
              "    .dataframe tbody tr th:only-of-type {\n",
              "        vertical-align: middle;\n",
              "    }\n",
              "\n",
              "    .dataframe tbody tr th {\n",
              "        vertical-align: top;\n",
              "    }\n",
              "\n",
              "    .dataframe thead th {\n",
              "        text-align: right;\n",
              "    }\n",
              "</style>\n",
              "<table border=\"1\" class=\"dataframe\">\n",
              "  <thead>\n",
              "    <tr style=\"text-align: right;\">\n",
              "      <th></th>\n",
              "      <th>Store</th>\n",
              "      <th>StoreType</th>\n",
              "      <th>Assortment</th>\n",
              "      <th>CompetitionDistance</th>\n",
              "      <th>CompetitionOpenSinceMonth</th>\n",
              "      <th>CompetitionOpenSinceYear</th>\n",
              "      <th>Promo2</th>\n",
              "      <th>Promo2SinceWeek</th>\n",
              "      <th>Promo2SinceYear</th>\n",
              "      <th>PromoInterval</th>\n",
              "    </tr>\n",
              "  </thead>\n",
              "  <tbody>\n",
              "    <tr>\n",
              "      <th>0</th>\n",
              "      <td>1</td>\n",
              "      <td>c</td>\n",
              "      <td>a</td>\n",
              "      <td>1270.0</td>\n",
              "      <td>9.0</td>\n",
              "      <td>2008.0</td>\n",
              "      <td>0</td>\n",
              "      <td>0.0</td>\n",
              "      <td>0.0</td>\n",
              "      <td>0</td>\n",
              "    </tr>\n",
              "    <tr>\n",
              "      <th>1</th>\n",
              "      <td>2</td>\n",
              "      <td>a</td>\n",
              "      <td>a</td>\n",
              "      <td>570.0</td>\n",
              "      <td>11.0</td>\n",
              "      <td>2007.0</td>\n",
              "      <td>1</td>\n",
              "      <td>13.0</td>\n",
              "      <td>2010.0</td>\n",
              "      <td>Jan,Apr,Jul,Oct</td>\n",
              "    </tr>\n",
              "    <tr>\n",
              "      <th>2</th>\n",
              "      <td>3</td>\n",
              "      <td>a</td>\n",
              "      <td>a</td>\n",
              "      <td>14130.0</td>\n",
              "      <td>12.0</td>\n",
              "      <td>2006.0</td>\n",
              "      <td>1</td>\n",
              "      <td>14.0</td>\n",
              "      <td>2011.0</td>\n",
              "      <td>Jan,Apr,Jul,Oct</td>\n",
              "    </tr>\n",
              "    <tr>\n",
              "      <th>3</th>\n",
              "      <td>4</td>\n",
              "      <td>c</td>\n",
              "      <td>c</td>\n",
              "      <td>620.0</td>\n",
              "      <td>9.0</td>\n",
              "      <td>2009.0</td>\n",
              "      <td>0</td>\n",
              "      <td>0.0</td>\n",
              "      <td>0.0</td>\n",
              "      <td>0</td>\n",
              "    </tr>\n",
              "    <tr>\n",
              "      <th>4</th>\n",
              "      <td>5</td>\n",
              "      <td>a</td>\n",
              "      <td>a</td>\n",
              "      <td>29910.0</td>\n",
              "      <td>4.0</td>\n",
              "      <td>2015.0</td>\n",
              "      <td>0</td>\n",
              "      <td>0.0</td>\n",
              "      <td>0.0</td>\n",
              "      <td>0</td>\n",
              "    </tr>\n",
              "  </tbody>\n",
              "</table>\n",
              "</div>"
            ],
            "text/plain": [
              "   Store StoreType  ... Promo2SinceYear    PromoInterval\n",
              "0      1         c  ...             0.0                0\n",
              "1      2         a  ...          2010.0  Jan,Apr,Jul,Oct\n",
              "2      3         a  ...          2011.0  Jan,Apr,Jul,Oct\n",
              "3      4         c  ...             0.0                0\n",
              "4      5         a  ...             0.0                0\n",
              "\n",
              "[5 rows x 10 columns]"
            ]
          },
          "metadata": {
            "tags": []
          },
          "execution_count": 410
        }
      ]
    },
    {
      "cell_type": "code",
      "metadata": {
        "colab": {
          "base_uri": "https://localhost:8080/"
        },
        "id": "oBBwG6wWeUts",
        "outputId": "0cf790b2-31f5-4680-c62b-d38467a1b467"
      },
      "source": [
        "df[\"Date\"]=pd.to_datetime(df[\"Date\"])\n",
        "df[\"Year\"]=df[\"Date\"].dt.year\n",
        "df[\"Month\"]=df[\"Date\"].dt.month\n",
        "df[\"Day\"]=df[\"Date\"].dt.day\n",
        "df[\"Week\"]=df[\"Date\"].dt.week%4\n",
        "df[\"WeekOfYear\"]=df[\"Date\"].dt.week"
      ],
      "execution_count": null,
      "outputs": [
        {
          "output_type": "stream",
          "text": [
            "/usr/local/lib/python3.7/dist-packages/ipykernel_launcher.py:5: FutureWarning: Series.dt.weekofyear and Series.dt.week have been deprecated.  Please use Series.dt.isocalendar().week instead.\n",
            "  \"\"\"\n",
            "/usr/local/lib/python3.7/dist-packages/ipykernel_launcher.py:6: FutureWarning: Series.dt.weekofyear and Series.dt.week have been deprecated.  Please use Series.dt.isocalendar().week instead.\n",
            "  \n"
          ],
          "name": "stderr"
        }
      ]
    },
    {
      "cell_type": "code",
      "metadata": {
        "colab": {
          "base_uri": "https://localhost:8080/",
          "height": 204
        },
        "id": "YspoVoYqi4W7",
        "outputId": "0a9e4937-f7d1-4be6-cd2e-cf690f9dc743"
      },
      "source": [
        "df.head()"
      ],
      "execution_count": null,
      "outputs": [
        {
          "output_type": "execute_result",
          "data": {
            "text/html": [
              "<div>\n",
              "<style scoped>\n",
              "    .dataframe tbody tr th:only-of-type {\n",
              "        vertical-align: middle;\n",
              "    }\n",
              "\n",
              "    .dataframe tbody tr th {\n",
              "        vertical-align: top;\n",
              "    }\n",
              "\n",
              "    .dataframe thead th {\n",
              "        text-align: right;\n",
              "    }\n",
              "</style>\n",
              "<table border=\"1\" class=\"dataframe\">\n",
              "  <thead>\n",
              "    <tr style=\"text-align: right;\">\n",
              "      <th></th>\n",
              "      <th>Store</th>\n",
              "      <th>DayOfWeek</th>\n",
              "      <th>Date</th>\n",
              "      <th>Sales</th>\n",
              "      <th>Customers</th>\n",
              "      <th>Open</th>\n",
              "      <th>Promo</th>\n",
              "      <th>StateHoliday</th>\n",
              "      <th>SchoolHoliday</th>\n",
              "      <th>Year</th>\n",
              "      <th>Month</th>\n",
              "      <th>Day</th>\n",
              "      <th>Week</th>\n",
              "      <th>WeekOfYear</th>\n",
              "    </tr>\n",
              "  </thead>\n",
              "  <tbody>\n",
              "    <tr>\n",
              "      <th>0</th>\n",
              "      <td>1</td>\n",
              "      <td>5</td>\n",
              "      <td>2015-07-31</td>\n",
              "      <td>5263</td>\n",
              "      <td>555</td>\n",
              "      <td>1</td>\n",
              "      <td>1</td>\n",
              "      <td>0</td>\n",
              "      <td>1</td>\n",
              "      <td>2015</td>\n",
              "      <td>7</td>\n",
              "      <td>31</td>\n",
              "      <td>3</td>\n",
              "      <td>31</td>\n",
              "    </tr>\n",
              "    <tr>\n",
              "      <th>1</th>\n",
              "      <td>2</td>\n",
              "      <td>5</td>\n",
              "      <td>2015-07-31</td>\n",
              "      <td>6064</td>\n",
              "      <td>625</td>\n",
              "      <td>1</td>\n",
              "      <td>1</td>\n",
              "      <td>0</td>\n",
              "      <td>1</td>\n",
              "      <td>2015</td>\n",
              "      <td>7</td>\n",
              "      <td>31</td>\n",
              "      <td>3</td>\n",
              "      <td>31</td>\n",
              "    </tr>\n",
              "    <tr>\n",
              "      <th>2</th>\n",
              "      <td>3</td>\n",
              "      <td>5</td>\n",
              "      <td>2015-07-31</td>\n",
              "      <td>8314</td>\n",
              "      <td>821</td>\n",
              "      <td>1</td>\n",
              "      <td>1</td>\n",
              "      <td>0</td>\n",
              "      <td>1</td>\n",
              "      <td>2015</td>\n",
              "      <td>7</td>\n",
              "      <td>31</td>\n",
              "      <td>3</td>\n",
              "      <td>31</td>\n",
              "    </tr>\n",
              "    <tr>\n",
              "      <th>3</th>\n",
              "      <td>4</td>\n",
              "      <td>5</td>\n",
              "      <td>2015-07-31</td>\n",
              "      <td>13995</td>\n",
              "      <td>1498</td>\n",
              "      <td>1</td>\n",
              "      <td>1</td>\n",
              "      <td>0</td>\n",
              "      <td>1</td>\n",
              "      <td>2015</td>\n",
              "      <td>7</td>\n",
              "      <td>31</td>\n",
              "      <td>3</td>\n",
              "      <td>31</td>\n",
              "    </tr>\n",
              "    <tr>\n",
              "      <th>4</th>\n",
              "      <td>5</td>\n",
              "      <td>5</td>\n",
              "      <td>2015-07-31</td>\n",
              "      <td>4822</td>\n",
              "      <td>559</td>\n",
              "      <td>1</td>\n",
              "      <td>1</td>\n",
              "      <td>0</td>\n",
              "      <td>1</td>\n",
              "      <td>2015</td>\n",
              "      <td>7</td>\n",
              "      <td>31</td>\n",
              "      <td>3</td>\n",
              "      <td>31</td>\n",
              "    </tr>\n",
              "  </tbody>\n",
              "</table>\n",
              "</div>"
            ],
            "text/plain": [
              "   Store  DayOfWeek       Date  Sales  ...  Month  Day  Week WeekOfYear\n",
              "0      1          5 2015-07-31   5263  ...      7   31     3         31\n",
              "1      2          5 2015-07-31   6064  ...      7   31     3         31\n",
              "2      3          5 2015-07-31   8314  ...      7   31     3         31\n",
              "3      4          5 2015-07-31  13995  ...      7   31     3         31\n",
              "4      5          5 2015-07-31   4822  ...      7   31     3         31\n",
              "\n",
              "[5 rows x 14 columns]"
            ]
          },
          "metadata": {
            "tags": []
          },
          "execution_count": 412
        }
      ]
    },
    {
      "cell_type": "code",
      "metadata": {
        "id": "Ej2EvXwkkK_X"
      },
      "source": [
        "df = df.merge(store_df, how='outer', on=['Store'])"
      ],
      "execution_count": null,
      "outputs": []
    },
    {
      "cell_type": "code",
      "metadata": {
        "colab": {
          "base_uri": "https://localhost:8080/"
        },
        "id": "RBAAFXJeqWS5",
        "outputId": "8954aa2d-9b4f-4463-95ff-06ff37df2bb0"
      },
      "source": [
        "df.columns"
      ],
      "execution_count": null,
      "outputs": [
        {
          "output_type": "execute_result",
          "data": {
            "text/plain": [
              "Index(['Store', 'DayOfWeek', 'Date', 'Sales', 'Customers', 'Open', 'Promo',\n",
              "       'StateHoliday', 'SchoolHoliday', 'Year', 'Month', 'Day', 'Week',\n",
              "       'WeekOfYear', 'StoreType', 'Assortment', 'CompetitionDistance',\n",
              "       'CompetitionOpenSinceMonth', 'CompetitionOpenSinceYear', 'Promo2',\n",
              "       'Promo2SinceWeek', 'Promo2SinceYear', 'PromoInterval'],\n",
              "      dtype='object')"
            ]
          },
          "metadata": {
            "tags": []
          },
          "execution_count": 414
        }
      ]
    },
    {
      "cell_type": "code",
      "metadata": {
        "id": "hwX7l2F_3Uym"
      },
      "source": [
        "def without_hue(plot, feature):\n",
        "    total = len(feature)\n",
        "    for p in plot.patches:\n",
        "        percentage = '{:.1f}%'.format(100 * p.get_height()/total)\n",
        "        x = p.get_x() + p.get_width() / 2 - 0.05\n",
        "        y = p.get_y() + p.get_height()\n",
        "        ax.annotate(percentage, (x, y), size = 12)\n",
        "    plt.show()"
      ],
      "execution_count": null,
      "outputs": []
    },
    {
      "cell_type": "code",
      "metadata": {
        "id": "XufbwDtz1zjv"
      },
      "source": [
        "def with_hue(plot, feature, Number_of_categories, hue_categories):\n",
        "    a = [p.get_height() for p in plot.patches]\n",
        "    patch = [p for p in plot.patches]\n",
        "    for i in range(Number_of_categories):\n",
        "        total = feature.value_counts().values[i]\n",
        "        for j in range(hue_categories):\n",
        "            percentage = '{:.1f}%'.format(100 * a[(j*Number_of_categories + i)]/total)\n",
        "            x = patch[(j*Number_of_categories + i)].get_x() + patch[(j*Number_of_categories + i)].get_width() / 2 - 0.15\n",
        "            y = patch[(j*Number_of_categories + i)].get_y() + patch[(j*Number_of_categories + i)].get_height() \n",
        "            ax.annotate(percentage, (x, y), size = 12)\n",
        "    plt.show()"
      ],
      "execution_count": null,
      "outputs": []
    },
    {
      "cell_type": "code",
      "metadata": {
        "colab": {
          "base_uri": "https://localhost:8080/"
        },
        "id": "34OosUkSlv4q",
        "outputId": "a094cc46-17fc-4f2f-c897-b3ecdf06d8d8"
      },
      "source": [
        "df['Store'].unique() #########################"
      ],
      "execution_count": null,
      "outputs": [
        {
          "output_type": "execute_result",
          "data": {
            "text/plain": [
              "array([   1,    2,    3, ..., 1113, 1114, 1115])"
            ]
          },
          "metadata": {
            "tags": []
          },
          "execution_count": 417
        }
      ]
    },
    {
      "cell_type": "code",
      "metadata": {
        "colab": {
          "base_uri": "https://localhost:8080/",
          "height": 333
        },
        "id": "j7QJY_njcHMN",
        "outputId": "7564f5a9-32e0-4653-90ea-c27593fe8d3f"
      },
      "source": [
        "ax = sns.countplot(df['StoreType'])\n",
        "without_hue(ax, df['StoreType'])"
      ],
      "execution_count": null,
      "outputs": [
        {
          "output_type": "stream",
          "text": [
            "/usr/local/lib/python3.7/dist-packages/seaborn/_decorators.py:43: FutureWarning: Pass the following variable as a keyword arg: x. From version 0.12, the only valid positional argument will be `data`, and passing other arguments without an explicit keyword will result in an error or misinterpretation.\n",
            "  FutureWarning\n"
          ],
          "name": "stderr"
        },
        {
          "output_type": "display_data",
          "data": {
            "image/png": "[encoded data removed]",
            "text/plain": [
              "<Figure size 432x288 with 1 Axes>"
            ]
          },
          "metadata": {
            "tags": [],
            "needs_background": "light"
          }
        }
      ]
    },
    {
      "cell_type": "code",
      "metadata": {
        "colab": {
          "base_uri": "https://localhost:8080/",
          "height": 333
        },
        "id": "jciq6OcFfmMF",
        "outputId": "cf317497-8982-4609-d523-99bbb82dbf2d"
      },
      "source": [
        "ax = sns.countplot(df['Assortment'])\n",
        "without_hue(ax, df['Assortment'])"
      ],
      "execution_count": null,
      "outputs": [
        {
          "output_type": "stream",
          "text": [
            "/usr/local/lib/python3.7/dist-packages/seaborn/_decorators.py:43: FutureWarning: Pass the following variable as a keyword arg: x. From version 0.12, the only valid positional argument will be `data`, and passing other arguments without an explicit keyword will result in an error or misinterpretation.\n",
            "  FutureWarning\n"
          ],
          "name": "stderr"
        },
        {
          "output_type": "display_data",
          "data": {
            "image/png": "[encoded data removed]",
            "text/plain": [
              "<Figure size 432x288 with 1 Axes>"
            ]
          },
          "metadata": {
            "tags": [],
            "needs_background": "light"
          }
        }
      ]
    },
    {
      "cell_type": "code",
      "metadata": {
        "colab": {
          "base_uri": "https://localhost:8080/",
          "height": 333
        },
        "id": "JBmB7UsyRGot",
        "outputId": "20630c9f-3a25-4eed-83fb-293d919c3fbd"
      },
      "source": [
        "ax = sns.countplot(df['Promo'])\n",
        "without_hue(ax, df['Promo'])"
      ],
      "execution_count": null,
      "outputs": [
        {
          "output_type": "stream",
          "text": [
            "/usr/local/lib/python3.7/dist-packages/seaborn/_decorators.py:43: FutureWarning: Pass the following variable as a keyword arg: x. From version 0.12, the only valid positional argument will be `data`, and passing other arguments without an explicit keyword will result in an error or misinterpretation.\n",
            "  FutureWarning\n"
          ],
          "name": "stderr"
        },
        {
          "output_type": "display_data",
          "data": {
            "image/png": "[encoded data removed]",
            "text/plain": [
              "<Figure size 432x288 with 1 Axes>"
            ]
          },
          "metadata": {
            "tags": [],
            "needs_background": "light"
          }
        }
      ]
    },
    {
      "cell_type": "code",
      "metadata": {
        "colab": {
          "base_uri": "https://localhost:8080/",
          "height": 333
        },
        "id": "-cO7SQpgmadW",
        "outputId": "98395352-ef7c-4b5d-b1d4-9188cbcae25a"
      },
      "source": [
        "ax = sns.countplot(df['Promo2'],palette=\"rocket\")\n",
        "without_hue(ax, df['Promo2'])"
      ],
      "execution_count": null,
      "outputs": [
        {
          "output_type": "stream",
          "text": [
            "/usr/local/lib/python3.7/dist-packages/seaborn/_decorators.py:43: FutureWarning: Pass the following variable as a keyword arg: x. From version 0.12, the only valid positional argument will be `data`, and passing other arguments without an explicit keyword will result in an error or misinterpretation.\n",
            "  FutureWarning\n"
          ],
          "name": "stderr"
        },
        {
          "output_type": "display_data",
          "data": {
            "image/png": "[encoded data removed]",
            "text/plain": [
              "<Figure size 432x288 with 1 Axes>"
            ]
          },
          "metadata": {
            "tags": [],
            "needs_background": "light"
          }
        }
      ]
    },
    {
      "cell_type": "code",
      "metadata": {
        "colab": {
          "base_uri": "https://localhost:8080/"
        },
        "id": "4L4wOtNsIPgA",
        "outputId": "2b0d4691-b6fe-4672-a3df-6c8db712fd09"
      },
      "source": [
        "df['Promo2'].value_counts()"
      ],
      "execution_count": null,
      "outputs": [
        {
          "output_type": "execute_result",
          "data": {
            "text/plain": [
              "1    509178\n",
              "0    508031\n",
              "Name: Promo2, dtype: int64"
            ]
          },
          "metadata": {
            "tags": []
          },
          "execution_count": 422
        }
      ]
    },
    {
      "cell_type": "code",
      "metadata": {
        "colab": {
          "base_uri": "https://localhost:8080/"
        },
        "id": "8RGJV6SgkOi3",
        "outputId": "8311e405-7b20-4781-cc19-ac8ca3f8574f"
      },
      "source": [
        "df['Sales'].mean()"
      ],
      "execution_count": null,
      "outputs": [
        {
          "output_type": "execute_result",
          "data": {
            "text/plain": [
              "5773.818972305593"
            ]
          },
          "metadata": {
            "tags": []
          },
          "execution_count": 423
        }
      ]
    },
    {
      "cell_type": "code",
      "metadata": {
        "colab": {
          "base_uri": "https://localhost:8080/"
        },
        "id": "phwxEEItkOdh",
        "outputId": "1783c4d3-6664-4314-f8bf-cbc9376428f5"
      },
      "source": [
        "df['Year'].unique()"
      ],
      "execution_count": null,
      "outputs": [
        {
          "output_type": "execute_result",
          "data": {
            "text/plain": [
              "array([2015, 2014, 2013])"
            ]
          },
          "metadata": {
            "tags": []
          },
          "execution_count": 424
        }
      ]
    },
    {
      "cell_type": "code",
      "metadata": {
        "colab": {
          "base_uri": "https://localhost:8080/"
        },
        "id": "jA3yOQa0mQUX",
        "outputId": "0a0ee7df-12ff-46c2-e432-32fd03fa42ab"
      },
      "source": [
        "df[df['Year'] == 2013][df['Store'] == 1]['Sales'].mean()"
      ],
      "execution_count": null,
      "outputs": [
        {
          "output_type": "stream",
          "text": [
            "/usr/local/lib/python3.7/dist-packages/ipykernel_launcher.py:1: UserWarning: Boolean Series key will be reindexed to match DataFrame index.\n",
            "  \"\"\"Entry point for launching an IPython kernel.\n"
          ],
          "name": "stderr"
        },
        {
          "output_type": "execute_result",
          "data": {
            "text/plain": [
              "4085.3150684931506"
            ]
          },
          "metadata": {
            "tags": []
          },
          "execution_count": 425
        }
      ]
    },
    {
      "cell_type": "code",
      "metadata": {
        "id": "Ij5QoX4XmP4f"
      },
      "source": [
        ""
      ],
      "execution_count": null,
      "outputs": []
    },
    {
      "cell_type": "code",
      "metadata": {
        "id": "w9oH0pwlmPzG"
      },
      "source": [
        ""
      ],
      "execution_count": null,
      "outputs": []
    },
    {
      "cell_type": "code",
      "metadata": {
        "id": "72J6CDNOkOS8"
      },
      "source": [
        ""
      ],
      "execution_count": null,
      "outputs": []
    },
    {
      "cell_type": "code",
      "metadata": {
        "colab": {
          "base_uri": "https://localhost:8080/",
          "height": 309
        },
        "id": "ImMXp2qklkIZ",
        "outputId": "6250fa5b-14c2-4671-b1f7-fc52b303b79c"
      },
      "source": [
        "df.head()"
      ],
      "execution_count": null,
      "outputs": [
        {
          "output_type": "execute_result",
          "data": {
            "text/html": [
              "<div>\n",
              "<style scoped>\n",
              "    .dataframe tbody tr th:only-of-type {\n",
              "        vertical-align: middle;\n",
              "    }\n",
              "\n",
              "    .dataframe tbody tr th {\n",
              "        vertical-align: top;\n",
              "    }\n",
              "\n",
              "    .dataframe thead th {\n",
              "        text-align: right;\n",
              "    }\n",
              "</style>\n",
              "<table border=\"1\" class=\"dataframe\">\n",
              "  <thead>\n",
              "    <tr style=\"text-align: right;\">\n",
              "      <th></th>\n",
              "      <th>Store</th>\n",
              "      <th>DayOfWeek</th>\n",
              "      <th>Date</th>\n",
              "      <th>Sales</th>\n",
              "      <th>Customers</th>\n",
              "      <th>Open</th>\n",
              "      <th>Promo</th>\n",
              "      <th>StateHoliday</th>\n",
              "      <th>SchoolHoliday</th>\n",
              "      <th>Year</th>\n",
              "      <th>Month</th>\n",
              "      <th>Day</th>\n",
              "      <th>Week</th>\n",
              "      <th>WeekOfYear</th>\n",
              "      <th>StoreType</th>\n",
              "      <th>Assortment</th>\n",
              "      <th>CompetitionDistance</th>\n",
              "      <th>CompetitionOpenSinceMonth</th>\n",
              "      <th>CompetitionOpenSinceYear</th>\n",
              "      <th>Promo2</th>\n",
              "      <th>Promo2SinceWeek</th>\n",
              "      <th>Promo2SinceYear</th>\n",
              "      <th>PromoInterval</th>\n",
              "    </tr>\n",
              "  </thead>\n",
              "  <tbody>\n",
              "    <tr>\n",
              "      <th>0</th>\n",
              "      <td>1</td>\n",
              "      <td>5</td>\n",
              "      <td>2015-07-31</td>\n",
              "      <td>5263</td>\n",
              "      <td>555</td>\n",
              "      <td>1</td>\n",
              "      <td>1</td>\n",
              "      <td>0</td>\n",
              "      <td>1</td>\n",
              "      <td>2015</td>\n",
              "      <td>7</td>\n",
              "      <td>31</td>\n",
              "      <td>3</td>\n",
              "      <td>31</td>\n",
              "      <td>c</td>\n",
              "      <td>a</td>\n",
              "      <td>1270.0</td>\n",
              "      <td>9.0</td>\n",
              "      <td>2008.0</td>\n",
              "      <td>0</td>\n",
              "      <td>0.0</td>\n",
              "      <td>0.0</td>\n",
              "      <td>0</td>\n",
              "    </tr>\n",
              "    <tr>\n",
              "      <th>1</th>\n",
              "      <td>1</td>\n",
              "      <td>4</td>\n",
              "      <td>2015-07-30</td>\n",
              "      <td>5020</td>\n",
              "      <td>546</td>\n",
              "      <td>1</td>\n",
              "      <td>1</td>\n",
              "      <td>0</td>\n",
              "      <td>1</td>\n",
              "      <td>2015</td>\n",
              "      <td>7</td>\n",
              "      <td>30</td>\n",
              "      <td>3</td>\n",
              "      <td>31</td>\n",
              "      <td>c</td>\n",
              "      <td>a</td>\n",
              "      <td>1270.0</td>\n",
              "      <td>9.0</td>\n",
              "      <td>2008.0</td>\n",
              "      <td>0</td>\n",
              "      <td>0.0</td>\n",
              "      <td>0.0</td>\n",
              "      <td>0</td>\n",
              "    </tr>\n",
              "    <tr>\n",
              "      <th>2</th>\n",
              "      <td>1</td>\n",
              "      <td>3</td>\n",
              "      <td>2015-07-29</td>\n",
              "      <td>4782</td>\n",
              "      <td>523</td>\n",
              "      <td>1</td>\n",
              "      <td>1</td>\n",
              "      <td>0</td>\n",
              "      <td>1</td>\n",
              "      <td>2015</td>\n",
              "      <td>7</td>\n",
              "      <td>29</td>\n",
              "      <td>3</td>\n",
              "      <td>31</td>\n",
              "      <td>c</td>\n",
              "      <td>a</td>\n",
              "      <td>1270.0</td>\n",
              "      <td>9.0</td>\n",
              "      <td>2008.0</td>\n",
              "      <td>0</td>\n",
              "      <td>0.0</td>\n",
              "      <td>0.0</td>\n",
              "      <td>0</td>\n",
              "    </tr>\n",
              "    <tr>\n",
              "      <th>3</th>\n",
              "      <td>1</td>\n",
              "      <td>2</td>\n",
              "      <td>2015-07-28</td>\n",
              "      <td>5011</td>\n",
              "      <td>560</td>\n",
              "      <td>1</td>\n",
              "      <td>1</td>\n",
              "      <td>0</td>\n",
              "      <td>1</td>\n",
              "      <td>2015</td>\n",
              "      <td>7</td>\n",
              "      <td>28</td>\n",
              "      <td>3</td>\n",
              "      <td>31</td>\n",
              "      <td>c</td>\n",
              "      <td>a</td>\n",
              "      <td>1270.0</td>\n",
              "      <td>9.0</td>\n",
              "      <td>2008.0</td>\n",
              "      <td>0</td>\n",
              "      <td>0.0</td>\n",
              "      <td>0.0</td>\n",
              "      <td>0</td>\n",
              "    </tr>\n",
              "    <tr>\n",
              "      <th>4</th>\n",
              "      <td>1</td>\n",
              "      <td>1</td>\n",
              "      <td>2015-07-27</td>\n",
              "      <td>6102</td>\n",
              "      <td>612</td>\n",
              "      <td>1</td>\n",
              "      <td>1</td>\n",
              "      <td>0</td>\n",
              "      <td>1</td>\n",
              "      <td>2015</td>\n",
              "      <td>7</td>\n",
              "      <td>27</td>\n",
              "      <td>3</td>\n",
              "      <td>31</td>\n",
              "      <td>c</td>\n",
              "      <td>a</td>\n",
              "      <td>1270.0</td>\n",
              "      <td>9.0</td>\n",
              "      <td>2008.0</td>\n",
              "      <td>0</td>\n",
              "      <td>0.0</td>\n",
              "      <td>0.0</td>\n",
              "      <td>0</td>\n",
              "    </tr>\n",
              "  </tbody>\n",
              "</table>\n",
              "</div>"
            ],
            "text/plain": [
              "   Store  DayOfWeek       Date  ...  Promo2SinceWeek  Promo2SinceYear  PromoInterval\n",
              "0      1          5 2015-07-31  ...              0.0              0.0              0\n",
              "1      1          4 2015-07-30  ...              0.0              0.0              0\n",
              "2      1          3 2015-07-29  ...              0.0              0.0              0\n",
              "3      1          2 2015-07-28  ...              0.0              0.0              0\n",
              "4      1          1 2015-07-27  ...              0.0              0.0              0\n",
              "\n",
              "[5 rows x 23 columns]"
            ]
          },
          "metadata": {
            "tags": []
          },
          "execution_count": 426
        }
      ]
    },
    {
      "cell_type": "code",
      "metadata": {
        "colab": {
          "base_uri": "https://localhost:8080/"
        },
        "id": "54NDJjza1ene",
        "outputId": "083f60c9-9762-4c2a-91a3-9d0c4e7573cd"
      },
      "source": [
        "print(df[df['StoreType'] == 'a']['Sales'].mean())\n",
        "print(df[df['StoreType'] == 'b']['Sales'].mean())\n",
        "print(df[df['StoreType'] == 'c']['Sales'].mean())\n",
        "print(df[df['StoreType'] == 'd']['Sales'].mean())\n"
      ],
      "execution_count": null,
      "outputs": [
        {
          "output_type": "stream",
          "text": [
            "5738.179710202728\n",
            "10058.837334175616\n",
            "5723.6292458345515\n",
            "5641.819243109884\n"
          ],
          "name": "stdout"
        }
      ]
    },
    {
      "cell_type": "code",
      "metadata": {
        "id": "a7yTq_oXmeSd"
      },
      "source": [
        "df2 = df.copy() # checkpoint"
      ],
      "execution_count": null,
      "outputs": []
    },
    {
      "cell_type": "code",
      "metadata": {
        "id": "osGexeNOrJri"
      },
      "source": [
        "df2.drop(['Date'], axis = 1, inplace = True)"
      ],
      "execution_count": null,
      "outputs": []
    },
    {
      "cell_type": "code",
      "metadata": {
        "id": "FUoK_rXLrR2F"
      },
      "source": [
        "df2['CompetitionOpen'] = 0\n",
        "df2['PromoOpen'] = 0"
      ],
      "execution_count": null,
      "outputs": []
    },
    {
      "cell_type": "code",
      "metadata": {
        "id": "vVy6qeqMy1LR"
      },
      "source": [
        "df2['CompetitionOpen'] = (df2['CompetitionOpen'].where(df2['CompetitionOpenSinceYear'] == 0, other= (12 * (df2['Year'] - df2['CompetitionOpenSinceYear'])) + (df2['Month'] - df2['CompetitionOpenSinceMonth'])))\n",
        "df2['PromoOpen'] = ( 12 * (df2['Year'] - df['Promo2SinceYear'])) + df2['Month'] - ((df2['Promo2SinceWeek']/4))\n"
      ],
      "execution_count": null,
      "outputs": []
    },
    {
      "cell_type": "code",
      "metadata": {
        "colab": {
          "base_uri": "https://localhost:8080/",
          "height": 439
        },
        "id": "FyW_TNoe9WgW",
        "outputId": "21195f7e-bd44-4395-f1ec-efb63cfe2916"
      },
      "source": [
        "df2[df2['PromoOpen']<0]"
      ],
      "execution_count": null,
      "outputs": [
        {
          "output_type": "execute_result",
          "data": {
            "text/html": [
              "<div>\n",
              "<style scoped>\n",
              "    .dataframe tbody tr th:only-of-type {\n",
              "        vertical-align: middle;\n",
              "    }\n",
              "\n",
              "    .dataframe tbody tr th {\n",
              "        vertical-align: top;\n",
              "    }\n",
              "\n",
              "    .dataframe thead th {\n",
              "        text-align: right;\n",
              "    }\n",
              "</style>\n",
              "<table border=\"1\" class=\"dataframe\">\n",
              "  <thead>\n",
              "    <tr style=\"text-align: right;\">\n",
              "      <th></th>\n",
              "      <th>Store</th>\n",
              "      <th>DayOfWeek</th>\n",
              "      <th>Sales</th>\n",
              "      <th>Customers</th>\n",
              "      <th>Open</th>\n",
              "      <th>Promo</th>\n",
              "      <th>StateHoliday</th>\n",
              "      <th>SchoolHoliday</th>\n",
              "      <th>Year</th>\n",
              "      <th>Month</th>\n",
              "      <th>Day</th>\n",
              "      <th>Week</th>\n",
              "      <th>WeekOfYear</th>\n",
              "      <th>StoreType</th>\n",
              "      <th>Assortment</th>\n",
              "      <th>CompetitionDistance</th>\n",
              "      <th>CompetitionOpenSinceMonth</th>\n",
              "      <th>CompetitionOpenSinceYear</th>\n",
              "      <th>Promo2</th>\n",
              "      <th>Promo2SinceWeek</th>\n",
              "      <th>Promo2SinceYear</th>\n",
              "      <th>PromoInterval</th>\n",
              "      <th>CompetitionOpen</th>\n",
              "      <th>PromoOpen</th>\n",
              "    </tr>\n",
              "  </thead>\n",
              "  <tbody>\n",
              "    <tr>\n",
              "      <th>17926</th>\n",
              "      <td>20</td>\n",
              "      <td>1</td>\n",
              "      <td>9229</td>\n",
              "      <td>954</td>\n",
              "      <td>1</td>\n",
              "      <td>1</td>\n",
              "      <td>0</td>\n",
              "      <td>0</td>\n",
              "      <td>2014</td>\n",
              "      <td>6</td>\n",
              "      <td>30</td>\n",
              "      <td>3</td>\n",
              "      <td>27</td>\n",
              "      <td>d</td>\n",
              "      <td>a</td>\n",
              "      <td>2340.0</td>\n",
              "      <td>5.0</td>\n",
              "      <td>2009.0</td>\n",
              "      <td>1</td>\n",
              "      <td>40.0</td>\n",
              "      <td>2014.0</td>\n",
              "      <td>Jan,Apr,Jul,Oct</td>\n",
              "      <td>61</td>\n",
              "      <td>-4.00</td>\n",
              "    </tr>\n",
              "    <tr>\n",
              "      <th>17927</th>\n",
              "      <td>20</td>\n",
              "      <td>7</td>\n",
              "      <td>0</td>\n",
              "      <td>0</td>\n",
              "      <td>0</td>\n",
              "      <td>0</td>\n",
              "      <td>0</td>\n",
              "      <td>0</td>\n",
              "      <td>2014</td>\n",
              "      <td>6</td>\n",
              "      <td>29</td>\n",
              "      <td>2</td>\n",
              "      <td>26</td>\n",
              "      <td>d</td>\n",
              "      <td>a</td>\n",
              "      <td>2340.0</td>\n",
              "      <td>5.0</td>\n",
              "      <td>2009.0</td>\n",
              "      <td>1</td>\n",
              "      <td>40.0</td>\n",
              "      <td>2014.0</td>\n",
              "      <td>Jan,Apr,Jul,Oct</td>\n",
              "      <td>61</td>\n",
              "      <td>-4.00</td>\n",
              "    </tr>\n",
              "    <tr>\n",
              "      <th>17928</th>\n",
              "      <td>20</td>\n",
              "      <td>6</td>\n",
              "      <td>5572</td>\n",
              "      <td>566</td>\n",
              "      <td>1</td>\n",
              "      <td>0</td>\n",
              "      <td>0</td>\n",
              "      <td>0</td>\n",
              "      <td>2014</td>\n",
              "      <td>6</td>\n",
              "      <td>28</td>\n",
              "      <td>2</td>\n",
              "      <td>26</td>\n",
              "      <td>d</td>\n",
              "      <td>a</td>\n",
              "      <td>2340.0</td>\n",
              "      <td>5.0</td>\n",
              "      <td>2009.0</td>\n",
              "      <td>1</td>\n",
              "      <td>40.0</td>\n",
              "      <td>2014.0</td>\n",
              "      <td>Jan,Apr,Jul,Oct</td>\n",
              "      <td>61</td>\n",
              "      <td>-4.00</td>\n",
              "    </tr>\n",
              "    <tr>\n",
              "      <th>17929</th>\n",
              "      <td>20</td>\n",
              "      <td>5</td>\n",
              "      <td>7149</td>\n",
              "      <td>839</td>\n",
              "      <td>1</td>\n",
              "      <td>0</td>\n",
              "      <td>0</td>\n",
              "      <td>0</td>\n",
              "      <td>2014</td>\n",
              "      <td>6</td>\n",
              "      <td>27</td>\n",
              "      <td>2</td>\n",
              "      <td>26</td>\n",
              "      <td>d</td>\n",
              "      <td>a</td>\n",
              "      <td>2340.0</td>\n",
              "      <td>5.0</td>\n",
              "      <td>2009.0</td>\n",
              "      <td>1</td>\n",
              "      <td>40.0</td>\n",
              "      <td>2014.0</td>\n",
              "      <td>Jan,Apr,Jul,Oct</td>\n",
              "      <td>61</td>\n",
              "      <td>-4.00</td>\n",
              "    </tr>\n",
              "    <tr>\n",
              "      <th>17930</th>\n",
              "      <td>20</td>\n",
              "      <td>4</td>\n",
              "      <td>8118</td>\n",
              "      <td>997</td>\n",
              "      <td>1</td>\n",
              "      <td>0</td>\n",
              "      <td>0</td>\n",
              "      <td>0</td>\n",
              "      <td>2014</td>\n",
              "      <td>6</td>\n",
              "      <td>26</td>\n",
              "      <td>2</td>\n",
              "      <td>26</td>\n",
              "      <td>d</td>\n",
              "      <td>a</td>\n",
              "      <td>2340.0</td>\n",
              "      <td>5.0</td>\n",
              "      <td>2009.0</td>\n",
              "      <td>1</td>\n",
              "      <td>40.0</td>\n",
              "      <td>2014.0</td>\n",
              "      <td>Jan,Apr,Jul,Oct</td>\n",
              "      <td>61</td>\n",
              "      <td>-4.00</td>\n",
              "    </tr>\n",
              "    <tr>\n",
              "      <th>...</th>\n",
              "      <td>...</td>\n",
              "      <td>...</td>\n",
              "      <td>...</td>\n",
              "      <td>...</td>\n",
              "      <td>...</td>\n",
              "      <td>...</td>\n",
              "      <td>...</td>\n",
              "      <td>...</td>\n",
              "      <td>...</td>\n",
              "      <td>...</td>\n",
              "      <td>...</td>\n",
              "      <td>...</td>\n",
              "      <td>...</td>\n",
              "      <td>...</td>\n",
              "      <td>...</td>\n",
              "      <td>...</td>\n",
              "      <td>...</td>\n",
              "      <td>...</td>\n",
              "      <td>...</td>\n",
              "      <td>...</td>\n",
              "      <td>...</td>\n",
              "      <td>...</td>\n",
              "      <td>...</td>\n",
              "      <td>...</td>\n",
              "    </tr>\n",
              "    <tr>\n",
              "      <th>1013436</th>\n",
              "      <td>1111</td>\n",
              "      <td>6</td>\n",
              "      <td>3325</td>\n",
              "      <td>291</td>\n",
              "      <td>1</td>\n",
              "      <td>0</td>\n",
              "      <td>0</td>\n",
              "      <td>0</td>\n",
              "      <td>2013</td>\n",
              "      <td>1</td>\n",
              "      <td>5</td>\n",
              "      <td>1</td>\n",
              "      <td>1</td>\n",
              "      <td>a</td>\n",
              "      <td>a</td>\n",
              "      <td>1900.0</td>\n",
              "      <td>6.0</td>\n",
              "      <td>2014.0</td>\n",
              "      <td>1</td>\n",
              "      <td>31.0</td>\n",
              "      <td>2013.0</td>\n",
              "      <td>Jan,Apr,Jul,Oct</td>\n",
              "      <td>-17</td>\n",
              "      <td>-6.75</td>\n",
              "    </tr>\n",
              "    <tr>\n",
              "      <th>1013437</th>\n",
              "      <td>1111</td>\n",
              "      <td>5</td>\n",
              "      <td>4640</td>\n",
              "      <td>453</td>\n",
              "      <td>1</td>\n",
              "      <td>0</td>\n",
              "      <td>0</td>\n",
              "      <td>1</td>\n",
              "      <td>2013</td>\n",
              "      <td>1</td>\n",
              "      <td>4</td>\n",
              "      <td>1</td>\n",
              "      <td>1</td>\n",
              "      <td>a</td>\n",
              "      <td>a</td>\n",
              "      <td>1900.0</td>\n",
              "      <td>6.0</td>\n",
              "      <td>2014.0</td>\n",
              "      <td>1</td>\n",
              "      <td>31.0</td>\n",
              "      <td>2013.0</td>\n",
              "      <td>Jan,Apr,Jul,Oct</td>\n",
              "      <td>-17</td>\n",
              "      <td>-6.75</td>\n",
              "    </tr>\n",
              "    <tr>\n",
              "      <th>1013438</th>\n",
              "      <td>1111</td>\n",
              "      <td>4</td>\n",
              "      <td>4579</td>\n",
              "      <td>444</td>\n",
              "      <td>1</td>\n",
              "      <td>0</td>\n",
              "      <td>0</td>\n",
              "      <td>1</td>\n",
              "      <td>2013</td>\n",
              "      <td>1</td>\n",
              "      <td>3</td>\n",
              "      <td>1</td>\n",
              "      <td>1</td>\n",
              "      <td>a</td>\n",
              "      <td>a</td>\n",
              "      <td>1900.0</td>\n",
              "      <td>6.0</td>\n",
              "      <td>2014.0</td>\n",
              "      <td>1</td>\n",
              "      <td>31.0</td>\n",
              "      <td>2013.0</td>\n",
              "      <td>Jan,Apr,Jul,Oct</td>\n",
              "      <td>-17</td>\n",
              "      <td>-6.75</td>\n",
              "    </tr>\n",
              "    <tr>\n",
              "      <th>1013439</th>\n",
              "      <td>1111</td>\n",
              "      <td>3</td>\n",
              "      <td>5097</td>\n",
              "      <td>505</td>\n",
              "      <td>1</td>\n",
              "      <td>0</td>\n",
              "      <td>0</td>\n",
              "      <td>1</td>\n",
              "      <td>2013</td>\n",
              "      <td>1</td>\n",
              "      <td>2</td>\n",
              "      <td>1</td>\n",
              "      <td>1</td>\n",
              "      <td>a</td>\n",
              "      <td>a</td>\n",
              "      <td>1900.0</td>\n",
              "      <td>6.0</td>\n",
              "      <td>2014.0</td>\n",
              "      <td>1</td>\n",
              "      <td>31.0</td>\n",
              "      <td>2013.0</td>\n",
              "      <td>Jan,Apr,Jul,Oct</td>\n",
              "      <td>-17</td>\n",
              "      <td>-6.75</td>\n",
              "    </tr>\n",
              "    <tr>\n",
              "      <th>1013440</th>\n",
              "      <td>1111</td>\n",
              "      <td>2</td>\n",
              "      <td>0</td>\n",
              "      <td>0</td>\n",
              "      <td>0</td>\n",
              "      <td>0</td>\n",
              "      <td>a</td>\n",
              "      <td>1</td>\n",
              "      <td>2013</td>\n",
              "      <td>1</td>\n",
              "      <td>1</td>\n",
              "      <td>1</td>\n",
              "      <td>1</td>\n",
              "      <td>a</td>\n",
              "      <td>a</td>\n",
              "      <td>1900.0</td>\n",
              "      <td>6.0</td>\n",
              "      <td>2014.0</td>\n",
              "      <td>1</td>\n",
              "      <td>31.0</td>\n",
              "      <td>2013.0</td>\n",
              "      <td>Jan,Apr,Jul,Oct</td>\n",
              "      <td>-17</td>\n",
              "      <td>-6.75</td>\n",
              "    </tr>\n",
              "  </tbody>\n",
              "</table>\n",
              "<p>69923 rows × 24 columns</p>\n",
              "</div>"
            ],
            "text/plain": [
              "         Store  DayOfWeek  Sales  ...    PromoInterval  CompetitionOpen  PromoOpen\n",
              "17926       20          1   9229  ...  Jan,Apr,Jul,Oct               61      -4.00\n",
              "17927       20          7      0  ...  Jan,Apr,Jul,Oct               61      -4.00\n",
              "17928       20          6   5572  ...  Jan,Apr,Jul,Oct               61      -4.00\n",
              "17929       20          5   7149  ...  Jan,Apr,Jul,Oct               61      -4.00\n",
              "17930       20          4   8118  ...  Jan,Apr,Jul,Oct               61      -4.00\n",
              "...        ...        ...    ...  ...              ...              ...        ...\n",
              "1013436   1111          6   3325  ...  Jan,Apr,Jul,Oct              -17      -6.75\n",
              "1013437   1111          5   4640  ...  Jan,Apr,Jul,Oct              -17      -6.75\n",
              "1013438   1111          4   4579  ...  Jan,Apr,Jul,Oct              -17      -6.75\n",
              "1013439   1111          3   5097  ...  Jan,Apr,Jul,Oct              -17      -6.75\n",
              "1013440   1111          2      0  ...  Jan,Apr,Jul,Oct              -17      -6.75\n",
              "\n",
              "[69923 rows x 24 columns]"
            ]
          },
          "metadata": {
            "tags": []
          },
          "execution_count": 432
        }
      ]
    },
    {
      "cell_type": "code",
      "metadata": {
        "id": "uNSndYVGBJjK"
      },
      "source": [
        "# we can make these PromoOpen negative values to zeros, because they have not started the promos at that time"
      ],
      "execution_count": null,
      "outputs": []
    },
    {
      "cell_type": "code",
      "metadata": {
        "id": "lM5D9hhoBWEY"
      },
      "source": [
        "df2.loc[df2['PromoOpen'] <0, 'PromoOpen' ] = 0"
      ],
      "execution_count": null,
      "outputs": []
    },
    {
      "cell_type": "code",
      "metadata": {
        "colab": {
          "base_uri": "https://localhost:8080/",
          "height": 69
        },
        "id": "T-ECrl4NB6cZ",
        "outputId": "3ae0edc1-9b82-49d7-adf3-9cfc1de190eb"
      },
      "source": [
        "df2[df2['PromoOpen']<0]"
      ],
      "execution_count": null,
      "outputs": [
        {
          "output_type": "execute_result",
          "data": {
            "text/html": [
              "<div>\n",
              "<style scoped>\n",
              "    .dataframe tbody tr th:only-of-type {\n",
              "        vertical-align: middle;\n",
              "    }\n",
              "\n",
              "    .dataframe tbody tr th {\n",
              "        vertical-align: top;\n",
              "    }\n",
              "\n",
              "    .dataframe thead th {\n",
              "        text-align: right;\n",
              "    }\n",
              "</style>\n",
              "<table border=\"1\" class=\"dataframe\">\n",
              "  <thead>\n",
              "    <tr style=\"text-align: right;\">\n",
              "      <th></th>\n",
              "      <th>Store</th>\n",
              "      <th>DayOfWeek</th>\n",
              "      <th>Sales</th>\n",
              "      <th>Customers</th>\n",
              "      <th>Open</th>\n",
              "      <th>Promo</th>\n",
              "      <th>StateHoliday</th>\n",
              "      <th>SchoolHoliday</th>\n",
              "      <th>Year</th>\n",
              "      <th>Month</th>\n",
              "      <th>Day</th>\n",
              "      <th>Week</th>\n",
              "      <th>WeekOfYear</th>\n",
              "      <th>StoreType</th>\n",
              "      <th>Assortment</th>\n",
              "      <th>CompetitionDistance</th>\n",
              "      <th>CompetitionOpenSinceMonth</th>\n",
              "      <th>CompetitionOpenSinceYear</th>\n",
              "      <th>Promo2</th>\n",
              "      <th>Promo2SinceWeek</th>\n",
              "      <th>Promo2SinceYear</th>\n",
              "      <th>PromoInterval</th>\n",
              "      <th>CompetitionOpen</th>\n",
              "      <th>PromoOpen</th>\n",
              "    </tr>\n",
              "  </thead>\n",
              "  <tbody>\n",
              "  </tbody>\n",
              "</table>\n",
              "</div>"
            ],
            "text/plain": [
              "Empty DataFrame\n",
              "Columns: [Store, DayOfWeek, Sales, Customers, Open, Promo, StateHoliday, SchoolHoliday, Year, Month, Day, Week, WeekOfYear, StoreType, Assortment, CompetitionDistance, CompetitionOpenSinceMonth, CompetitionOpenSinceYear, Promo2, Promo2SinceWeek, Promo2SinceYear, PromoInterval, CompetitionOpen, PromoOpen]\n",
              "Index: []"
            ]
          },
          "metadata": {
            "tags": []
          },
          "execution_count": 435
        }
      ]
    },
    {
      "cell_type": "code",
      "metadata": {
        "colab": {
          "base_uri": "https://localhost:8080/",
          "height": 439
        },
        "id": "R7OPzyecCVlg",
        "outputId": "ff1065e7-c439-43c2-ed16-9e1d64b4f64d"
      },
      "source": [
        "df2[df2['CompetitionOpen']<0]"
      ],
      "execution_count": null,
      "outputs": [
        {
          "output_type": "execute_result",
          "data": {
            "text/html": [
              "<div>\n",
              "<style scoped>\n",
              "    .dataframe tbody tr th:only-of-type {\n",
              "        vertical-align: middle;\n",
              "    }\n",
              "\n",
              "    .dataframe tbody tr th {\n",
              "        vertical-align: top;\n",
              "    }\n",
              "\n",
              "    .dataframe thead th {\n",
              "        text-align: right;\n",
              "    }\n",
              "</style>\n",
              "<table border=\"1\" class=\"dataframe\">\n",
              "  <thead>\n",
              "    <tr style=\"text-align: right;\">\n",
              "      <th></th>\n",
              "      <th>Store</th>\n",
              "      <th>DayOfWeek</th>\n",
              "      <th>Sales</th>\n",
              "      <th>Customers</th>\n",
              "      <th>Open</th>\n",
              "      <th>Promo</th>\n",
              "      <th>StateHoliday</th>\n",
              "      <th>SchoolHoliday</th>\n",
              "      <th>Year</th>\n",
              "      <th>Month</th>\n",
              "      <th>Day</th>\n",
              "      <th>Week</th>\n",
              "      <th>WeekOfYear</th>\n",
              "      <th>StoreType</th>\n",
              "      <th>Assortment</th>\n",
              "      <th>CompetitionDistance</th>\n",
              "      <th>CompetitionOpenSinceMonth</th>\n",
              "      <th>CompetitionOpenSinceYear</th>\n",
              "      <th>Promo2</th>\n",
              "      <th>Promo2SinceWeek</th>\n",
              "      <th>Promo2SinceYear</th>\n",
              "      <th>PromoInterval</th>\n",
              "      <th>CompetitionOpen</th>\n",
              "      <th>PromoOpen</th>\n",
              "    </tr>\n",
              "  </thead>\n",
              "  <tbody>\n",
              "    <tr>\n",
              "      <th>3890</th>\n",
              "      <td>5</td>\n",
              "      <td>2</td>\n",
              "      <td>7692</td>\n",
              "      <td>659</td>\n",
              "      <td>1</td>\n",
              "      <td>1</td>\n",
              "      <td>0</td>\n",
              "      <td>0</td>\n",
              "      <td>2015</td>\n",
              "      <td>3</td>\n",
              "      <td>31</td>\n",
              "      <td>2</td>\n",
              "      <td>14</td>\n",
              "      <td>a</td>\n",
              "      <td>a</td>\n",
              "      <td>29910.0</td>\n",
              "      <td>4.0</td>\n",
              "      <td>2015.0</td>\n",
              "      <td>0</td>\n",
              "      <td>0.0</td>\n",
              "      <td>0.0</td>\n",
              "      <td>0</td>\n",
              "      <td>-1</td>\n",
              "      <td>24183.0</td>\n",
              "    </tr>\n",
              "    <tr>\n",
              "      <th>3891</th>\n",
              "      <td>5</td>\n",
              "      <td>1</td>\n",
              "      <td>8847</td>\n",
              "      <td>770</td>\n",
              "      <td>1</td>\n",
              "      <td>1</td>\n",
              "      <td>0</td>\n",
              "      <td>0</td>\n",
              "      <td>2015</td>\n",
              "      <td>3</td>\n",
              "      <td>30</td>\n",
              "      <td>2</td>\n",
              "      <td>14</td>\n",
              "      <td>a</td>\n",
              "      <td>a</td>\n",
              "      <td>29910.0</td>\n",
              "      <td>4.0</td>\n",
              "      <td>2015.0</td>\n",
              "      <td>0</td>\n",
              "      <td>0.0</td>\n",
              "      <td>0.0</td>\n",
              "      <td>0</td>\n",
              "      <td>-1</td>\n",
              "      <td>24183.0</td>\n",
              "    </tr>\n",
              "    <tr>\n",
              "      <th>3892</th>\n",
              "      <td>5</td>\n",
              "      <td>7</td>\n",
              "      <td>0</td>\n",
              "      <td>0</td>\n",
              "      <td>0</td>\n",
              "      <td>0</td>\n",
              "      <td>0</td>\n",
              "      <td>0</td>\n",
              "      <td>2015</td>\n",
              "      <td>3</td>\n",
              "      <td>29</td>\n",
              "      <td>1</td>\n",
              "      <td>13</td>\n",
              "      <td>a</td>\n",
              "      <td>a</td>\n",
              "      <td>29910.0</td>\n",
              "      <td>4.0</td>\n",
              "      <td>2015.0</td>\n",
              "      <td>0</td>\n",
              "      <td>0.0</td>\n",
              "      <td>0.0</td>\n",
              "      <td>0</td>\n",
              "      <td>-1</td>\n",
              "      <td>24183.0</td>\n",
              "    </tr>\n",
              "    <tr>\n",
              "      <th>3893</th>\n",
              "      <td>5</td>\n",
              "      <td>6</td>\n",
              "      <td>2038</td>\n",
              "      <td>219</td>\n",
              "      <td>1</td>\n",
              "      <td>0</td>\n",
              "      <td>0</td>\n",
              "      <td>0</td>\n",
              "      <td>2015</td>\n",
              "      <td>3</td>\n",
              "      <td>28</td>\n",
              "      <td>1</td>\n",
              "      <td>13</td>\n",
              "      <td>a</td>\n",
              "      <td>a</td>\n",
              "      <td>29910.0</td>\n",
              "      <td>4.0</td>\n",
              "      <td>2015.0</td>\n",
              "      <td>0</td>\n",
              "      <td>0.0</td>\n",
              "      <td>0.0</td>\n",
              "      <td>0</td>\n",
              "      <td>-1</td>\n",
              "      <td>24183.0</td>\n",
              "    </tr>\n",
              "    <tr>\n",
              "      <th>3894</th>\n",
              "      <td>5</td>\n",
              "      <td>5</td>\n",
              "      <td>4181</td>\n",
              "      <td>499</td>\n",
              "      <td>1</td>\n",
              "      <td>0</td>\n",
              "      <td>0</td>\n",
              "      <td>0</td>\n",
              "      <td>2015</td>\n",
              "      <td>3</td>\n",
              "      <td>27</td>\n",
              "      <td>1</td>\n",
              "      <td>13</td>\n",
              "      <td>a</td>\n",
              "      <td>a</td>\n",
              "      <td>29910.0</td>\n",
              "      <td>4.0</td>\n",
              "      <td>2015.0</td>\n",
              "      <td>0</td>\n",
              "      <td>0.0</td>\n",
              "      <td>0.0</td>\n",
              "      <td>0</td>\n",
              "      <td>-1</td>\n",
              "      <td>24183.0</td>\n",
              "    </tr>\n",
              "    <tr>\n",
              "      <th>...</th>\n",
              "      <td>...</td>\n",
              "      <td>...</td>\n",
              "      <td>...</td>\n",
              "      <td>...</td>\n",
              "      <td>...</td>\n",
              "      <td>...</td>\n",
              "      <td>...</td>\n",
              "      <td>...</td>\n",
              "      <td>...</td>\n",
              "      <td>...</td>\n",
              "      <td>...</td>\n",
              "      <td>...</td>\n",
              "      <td>...</td>\n",
              "      <td>...</td>\n",
              "      <td>...</td>\n",
              "      <td>...</td>\n",
              "      <td>...</td>\n",
              "      <td>...</td>\n",
              "      <td>...</td>\n",
              "      <td>...</td>\n",
              "      <td>...</td>\n",
              "      <td>...</td>\n",
              "      <td>...</td>\n",
              "      <td>...</td>\n",
              "    </tr>\n",
              "    <tr>\n",
              "      <th>1017204</th>\n",
              "      <td>1115</td>\n",
              "      <td>6</td>\n",
              "      <td>4771</td>\n",
              "      <td>339</td>\n",
              "      <td>1</td>\n",
              "      <td>0</td>\n",
              "      <td>0</td>\n",
              "      <td>1</td>\n",
              "      <td>2013</td>\n",
              "      <td>1</td>\n",
              "      <td>5</td>\n",
              "      <td>1</td>\n",
              "      <td>1</td>\n",
              "      <td>d</td>\n",
              "      <td>c</td>\n",
              "      <td>5350.0</td>\n",
              "      <td>9.0</td>\n",
              "      <td>2013.0</td>\n",
              "      <td>1</td>\n",
              "      <td>22.0</td>\n",
              "      <td>2012.0</td>\n",
              "      <td>Mar,Jun,Sept,Dec</td>\n",
              "      <td>-8</td>\n",
              "      <td>7.5</td>\n",
              "    </tr>\n",
              "    <tr>\n",
              "      <th>1017205</th>\n",
              "      <td>1115</td>\n",
              "      <td>5</td>\n",
              "      <td>4540</td>\n",
              "      <td>326</td>\n",
              "      <td>1</td>\n",
              "      <td>0</td>\n",
              "      <td>0</td>\n",
              "      <td>1</td>\n",
              "      <td>2013</td>\n",
              "      <td>1</td>\n",
              "      <td>4</td>\n",
              "      <td>1</td>\n",
              "      <td>1</td>\n",
              "      <td>d</td>\n",
              "      <td>c</td>\n",
              "      <td>5350.0</td>\n",
              "      <td>9.0</td>\n",
              "      <td>2013.0</td>\n",
              "      <td>1</td>\n",
              "      <td>22.0</td>\n",
              "      <td>2012.0</td>\n",
              "      <td>Mar,Jun,Sept,Dec</td>\n",
              "      <td>-8</td>\n",
              "      <td>7.5</td>\n",
              "    </tr>\n",
              "    <tr>\n",
              "      <th>1017206</th>\n",
              "      <td>1115</td>\n",
              "      <td>4</td>\n",
              "      <td>4297</td>\n",
              "      <td>300</td>\n",
              "      <td>1</td>\n",
              "      <td>0</td>\n",
              "      <td>0</td>\n",
              "      <td>1</td>\n",
              "      <td>2013</td>\n",
              "      <td>1</td>\n",
              "      <td>3</td>\n",
              "      <td>1</td>\n",
              "      <td>1</td>\n",
              "      <td>d</td>\n",
              "      <td>c</td>\n",
              "      <td>5350.0</td>\n",
              "      <td>9.0</td>\n",
              "      <td>2013.0</td>\n",
              "      <td>1</td>\n",
              "      <td>22.0</td>\n",
              "      <td>2012.0</td>\n",
              "      <td>Mar,Jun,Sept,Dec</td>\n",
              "      <td>-8</td>\n",
              "      <td>7.5</td>\n",
              "    </tr>\n",
              "    <tr>\n",
              "      <th>1017207</th>\n",
              "      <td>1115</td>\n",
              "      <td>3</td>\n",
              "      <td>3697</td>\n",
              "      <td>305</td>\n",
              "      <td>1</td>\n",
              "      <td>0</td>\n",
              "      <td>0</td>\n",
              "      <td>1</td>\n",
              "      <td>2013</td>\n",
              "      <td>1</td>\n",
              "      <td>2</td>\n",
              "      <td>1</td>\n",
              "      <td>1</td>\n",
              "      <td>d</td>\n",
              "      <td>c</td>\n",
              "      <td>5350.0</td>\n",
              "      <td>9.0</td>\n",
              "      <td>2013.0</td>\n",
              "      <td>1</td>\n",
              "      <td>22.0</td>\n",
              "      <td>2012.0</td>\n",
              "      <td>Mar,Jun,Sept,Dec</td>\n",
              "      <td>-8</td>\n",
              "      <td>7.5</td>\n",
              "    </tr>\n",
              "    <tr>\n",
              "      <th>1017208</th>\n",
              "      <td>1115</td>\n",
              "      <td>2</td>\n",
              "      <td>0</td>\n",
              "      <td>0</td>\n",
              "      <td>0</td>\n",
              "      <td>0</td>\n",
              "      <td>a</td>\n",
              "      <td>1</td>\n",
              "      <td>2013</td>\n",
              "      <td>1</td>\n",
              "      <td>1</td>\n",
              "      <td>1</td>\n",
              "      <td>1</td>\n",
              "      <td>d</td>\n",
              "      <td>c</td>\n",
              "      <td>5350.0</td>\n",
              "      <td>9.0</td>\n",
              "      <td>2013.0</td>\n",
              "      <td>1</td>\n",
              "      <td>22.0</td>\n",
              "      <td>2012.0</td>\n",
              "      <td>Mar,Jun,Sept,Dec</td>\n",
              "      <td>-8</td>\n",
              "      <td>7.5</td>\n",
              "    </tr>\n",
              "  </tbody>\n",
              "</table>\n",
              "<p>170688 rows × 24 columns</p>\n",
              "</div>"
            ],
            "text/plain": [
              "         Store  DayOfWeek  Sales  ...     PromoInterval  CompetitionOpen  PromoOpen\n",
              "3890         5          2   7692  ...                 0               -1    24183.0\n",
              "3891         5          1   8847  ...                 0               -1    24183.0\n",
              "3892         5          7      0  ...                 0               -1    24183.0\n",
              "3893         5          6   2038  ...                 0               -1    24183.0\n",
              "3894         5          5   4181  ...                 0               -1    24183.0\n",
              "...        ...        ...    ...  ...               ...              ...        ...\n",
              "1017204   1115          6   4771  ...  Mar,Jun,Sept,Dec               -8        7.5\n",
              "1017205   1115          5   4540  ...  Mar,Jun,Sept,Dec               -8        7.5\n",
              "1017206   1115          4   4297  ...  Mar,Jun,Sept,Dec               -8        7.5\n",
              "1017207   1115          3   3697  ...  Mar,Jun,Sept,Dec               -8        7.5\n",
              "1017208   1115          2      0  ...  Mar,Jun,Sept,Dec               -8        7.5\n",
              "\n",
              "[170688 rows x 24 columns]"
            ]
          },
          "metadata": {
            "tags": []
          },
          "execution_count": 436
        }
      ]
    },
    {
      "cell_type": "code",
      "metadata": {
        "id": "4O-puB9eChH7"
      },
      "source": [
        "df2.loc[df2['CompetitionOpen']<0, 'CompetitionOpen'] = 0"
      ],
      "execution_count": null,
      "outputs": []
    },
    {
      "cell_type": "code",
      "metadata": {
        "colab": {
          "base_uri": "https://localhost:8080/",
          "height": 69
        },
        "id": "WiUGWp0SCuw_",
        "outputId": "3ad0f9df-7118-4ec8-c0fb-6012e67daa78"
      },
      "source": [
        "df2[df2['CompetitionOpen']<0]"
      ],
      "execution_count": null,
      "outputs": [
        {
          "output_type": "execute_result",
          "data": {
            "text/html": [
              "<div>\n",
              "<style scoped>\n",
              "    .dataframe tbody tr th:only-of-type {\n",
              "        vertical-align: middle;\n",
              "    }\n",
              "\n",
              "    .dataframe tbody tr th {\n",
              "        vertical-align: top;\n",
              "    }\n",
              "\n",
              "    .dataframe thead th {\n",
              "        text-align: right;\n",
              "    }\n",
              "</style>\n",
              "<table border=\"1\" class=\"dataframe\">\n",
              "  <thead>\n",
              "    <tr style=\"text-align: right;\">\n",
              "      <th></th>\n",
              "      <th>Store</th>\n",
              "      <th>DayOfWeek</th>\n",
              "      <th>Sales</th>\n",
              "      <th>Customers</th>\n",
              "      <th>Open</th>\n",
              "      <th>Promo</th>\n",
              "      <th>StateHoliday</th>\n",
              "      <th>SchoolHoliday</th>\n",
              "      <th>Year</th>\n",
              "      <th>Month</th>\n",
              "      <th>Day</th>\n",
              "      <th>Week</th>\n",
              "      <th>WeekOfYear</th>\n",
              "      <th>StoreType</th>\n",
              "      <th>Assortment</th>\n",
              "      <th>CompetitionDistance</th>\n",
              "      <th>CompetitionOpenSinceMonth</th>\n",
              "      <th>CompetitionOpenSinceYear</th>\n",
              "      <th>Promo2</th>\n",
              "      <th>Promo2SinceWeek</th>\n",
              "      <th>Promo2SinceYear</th>\n",
              "      <th>PromoInterval</th>\n",
              "      <th>CompetitionOpen</th>\n",
              "      <th>PromoOpen</th>\n",
              "    </tr>\n",
              "  </thead>\n",
              "  <tbody>\n",
              "  </tbody>\n",
              "</table>\n",
              "</div>"
            ],
            "text/plain": [
              "Empty DataFrame\n",
              "Columns: [Store, DayOfWeek, Sales, Customers, Open, Promo, StateHoliday, SchoolHoliday, Year, Month, Day, Week, WeekOfYear, StoreType, Assortment, CompetitionDistance, CompetitionOpenSinceMonth, CompetitionOpenSinceYear, Promo2, Promo2SinceWeek, Promo2SinceYear, PromoInterval, CompetitionOpen, PromoOpen]\n",
              "Index: []"
            ]
          },
          "metadata": {
            "tags": []
          },
          "execution_count": 438
        }
      ]
    },
    {
      "cell_type": "code",
      "metadata": {
        "colab": {
          "base_uri": "https://localhost:8080/"
        },
        "id": "GaHUx2BcHE-y",
        "outputId": "b9988f10-35a2-4364-a05b-f2ef3c421fcd"
      },
      "source": [
        "df2['CompetitionOpen'].value_counts()"
      ],
      "execution_count": null,
      "outputs": [
        {
          "output_type": "execute_result",
          "data": {
            "text/plain": [
              "0       186813\n",
              "6        17418\n",
              "4        17377\n",
              "8        17348\n",
              "7        17074\n",
              "         ...  \n",
              "640         28\n",
              "199         28\n",
              "1381        28\n",
              "616         28\n",
              "628         28\n",
              "Name: CompetitionOpen, Length: 336, dtype: int64"
            ]
          },
          "metadata": {
            "tags": []
          },
          "execution_count": 439
        }
      ]
    },
    {
      "cell_type": "code",
      "metadata": {
        "colab": {
          "base_uri": "https://localhost:8080/"
        },
        "id": "5L3GW1GVGu1X",
        "outputId": "59382676-0729-4223-d076-31af431c93dc"
      },
      "source": [
        "df2['PromoOpen'].value_counts()"
      ],
      "execution_count": null,
      "outputs": [
        {
          "output_type": "execute_result",
          "data": {
            "text/plain": [
              "0.0        70285\n",
              "24166.0    16864\n",
              "24183.0    16864\n",
              "24161.0    16864\n",
              "24185.0    16864\n",
              "           ...  \n",
              "48.0          31\n",
              "46.0          31\n",
              "56.0          31\n",
              "49.0          31\n",
              "47.0          30\n",
              "Name: PromoOpen, Length: 293, dtype: int64"
            ]
          },
          "metadata": {
            "tags": []
          },
          "execution_count": 440
        }
      ]
    },
    {
      "cell_type": "code",
      "metadata": {
        "colab": {
          "base_uri": "https://localhost:8080/"
        },
        "id": "s56DlVl7HvwN",
        "outputId": "0ced1c00-be3a-486e-abf2-89c08496641b"
      },
      "source": [
        "df2['PromoOpen'].max() ###########"
      ],
      "execution_count": null,
      "outputs": [
        {
          "output_type": "execute_result",
          "data": {
            "text/plain": [
              "24187.0"
            ]
          },
          "metadata": {
            "tags": []
          },
          "execution_count": 441
        }
      ]
    },
    {
      "cell_type": "code",
      "metadata": {
        "colab": {
          "base_uri": "https://localhost:8080/"
        },
        "id": "dfnHUDtvT_tt",
        "outputId": "27e732e2-7724-44b1-ebc8-8034154c291b"
      },
      "source": [
        "df2['PromoOpen']"
      ],
      "execution_count": null,
      "outputs": [
        {
          "output_type": "execute_result",
          "data": {
            "text/plain": [
              "0          24187.0\n",
              "1          24187.0\n",
              "2          24187.0\n",
              "3          24187.0\n",
              "4          24187.0\n",
              "            ...   \n",
              "1017204        7.5\n",
              "1017205        7.5\n",
              "1017206        7.5\n",
              "1017207        7.5\n",
              "1017208        7.5\n",
              "Name: PromoOpen, Length: 1017209, dtype: float64"
            ]
          },
          "metadata": {
            "tags": []
          },
          "execution_count": 442
        }
      ]
    },
    {
      "cell_type": "code",
      "metadata": {
        "colab": {
          "base_uri": "https://localhost:8080/",
          "height": 224
        },
        "id": "t43Wa9RkUuKw",
        "outputId": "a8c13ee9-1a54-4789-a38f-e1886cd1ed79"
      },
      "source": [
        "df2.head()"
      ],
      "execution_count": null,
      "outputs": [
        {
          "output_type": "execute_result",
          "data": {
            "text/html": [
              "<div>\n",
              "<style scoped>\n",
              "    .dataframe tbody tr th:only-of-type {\n",
              "        vertical-align: middle;\n",
              "    }\n",
              "\n",
              "    .dataframe tbody tr th {\n",
              "        vertical-align: top;\n",
              "    }\n",
              "\n",
              "    .dataframe thead th {\n",
              "        text-align: right;\n",
              "    }\n",
              "</style>\n",
              "<table border=\"1\" class=\"dataframe\">\n",
              "  <thead>\n",
              "    <tr style=\"text-align: right;\">\n",
              "      <th></th>\n",
              "      <th>Store</th>\n",
              "      <th>DayOfWeek</th>\n",
              "      <th>Sales</th>\n",
              "      <th>Customers</th>\n",
              "      <th>Open</th>\n",
              "      <th>Promo</th>\n",
              "      <th>StateHoliday</th>\n",
              "      <th>SchoolHoliday</th>\n",
              "      <th>Year</th>\n",
              "      <th>Month</th>\n",
              "      <th>Day</th>\n",
              "      <th>Week</th>\n",
              "      <th>WeekOfYear</th>\n",
              "      <th>StoreType</th>\n",
              "      <th>Assortment</th>\n",
              "      <th>CompetitionDistance</th>\n",
              "      <th>CompetitionOpenSinceMonth</th>\n",
              "      <th>CompetitionOpenSinceYear</th>\n",
              "      <th>Promo2</th>\n",
              "      <th>Promo2SinceWeek</th>\n",
              "      <th>Promo2SinceYear</th>\n",
              "      <th>PromoInterval</th>\n",
              "      <th>CompetitionOpen</th>\n",
              "      <th>PromoOpen</th>\n",
              "    </tr>\n",
              "  </thead>\n",
              "  <tbody>\n",
              "    <tr>\n",
              "      <th>0</th>\n",
              "      <td>1</td>\n",
              "      <td>5</td>\n",
              "      <td>5263</td>\n",
              "      <td>555</td>\n",
              "      <td>1</td>\n",
              "      <td>1</td>\n",
              "      <td>0</td>\n",
              "      <td>1</td>\n",
              "      <td>2015</td>\n",
              "      <td>7</td>\n",
              "      <td>31</td>\n",
              "      <td>3</td>\n",
              "      <td>31</td>\n",
              "      <td>c</td>\n",
              "      <td>a</td>\n",
              "      <td>1270.0</td>\n",
              "      <td>9.0</td>\n",
              "      <td>2008.0</td>\n",
              "      <td>0</td>\n",
              "      <td>0.0</td>\n",
              "      <td>0.0</td>\n",
              "      <td>0</td>\n",
              "      <td>82</td>\n",
              "      <td>24187.0</td>\n",
              "    </tr>\n",
              "    <tr>\n",
              "      <th>1</th>\n",
              "      <td>1</td>\n",
              "      <td>4</td>\n",
              "      <td>5020</td>\n",
              "      <td>546</td>\n",
              "      <td>1</td>\n",
              "      <td>1</td>\n",
              "      <td>0</td>\n",
              "      <td>1</td>\n",
              "      <td>2015</td>\n",
              "      <td>7</td>\n",
              "      <td>30</td>\n",
              "      <td>3</td>\n",
              "      <td>31</td>\n",
              "      <td>c</td>\n",
              "      <td>a</td>\n",
              "      <td>1270.0</td>\n",
              "      <td>9.0</td>\n",
              "      <td>2008.0</td>\n",
              "      <td>0</td>\n",
              "      <td>0.0</td>\n",
              "      <td>0.0</td>\n",
              "      <td>0</td>\n",
              "      <td>82</td>\n",
              "      <td>24187.0</td>\n",
              "    </tr>\n",
              "    <tr>\n",
              "      <th>2</th>\n",
              "      <td>1</td>\n",
              "      <td>3</td>\n",
              "      <td>4782</td>\n",
              "      <td>523</td>\n",
              "      <td>1</td>\n",
              "      <td>1</td>\n",
              "      <td>0</td>\n",
              "      <td>1</td>\n",
              "      <td>2015</td>\n",
              "      <td>7</td>\n",
              "      <td>29</td>\n",
              "      <td>3</td>\n",
              "      <td>31</td>\n",
              "      <td>c</td>\n",
              "      <td>a</td>\n",
              "      <td>1270.0</td>\n",
              "      <td>9.0</td>\n",
              "      <td>2008.0</td>\n",
              "      <td>0</td>\n",
              "      <td>0.0</td>\n",
              "      <td>0.0</td>\n",
              "      <td>0</td>\n",
              "      <td>82</td>\n",
              "      <td>24187.0</td>\n",
              "    </tr>\n",
              "    <tr>\n",
              "      <th>3</th>\n",
              "      <td>1</td>\n",
              "      <td>2</td>\n",
              "      <td>5011</td>\n",
              "      <td>560</td>\n",
              "      <td>1</td>\n",
              "      <td>1</td>\n",
              "      <td>0</td>\n",
              "      <td>1</td>\n",
              "      <td>2015</td>\n",
              "      <td>7</td>\n",
              "      <td>28</td>\n",
              "      <td>3</td>\n",
              "      <td>31</td>\n",
              "      <td>c</td>\n",
              "      <td>a</td>\n",
              "      <td>1270.0</td>\n",
              "      <td>9.0</td>\n",
              "      <td>2008.0</td>\n",
              "      <td>0</td>\n",
              "      <td>0.0</td>\n",
              "      <td>0.0</td>\n",
              "      <td>0</td>\n",
              "      <td>82</td>\n",
              "      <td>24187.0</td>\n",
              "    </tr>\n",
              "    <tr>\n",
              "      <th>4</th>\n",
              "      <td>1</td>\n",
              "      <td>1</td>\n",
              "      <td>6102</td>\n",
              "      <td>612</td>\n",
              "      <td>1</td>\n",
              "      <td>1</td>\n",
              "      <td>0</td>\n",
              "      <td>1</td>\n",
              "      <td>2015</td>\n",
              "      <td>7</td>\n",
              "      <td>27</td>\n",
              "      <td>3</td>\n",
              "      <td>31</td>\n",
              "      <td>c</td>\n",
              "      <td>a</td>\n",
              "      <td>1270.0</td>\n",
              "      <td>9.0</td>\n",
              "      <td>2008.0</td>\n",
              "      <td>0</td>\n",
              "      <td>0.0</td>\n",
              "      <td>0.0</td>\n",
              "      <td>0</td>\n",
              "      <td>82</td>\n",
              "      <td>24187.0</td>\n",
              "    </tr>\n",
              "  </tbody>\n",
              "</table>\n",
              "</div>"
            ],
            "text/plain": [
              "   Store  DayOfWeek  Sales  ...  PromoInterval  CompetitionOpen  PromoOpen\n",
              "0      1          5   5263  ...              0               82    24187.0\n",
              "1      1          4   5020  ...              0               82    24187.0\n",
              "2      1          3   4782  ...              0               82    24187.0\n",
              "3      1          2   5011  ...              0               82    24187.0\n",
              "4      1          1   6102  ...              0               82    24187.0\n",
              "\n",
              "[5 rows x 24 columns]"
            ]
          },
          "metadata": {
            "tags": []
          },
          "execution_count": 443
        }
      ]
    },
    {
      "cell_type": "code",
      "metadata": {
        "colab": {
          "base_uri": "https://localhost:8080/"
        },
        "id": "TBX5QssUH_8I",
        "outputId": "ac634671-e479-41b6-a19e-209993e1c772"
      },
      "source": [
        "df2['PromoOpen'].min()"
      ],
      "execution_count": null,
      "outputs": [
        {
          "output_type": "execute_result",
          "data": {
            "text/plain": [
              "0.0"
            ]
          },
          "metadata": {
            "tags": []
          },
          "execution_count": 444
        }
      ]
    },
    {
      "cell_type": "code",
      "metadata": {
        "id": "Veq_zqU5O73m"
      },
      "source": [
        "# some negative and some huge values are there\n",
        "# first I will convert the values to zero in PromoOpen which is having Promo2 = 0, because they have not started any promo so no open promo."
      ],
      "execution_count": null,
      "outputs": []
    },
    {
      "cell_type": "code",
      "metadata": {
        "id": "nAekIwZjN5J-"
      },
      "source": [
        "# now we can remove the CompetitionOpenSinceMonth\tCompetitionOpenSinceYear\tPromo2\tPromo2SinceWeek\tPromo2SinceYear"
      ],
      "execution_count": null,
      "outputs": []
    },
    {
      "cell_type": "code",
      "metadata": {
        "colab": {
          "base_uri": "https://localhost:8080/",
          "height": 439
        },
        "id": "hUwZ2lnwybfl",
        "outputId": "4dccd2c4-3294-4b77-92fb-ce4af7ff009e"
      },
      "source": [
        "df2[df2['Promo'] == 0]"
      ],
      "execution_count": null,
      "outputs": [
        {
          "output_type": "execute_result",
          "data": {
            "text/html": [
              "<div>\n",
              "<style scoped>\n",
              "    .dataframe tbody tr th:only-of-type {\n",
              "        vertical-align: middle;\n",
              "    }\n",
              "\n",
              "    .dataframe tbody tr th {\n",
              "        vertical-align: top;\n",
              "    }\n",
              "\n",
              "    .dataframe thead th {\n",
              "        text-align: right;\n",
              "    }\n",
              "</style>\n",
              "<table border=\"1\" class=\"dataframe\">\n",
              "  <thead>\n",
              "    <tr style=\"text-align: right;\">\n",
              "      <th></th>\n",
              "      <th>Store</th>\n",
              "      <th>DayOfWeek</th>\n",
              "      <th>Sales</th>\n",
              "      <th>Customers</th>\n",
              "      <th>Open</th>\n",
              "      <th>Promo</th>\n",
              "      <th>StateHoliday</th>\n",
              "      <th>SchoolHoliday</th>\n",
              "      <th>Year</th>\n",
              "      <th>Month</th>\n",
              "      <th>Day</th>\n",
              "      <th>Week</th>\n",
              "      <th>WeekOfYear</th>\n",
              "      <th>StoreType</th>\n",
              "      <th>Assortment</th>\n",
              "      <th>CompetitionDistance</th>\n",
              "      <th>CompetitionOpenSinceMonth</th>\n",
              "      <th>CompetitionOpenSinceYear</th>\n",
              "      <th>Promo2</th>\n",
              "      <th>Promo2SinceWeek</th>\n",
              "      <th>Promo2SinceYear</th>\n",
              "      <th>PromoInterval</th>\n",
              "      <th>CompetitionOpen</th>\n",
              "      <th>PromoOpen</th>\n",
              "    </tr>\n",
              "  </thead>\n",
              "  <tbody>\n",
              "    <tr>\n",
              "      <th>5</th>\n",
              "      <td>1</td>\n",
              "      <td>7</td>\n",
              "      <td>0</td>\n",
              "      <td>0</td>\n",
              "      <td>0</td>\n",
              "      <td>0</td>\n",
              "      <td>0</td>\n",
              "      <td>0</td>\n",
              "      <td>2015</td>\n",
              "      <td>7</td>\n",
              "      <td>26</td>\n",
              "      <td>2</td>\n",
              "      <td>30</td>\n",
              "      <td>c</td>\n",
              "      <td>a</td>\n",
              "      <td>1270.0</td>\n",
              "      <td>9.0</td>\n",
              "      <td>2008.0</td>\n",
              "      <td>0</td>\n",
              "      <td>0.0</td>\n",
              "      <td>0.0</td>\n",
              "      <td>0</td>\n",
              "      <td>82</td>\n",
              "      <td>24187.0</td>\n",
              "    </tr>\n",
              "    <tr>\n",
              "      <th>6</th>\n",
              "      <td>1</td>\n",
              "      <td>6</td>\n",
              "      <td>4364</td>\n",
              "      <td>500</td>\n",
              "      <td>1</td>\n",
              "      <td>0</td>\n",
              "      <td>0</td>\n",
              "      <td>0</td>\n",
              "      <td>2015</td>\n",
              "      <td>7</td>\n",
              "      <td>25</td>\n",
              "      <td>2</td>\n",
              "      <td>30</td>\n",
              "      <td>c</td>\n",
              "      <td>a</td>\n",
              "      <td>1270.0</td>\n",
              "      <td>9.0</td>\n",
              "      <td>2008.0</td>\n",
              "      <td>0</td>\n",
              "      <td>0.0</td>\n",
              "      <td>0.0</td>\n",
              "      <td>0</td>\n",
              "      <td>82</td>\n",
              "      <td>24187.0</td>\n",
              "    </tr>\n",
              "    <tr>\n",
              "      <th>7</th>\n",
              "      <td>1</td>\n",
              "      <td>5</td>\n",
              "      <td>3706</td>\n",
              "      <td>459</td>\n",
              "      <td>1</td>\n",
              "      <td>0</td>\n",
              "      <td>0</td>\n",
              "      <td>0</td>\n",
              "      <td>2015</td>\n",
              "      <td>7</td>\n",
              "      <td>24</td>\n",
              "      <td>2</td>\n",
              "      <td>30</td>\n",
              "      <td>c</td>\n",
              "      <td>a</td>\n",
              "      <td>1270.0</td>\n",
              "      <td>9.0</td>\n",
              "      <td>2008.0</td>\n",
              "      <td>0</td>\n",
              "      <td>0.0</td>\n",
              "      <td>0.0</td>\n",
              "      <td>0</td>\n",
              "      <td>82</td>\n",
              "      <td>24187.0</td>\n",
              "    </tr>\n",
              "    <tr>\n",
              "      <th>8</th>\n",
              "      <td>1</td>\n",
              "      <td>4</td>\n",
              "      <td>3769</td>\n",
              "      <td>503</td>\n",
              "      <td>1</td>\n",
              "      <td>0</td>\n",
              "      <td>0</td>\n",
              "      <td>0</td>\n",
              "      <td>2015</td>\n",
              "      <td>7</td>\n",
              "      <td>23</td>\n",
              "      <td>2</td>\n",
              "      <td>30</td>\n",
              "      <td>c</td>\n",
              "      <td>a</td>\n",
              "      <td>1270.0</td>\n",
              "      <td>9.0</td>\n",
              "      <td>2008.0</td>\n",
              "      <td>0</td>\n",
              "      <td>0.0</td>\n",
              "      <td>0.0</td>\n",
              "      <td>0</td>\n",
              "      <td>82</td>\n",
              "      <td>24187.0</td>\n",
              "    </tr>\n",
              "    <tr>\n",
              "      <th>9</th>\n",
              "      <td>1</td>\n",
              "      <td>3</td>\n",
              "      <td>3464</td>\n",
              "      <td>463</td>\n",
              "      <td>1</td>\n",
              "      <td>0</td>\n",
              "      <td>0</td>\n",
              "      <td>0</td>\n",
              "      <td>2015</td>\n",
              "      <td>7</td>\n",
              "      <td>22</td>\n",
              "      <td>2</td>\n",
              "      <td>30</td>\n",
              "      <td>c</td>\n",
              "      <td>a</td>\n",
              "      <td>1270.0</td>\n",
              "      <td>9.0</td>\n",
              "      <td>2008.0</td>\n",
              "      <td>0</td>\n",
              "      <td>0.0</td>\n",
              "      <td>0.0</td>\n",
              "      <td>0</td>\n",
              "      <td>82</td>\n",
              "      <td>24187.0</td>\n",
              "    </tr>\n",
              "    <tr>\n",
              "      <th>...</th>\n",
              "      <td>...</td>\n",
              "      <td>...</td>\n",
              "      <td>...</td>\n",
              "      <td>...</td>\n",
              "      <td>...</td>\n",
              "      <td>...</td>\n",
              "      <td>...</td>\n",
              "      <td>...</td>\n",
              "      <td>...</td>\n",
              "      <td>...</td>\n",
              "      <td>...</td>\n",
              "      <td>...</td>\n",
              "      <td>...</td>\n",
              "      <td>...</td>\n",
              "      <td>...</td>\n",
              "      <td>...</td>\n",
              "      <td>...</td>\n",
              "      <td>...</td>\n",
              "      <td>...</td>\n",
              "      <td>...</td>\n",
              "      <td>...</td>\n",
              "      <td>...</td>\n",
              "      <td>...</td>\n",
              "      <td>...</td>\n",
              "    </tr>\n",
              "    <tr>\n",
              "      <th>1017204</th>\n",
              "      <td>1115</td>\n",
              "      <td>6</td>\n",
              "      <td>4771</td>\n",
              "      <td>339</td>\n",
              "      <td>1</td>\n",
              "      <td>0</td>\n",
              "      <td>0</td>\n",
              "      <td>1</td>\n",
              "      <td>2013</td>\n",
              "      <td>1</td>\n",
              "      <td>5</td>\n",
              "      <td>1</td>\n",
              "      <td>1</td>\n",
              "      <td>d</td>\n",
              "      <td>c</td>\n",
              "      <td>5350.0</td>\n",
              "      <td>9.0</td>\n",
              "      <td>2013.0</td>\n",
              "      <td>1</td>\n",
              "      <td>22.0</td>\n",
              "      <td>2012.0</td>\n",
              "      <td>Mar,Jun,Sept,Dec</td>\n",
              "      <td>0</td>\n",
              "      <td>7.5</td>\n",
              "    </tr>\n",
              "    <tr>\n",
              "      <th>1017205</th>\n",
              "      <td>1115</td>\n",
              "      <td>5</td>\n",
              "      <td>4540</td>\n",
              "      <td>326</td>\n",
              "      <td>1</td>\n",
              "      <td>0</td>\n",
              "      <td>0</td>\n",
              "      <td>1</td>\n",
              "      <td>2013</td>\n",
              "      <td>1</td>\n",
              "      <td>4</td>\n",
              "      <td>1</td>\n",
              "      <td>1</td>\n",
              "      <td>d</td>\n",
              "      <td>c</td>\n",
              "      <td>5350.0</td>\n",
              "      <td>9.0</td>\n",
              "      <td>2013.0</td>\n",
              "      <td>1</td>\n",
              "      <td>22.0</td>\n",
              "      <td>2012.0</td>\n",
              "      <td>Mar,Jun,Sept,Dec</td>\n",
              "      <td>0</td>\n",
              "      <td>7.5</td>\n",
              "    </tr>\n",
              "    <tr>\n",
              "      <th>1017206</th>\n",
              "      <td>1115</td>\n",
              "      <td>4</td>\n",
              "      <td>4297</td>\n",
              "      <td>300</td>\n",
              "      <td>1</td>\n",
              "      <td>0</td>\n",
              "      <td>0</td>\n",
              "      <td>1</td>\n",
              "      <td>2013</td>\n",
              "      <td>1</td>\n",
              "      <td>3</td>\n",
              "      <td>1</td>\n",
              "      <td>1</td>\n",
              "      <td>d</td>\n",
              "      <td>c</td>\n",
              "      <td>5350.0</td>\n",
              "      <td>9.0</td>\n",
              "      <td>2013.0</td>\n",
              "      <td>1</td>\n",
              "      <td>22.0</td>\n",
              "      <td>2012.0</td>\n",
              "      <td>Mar,Jun,Sept,Dec</td>\n",
              "      <td>0</td>\n",
              "      <td>7.5</td>\n",
              "    </tr>\n",
              "    <tr>\n",
              "      <th>1017207</th>\n",
              "      <td>1115</td>\n",
              "      <td>3</td>\n",
              "      <td>3697</td>\n",
              "      <td>305</td>\n",
              "      <td>1</td>\n",
              "      <td>0</td>\n",
              "      <td>0</td>\n",
              "      <td>1</td>\n",
              "      <td>2013</td>\n",
              "      <td>1</td>\n",
              "      <td>2</td>\n",
              "      <td>1</td>\n",
              "      <td>1</td>\n",
              "      <td>d</td>\n",
              "      <td>c</td>\n",
              "      <td>5350.0</td>\n",
              "      <td>9.0</td>\n",
              "      <td>2013.0</td>\n",
              "      <td>1</td>\n",
              "      <td>22.0</td>\n",
              "      <td>2012.0</td>\n",
              "      <td>Mar,Jun,Sept,Dec</td>\n",
              "      <td>0</td>\n",
              "      <td>7.5</td>\n",
              "    </tr>\n",
              "    <tr>\n",
              "      <th>1017208</th>\n",
              "      <td>1115</td>\n",
              "      <td>2</td>\n",
              "      <td>0</td>\n",
              "      <td>0</td>\n",
              "      <td>0</td>\n",
              "      <td>0</td>\n",
              "      <td>a</td>\n",
              "      <td>1</td>\n",
              "      <td>2013</td>\n",
              "      <td>1</td>\n",
              "      <td>1</td>\n",
              "      <td>1</td>\n",
              "      <td>1</td>\n",
              "      <td>d</td>\n",
              "      <td>c</td>\n",
              "      <td>5350.0</td>\n",
              "      <td>9.0</td>\n",
              "      <td>2013.0</td>\n",
              "      <td>1</td>\n",
              "      <td>22.0</td>\n",
              "      <td>2012.0</td>\n",
              "      <td>Mar,Jun,Sept,Dec</td>\n",
              "      <td>0</td>\n",
              "      <td>7.5</td>\n",
              "    </tr>\n",
              "  </tbody>\n",
              "</table>\n",
              "<p>629129 rows × 24 columns</p>\n",
              "</div>"
            ],
            "text/plain": [
              "         Store  DayOfWeek  Sales  ...     PromoInterval  CompetitionOpen  PromoOpen\n",
              "5            1          7      0  ...                 0               82    24187.0\n",
              "6            1          6   4364  ...                 0               82    24187.0\n",
              "7            1          5   3706  ...                 0               82    24187.0\n",
              "8            1          4   3769  ...                 0               82    24187.0\n",
              "9            1          3   3464  ...                 0               82    24187.0\n",
              "...        ...        ...    ...  ...               ...              ...        ...\n",
              "1017204   1115          6   4771  ...  Mar,Jun,Sept,Dec                0        7.5\n",
              "1017205   1115          5   4540  ...  Mar,Jun,Sept,Dec                0        7.5\n",
              "1017206   1115          4   4297  ...  Mar,Jun,Sept,Dec                0        7.5\n",
              "1017207   1115          3   3697  ...  Mar,Jun,Sept,Dec                0        7.5\n",
              "1017208   1115          2      0  ...  Mar,Jun,Sept,Dec                0        7.5\n",
              "\n",
              "[629129 rows x 24 columns]"
            ]
          },
          "metadata": {
            "tags": []
          },
          "execution_count": 447
        }
      ]
    },
    {
      "cell_type": "code",
      "metadata": {
        "id": "MOAXqoUkyyEo"
      },
      "source": [
        "df2.loc[df2['Promo2'] ==0, 'PromoOpen'] = 0 # optimized code"
      ],
      "execution_count": null,
      "outputs": []
    },
    {
      "cell_type": "code",
      "metadata": {
        "id": "y8MAcydvEQXr",
        "colab": {
          "base_uri": "https://localhost:8080/",
          "height": 439
        },
        "outputId": "d6b26044-16fb-44a2-ab2c-923a64b9f62d"
      },
      "source": [
        "df2[df2['Promo'] == 0]"
      ],
      "execution_count": null,
      "outputs": [
        {
          "output_type": "execute_result",
          "data": {
            "text/html": [
              "<div>\n",
              "<style scoped>\n",
              "    .dataframe tbody tr th:only-of-type {\n",
              "        vertical-align: middle;\n",
              "    }\n",
              "\n",
              "    .dataframe tbody tr th {\n",
              "        vertical-align: top;\n",
              "    }\n",
              "\n",
              "    .dataframe thead th {\n",
              "        text-align: right;\n",
              "    }\n",
              "</style>\n",
              "<table border=\"1\" class=\"dataframe\">\n",
              "  <thead>\n",
              "    <tr style=\"text-align: right;\">\n",
              "      <th></th>\n",
              "      <th>Store</th>\n",
              "      <th>DayOfWeek</th>\n",
              "      <th>Sales</th>\n",
              "      <th>Customers</th>\n",
              "      <th>Open</th>\n",
              "      <th>Promo</th>\n",
              "      <th>StateHoliday</th>\n",
              "      <th>SchoolHoliday</th>\n",
              "      <th>Year</th>\n",
              "      <th>Month</th>\n",
              "      <th>Day</th>\n",
              "      <th>Week</th>\n",
              "      <th>WeekOfYear</th>\n",
              "      <th>StoreType</th>\n",
              "      <th>Assortment</th>\n",
              "      <th>CompetitionDistance</th>\n",
              "      <th>CompetitionOpenSinceMonth</th>\n",
              "      <th>CompetitionOpenSinceYear</th>\n",
              "      <th>Promo2</th>\n",
              "      <th>Promo2SinceWeek</th>\n",
              "      <th>Promo2SinceYear</th>\n",
              "      <th>PromoInterval</th>\n",
              "      <th>CompetitionOpen</th>\n",
              "      <th>PromoOpen</th>\n",
              "    </tr>\n",
              "  </thead>\n",
              "  <tbody>\n",
              "    <tr>\n",
              "      <th>5</th>\n",
              "      <td>1</td>\n",
              "      <td>7</td>\n",
              "      <td>0</td>\n",
              "      <td>0</td>\n",
              "      <td>0</td>\n",
              "      <td>0</td>\n",
              "      <td>0</td>\n",
              "      <td>0</td>\n",
              "      <td>2015</td>\n",
              "      <td>7</td>\n",
              "      <td>26</td>\n",
              "      <td>2</td>\n",
              "      <td>30</td>\n",
              "      <td>c</td>\n",
              "      <td>a</td>\n",
              "      <td>1270.0</td>\n",
              "      <td>9.0</td>\n",
              "      <td>2008.0</td>\n",
              "      <td>0</td>\n",
              "      <td>0.0</td>\n",
              "      <td>0.0</td>\n",
              "      <td>0</td>\n",
              "      <td>82</td>\n",
              "      <td>0.0</td>\n",
              "    </tr>\n",
              "    <tr>\n",
              "      <th>6</th>\n",
              "      <td>1</td>\n",
              "      <td>6</td>\n",
              "      <td>4364</td>\n",
              "      <td>500</td>\n",
              "      <td>1</td>\n",
              "      <td>0</td>\n",
              "      <td>0</td>\n",
              "      <td>0</td>\n",
              "      <td>2015</td>\n",
              "      <td>7</td>\n",
              "      <td>25</td>\n",
              "      <td>2</td>\n",
              "      <td>30</td>\n",
              "      <td>c</td>\n",
              "      <td>a</td>\n",
              "      <td>1270.0</td>\n",
              "      <td>9.0</td>\n",
              "      <td>2008.0</td>\n",
              "      <td>0</td>\n",
              "      <td>0.0</td>\n",
              "      <td>0.0</td>\n",
              "      <td>0</td>\n",
              "      <td>82</td>\n",
              "      <td>0.0</td>\n",
              "    </tr>\n",
              "    <tr>\n",
              "      <th>7</th>\n",
              "      <td>1</td>\n",
              "      <td>5</td>\n",
              "      <td>3706</td>\n",
              "      <td>459</td>\n",
              "      <td>1</td>\n",
              "      <td>0</td>\n",
              "      <td>0</td>\n",
              "      <td>0</td>\n",
              "      <td>2015</td>\n",
              "      <td>7</td>\n",
              "      <td>24</td>\n",
              "      <td>2</td>\n",
              "      <td>30</td>\n",
              "      <td>c</td>\n",
              "      <td>a</td>\n",
              "      <td>1270.0</td>\n",
              "      <td>9.0</td>\n",
              "      <td>2008.0</td>\n",
              "      <td>0</td>\n",
              "      <td>0.0</td>\n",
              "      <td>0.0</td>\n",
              "      <td>0</td>\n",
              "      <td>82</td>\n",
              "      <td>0.0</td>\n",
              "    </tr>\n",
              "    <tr>\n",
              "      <th>8</th>\n",
              "      <td>1</td>\n",
              "      <td>4</td>\n",
              "      <td>3769</td>\n",
              "      <td>503</td>\n",
              "      <td>1</td>\n",
              "      <td>0</td>\n",
              "      <td>0</td>\n",
              "      <td>0</td>\n",
              "      <td>2015</td>\n",
              "      <td>7</td>\n",
              "      <td>23</td>\n",
              "      <td>2</td>\n",
              "      <td>30</td>\n",
              "      <td>c</td>\n",
              "      <td>a</td>\n",
              "      <td>1270.0</td>\n",
              "      <td>9.0</td>\n",
              "      <td>2008.0</td>\n",
              "      <td>0</td>\n",
              "      <td>0.0</td>\n",
              "      <td>0.0</td>\n",
              "      <td>0</td>\n",
              "      <td>82</td>\n",
              "      <td>0.0</td>\n",
              "    </tr>\n",
              "    <tr>\n",
              "      <th>9</th>\n",
              "      <td>1</td>\n",
              "      <td>3</td>\n",
              "      <td>3464</td>\n",
              "      <td>463</td>\n",
              "      <td>1</td>\n",
              "      <td>0</td>\n",
              "      <td>0</td>\n",
              "      <td>0</td>\n",
              "      <td>2015</td>\n",
              "      <td>7</td>\n",
              "      <td>22</td>\n",
              "      <td>2</td>\n",
              "      <td>30</td>\n",
              "      <td>c</td>\n",
              "      <td>a</td>\n",
              "      <td>1270.0</td>\n",
              "      <td>9.0</td>\n",
              "      <td>2008.0</td>\n",
              "      <td>0</td>\n",
              "      <td>0.0</td>\n",
              "      <td>0.0</td>\n",
              "      <td>0</td>\n",
              "      <td>82</td>\n",
              "      <td>0.0</td>\n",
              "    </tr>\n",
              "    <tr>\n",
              "      <th>...</th>\n",
              "      <td>...</td>\n",
              "      <td>...</td>\n",
              "      <td>...</td>\n",
              "      <td>...</td>\n",
              "      <td>...</td>\n",
              "      <td>...</td>\n",
              "      <td>...</td>\n",
              "      <td>...</td>\n",
              "      <td>...</td>\n",
              "      <td>...</td>\n",
              "      <td>...</td>\n",
              "      <td>...</td>\n",
              "      <td>...</td>\n",
              "      <td>...</td>\n",
              "      <td>...</td>\n",
              "      <td>...</td>\n",
              "      <td>...</td>\n",
              "      <td>...</td>\n",
              "      <td>...</td>\n",
              "      <td>...</td>\n",
              "      <td>...</td>\n",
              "      <td>...</td>\n",
              "      <td>...</td>\n",
              "      <td>...</td>\n",
              "    </tr>\n",
              "    <tr>\n",
              "      <th>1017204</th>\n",
              "      <td>1115</td>\n",
              "      <td>6</td>\n",
              "      <td>4771</td>\n",
              "      <td>339</td>\n",
              "      <td>1</td>\n",
              "      <td>0</td>\n",
              "      <td>0</td>\n",
              "      <td>1</td>\n",
              "      <td>2013</td>\n",
              "      <td>1</td>\n",
              "      <td>5</td>\n",
              "      <td>1</td>\n",
              "      <td>1</td>\n",
              "      <td>d</td>\n",
              "      <td>c</td>\n",
              "      <td>5350.0</td>\n",
              "      <td>9.0</td>\n",
              "      <td>2013.0</td>\n",
              "      <td>1</td>\n",
              "      <td>22.0</td>\n",
              "      <td>2012.0</td>\n",
              "      <td>Mar,Jun,Sept,Dec</td>\n",
              "      <td>0</td>\n",
              "      <td>7.5</td>\n",
              "    </tr>\n",
              "    <tr>\n",
              "      <th>1017205</th>\n",
              "      <td>1115</td>\n",
              "      <td>5</td>\n",
              "      <td>4540</td>\n",
              "      <td>326</td>\n",
              "      <td>1</td>\n",
              "      <td>0</td>\n",
              "      <td>0</td>\n",
              "      <td>1</td>\n",
              "      <td>2013</td>\n",
              "      <td>1</td>\n",
              "      <td>4</td>\n",
              "      <td>1</td>\n",
              "      <td>1</td>\n",
              "      <td>d</td>\n",
              "      <td>c</td>\n",
              "      <td>5350.0</td>\n",
              "      <td>9.0</td>\n",
              "      <td>2013.0</td>\n",
              "      <td>1</td>\n",
              "      <td>22.0</td>\n",
              "      <td>2012.0</td>\n",
              "      <td>Mar,Jun,Sept,Dec</td>\n",
              "      <td>0</td>\n",
              "      <td>7.5</td>\n",
              "    </tr>\n",
              "    <tr>\n",
              "      <th>1017206</th>\n",
              "      <td>1115</td>\n",
              "      <td>4</td>\n",
              "      <td>4297</td>\n",
              "      <td>300</td>\n",
              "      <td>1</td>\n",
              "      <td>0</td>\n",
              "      <td>0</td>\n",
              "      <td>1</td>\n",
              "      <td>2013</td>\n",
              "      <td>1</td>\n",
              "      <td>3</td>\n",
              "      <td>1</td>\n",
              "      <td>1</td>\n",
              "      <td>d</td>\n",
              "      <td>c</td>\n",
              "      <td>5350.0</td>\n",
              "      <td>9.0</td>\n",
              "      <td>2013.0</td>\n",
              "      <td>1</td>\n",
              "      <td>22.0</td>\n",
              "      <td>2012.0</td>\n",
              "      <td>Mar,Jun,Sept,Dec</td>\n",
              "      <td>0</td>\n",
              "      <td>7.5</td>\n",
              "    </tr>\n",
              "    <tr>\n",
              "      <th>1017207</th>\n",
              "      <td>1115</td>\n",
              "      <td>3</td>\n",
              "      <td>3697</td>\n",
              "      <td>305</td>\n",
              "      <td>1</td>\n",
              "      <td>0</td>\n",
              "      <td>0</td>\n",
              "      <td>1</td>\n",
              "      <td>2013</td>\n",
              "      <td>1</td>\n",
              "      <td>2</td>\n",
              "      <td>1</td>\n",
              "      <td>1</td>\n",
              "      <td>d</td>\n",
              "      <td>c</td>\n",
              "      <td>5350.0</td>\n",
              "      <td>9.0</td>\n",
              "      <td>2013.0</td>\n",
              "      <td>1</td>\n",
              "      <td>22.0</td>\n",
              "      <td>2012.0</td>\n",
              "      <td>Mar,Jun,Sept,Dec</td>\n",
              "      <td>0</td>\n",
              "      <td>7.5</td>\n",
              "    </tr>\n",
              "    <tr>\n",
              "      <th>1017208</th>\n",
              "      <td>1115</td>\n",
              "      <td>2</td>\n",
              "      <td>0</td>\n",
              "      <td>0</td>\n",
              "      <td>0</td>\n",
              "      <td>0</td>\n",
              "      <td>a</td>\n",
              "      <td>1</td>\n",
              "      <td>2013</td>\n",
              "      <td>1</td>\n",
              "      <td>1</td>\n",
              "      <td>1</td>\n",
              "      <td>1</td>\n",
              "      <td>d</td>\n",
              "      <td>c</td>\n",
              "      <td>5350.0</td>\n",
              "      <td>9.0</td>\n",
              "      <td>2013.0</td>\n",
              "      <td>1</td>\n",
              "      <td>22.0</td>\n",
              "      <td>2012.0</td>\n",
              "      <td>Mar,Jun,Sept,Dec</td>\n",
              "      <td>0</td>\n",
              "      <td>7.5</td>\n",
              "    </tr>\n",
              "  </tbody>\n",
              "</table>\n",
              "<p>629129 rows × 24 columns</p>\n",
              "</div>"
            ],
            "text/plain": [
              "         Store  DayOfWeek  Sales  ...     PromoInterval  CompetitionOpen  PromoOpen\n",
              "5            1          7      0  ...                 0               82        0.0\n",
              "6            1          6   4364  ...                 0               82        0.0\n",
              "7            1          5   3706  ...                 0               82        0.0\n",
              "8            1          4   3769  ...                 0               82        0.0\n",
              "9            1          3   3464  ...                 0               82        0.0\n",
              "...        ...        ...    ...  ...               ...              ...        ...\n",
              "1017204   1115          6   4771  ...  Mar,Jun,Sept,Dec                0        7.5\n",
              "1017205   1115          5   4540  ...  Mar,Jun,Sept,Dec                0        7.5\n",
              "1017206   1115          4   4297  ...  Mar,Jun,Sept,Dec                0        7.5\n",
              "1017207   1115          3   3697  ...  Mar,Jun,Sept,Dec                0        7.5\n",
              "1017208   1115          2      0  ...  Mar,Jun,Sept,Dec                0        7.5\n",
              "\n",
              "[629129 rows x 24 columns]"
            ]
          },
          "metadata": {
            "tags": []
          },
          "execution_count": 449
        }
      ]
    },
    {
      "cell_type": "code",
      "metadata": {
        "id": "VfmenqivczqW",
        "colab": {
          "base_uri": "https://localhost:8080/"
        },
        "outputId": "45b34ebd-6252-4cf4-b03a-0f0f35548ca7"
      },
      "source": [
        "df2['PromoOpen'].value_counts()"
      ],
      "execution_count": null,
      "outputs": [
        {
          "output_type": "execute_result",
          "data": {
            "text/plain": [
              "0.00     578316\n",
              "39.75      4245\n",
              "23.50      4169\n",
              "24.50      4138\n",
              "21.50      4134\n",
              "          ...  \n",
              "56.00        31\n",
              "48.00        31\n",
              "49.00        31\n",
              "46.00        31\n",
              "47.00        30\n",
              "Name: PromoOpen, Length: 262, dtype: int64"
            ]
          },
          "metadata": {
            "tags": []
          },
          "execution_count": 450
        }
      ]
    },
    {
      "cell_type": "code",
      "metadata": {
        "id": "7quVl_lJn0HQ"
      },
      "source": [
        "df2.drop(['CompetitionOpenSinceMonth',\t'CompetitionOpenSinceYear',\t'Promo2',\t'Promo2SinceWeek'\t,'Promo2SinceYear'], axis= 1, inplace = True)"
      ],
      "execution_count": null,
      "outputs": []
    },
    {
      "cell_type": "code",
      "metadata": {
        "id": "itPCENC1oKbf"
      },
      "source": [
        "# change StoreType and Assortment to encoder"
      ],
      "execution_count": null,
      "outputs": []
    },
    {
      "cell_type": "code",
      "metadata": {
        "id": "wNa-47vnomkm"
      },
      "source": [
        "df2 = pd.get_dummies(columns = ['StoreType',\t'Assortment'], data = df2, drop_first = True)"
      ],
      "execution_count": null,
      "outputs": []
    },
    {
      "cell_type": "code",
      "metadata": {
        "id": "eRehzEUHo3N6"
      },
      "source": [
        "i_sales = df2[df2['Sales'] == 0].index"
      ],
      "execution_count": null,
      "outputs": []
    },
    {
      "cell_type": "code",
      "metadata": {
        "id": "TkxlkiP-pxsw"
      },
      "source": [
        "df2.drop(i_sales, inplace = True)"
      ],
      "execution_count": null,
      "outputs": []
    },
    {
      "cell_type": "code",
      "metadata": {
        "id": "XzOBEmZqqaoE"
      },
      "source": [
        "df2.reset_index(inplace = True)"
      ],
      "execution_count": null,
      "outputs": []
    },
    {
      "cell_type": "code",
      "metadata": {
        "colab": {
          "base_uri": "https://localhost:8080/",
          "height": 439
        },
        "id": "Bs6iAD9Ov26i",
        "outputId": "869ef6a2-61c5-42c0-aba4-7a4ea484975e"
      },
      "source": [
        "df2"
      ],
      "execution_count": null,
      "outputs": [
        {
          "output_type": "execute_result",
          "data": {
            "text/html": [
              "<div>\n",
              "<style scoped>\n",
              "    .dataframe tbody tr th:only-of-type {\n",
              "        vertical-align: middle;\n",
              "    }\n",
              "\n",
              "    .dataframe tbody tr th {\n",
              "        vertical-align: top;\n",
              "    }\n",
              "\n",
              "    .dataframe thead th {\n",
              "        text-align: right;\n",
              "    }\n",
              "</style>\n",
              "<table border=\"1\" class=\"dataframe\">\n",
              "  <thead>\n",
              "    <tr style=\"text-align: right;\">\n",
              "      <th></th>\n",
              "      <th>index</th>\n",
              "      <th>Store</th>\n",
              "      <th>DayOfWeek</th>\n",
              "      <th>Sales</th>\n",
              "      <th>Customers</th>\n",
              "      <th>Open</th>\n",
              "      <th>Promo</th>\n",
              "      <th>StateHoliday</th>\n",
              "      <th>SchoolHoliday</th>\n",
              "      <th>Year</th>\n",
              "      <th>Month</th>\n",
              "      <th>Day</th>\n",
              "      <th>Week</th>\n",
              "      <th>WeekOfYear</th>\n",
              "      <th>CompetitionDistance</th>\n",
              "      <th>PromoInterval</th>\n",
              "      <th>CompetitionOpen</th>\n",
              "      <th>PromoOpen</th>\n",
              "      <th>StoreType_b</th>\n",
              "      <th>StoreType_c</th>\n",
              "      <th>StoreType_d</th>\n",
              "      <th>Assortment_b</th>\n",
              "      <th>Assortment_c</th>\n",
              "    </tr>\n",
              "  </thead>\n",
              "  <tbody>\n",
              "    <tr>\n",
              "      <th>0</th>\n",
              "      <td>0</td>\n",
              "      <td>1</td>\n",
              "      <td>5</td>\n",
              "      <td>5263</td>\n",
              "      <td>555</td>\n",
              "      <td>1</td>\n",
              "      <td>1</td>\n",
              "      <td>0</td>\n",
              "      <td>1</td>\n",
              "      <td>2015</td>\n",
              "      <td>7</td>\n",
              "      <td>31</td>\n",
              "      <td>3</td>\n",
              "      <td>31</td>\n",
              "      <td>1270.0</td>\n",
              "      <td>0</td>\n",
              "      <td>82</td>\n",
              "      <td>0.0</td>\n",
              "      <td>0</td>\n",
              "      <td>1</td>\n",
              "      <td>0</td>\n",
              "      <td>0</td>\n",
              "      <td>0</td>\n",
              "    </tr>\n",
              "    <tr>\n",
              "      <th>1</th>\n",
              "      <td>1</td>\n",
              "      <td>1</td>\n",
              "      <td>4</td>\n",
              "      <td>5020</td>\n",
              "      <td>546</td>\n",
              "      <td>1</td>\n",
              "      <td>1</td>\n",
              "      <td>0</td>\n",
              "      <td>1</td>\n",
              "      <td>2015</td>\n",
              "      <td>7</td>\n",
              "      <td>30</td>\n",
              "      <td>3</td>\n",
              "      <td>31</td>\n",
              "      <td>1270.0</td>\n",
              "      <td>0</td>\n",
              "      <td>82</td>\n",
              "      <td>0.0</td>\n",
              "      <td>0</td>\n",
              "      <td>1</td>\n",
              "      <td>0</td>\n",
              "      <td>0</td>\n",
              "      <td>0</td>\n",
              "    </tr>\n",
              "    <tr>\n",
              "      <th>2</th>\n",
              "      <td>2</td>\n",
              "      <td>1</td>\n",
              "      <td>3</td>\n",
              "      <td>4782</td>\n",
              "      <td>523</td>\n",
              "      <td>1</td>\n",
              "      <td>1</td>\n",
              "      <td>0</td>\n",
              "      <td>1</td>\n",
              "      <td>2015</td>\n",
              "      <td>7</td>\n",
              "      <td>29</td>\n",
              "      <td>3</td>\n",
              "      <td>31</td>\n",
              "      <td>1270.0</td>\n",
              "      <td>0</td>\n",
              "      <td>82</td>\n",
              "      <td>0.0</td>\n",
              "      <td>0</td>\n",
              "      <td>1</td>\n",
              "      <td>0</td>\n",
              "      <td>0</td>\n",
              "      <td>0</td>\n",
              "    </tr>\n",
              "    <tr>\n",
              "      <th>3</th>\n",
              "      <td>3</td>\n",
              "      <td>1</td>\n",
              "      <td>2</td>\n",
              "      <td>5011</td>\n",
              "      <td>560</td>\n",
              "      <td>1</td>\n",
              "      <td>1</td>\n",
              "      <td>0</td>\n",
              "      <td>1</td>\n",
              "      <td>2015</td>\n",
              "      <td>7</td>\n",
              "      <td>28</td>\n",
              "      <td>3</td>\n",
              "      <td>31</td>\n",
              "      <td>1270.0</td>\n",
              "      <td>0</td>\n",
              "      <td>82</td>\n",
              "      <td>0.0</td>\n",
              "      <td>0</td>\n",
              "      <td>1</td>\n",
              "      <td>0</td>\n",
              "      <td>0</td>\n",
              "      <td>0</td>\n",
              "    </tr>\n",
              "    <tr>\n",
              "      <th>4</th>\n",
              "      <td>4</td>\n",
              "      <td>1</td>\n",
              "      <td>1</td>\n",
              "      <td>6102</td>\n",
              "      <td>612</td>\n",
              "      <td>1</td>\n",
              "      <td>1</td>\n",
              "      <td>0</td>\n",
              "      <td>1</td>\n",
              "      <td>2015</td>\n",
              "      <td>7</td>\n",
              "      <td>27</td>\n",
              "      <td>3</td>\n",
              "      <td>31</td>\n",
              "      <td>1270.0</td>\n",
              "      <td>0</td>\n",
              "      <td>82</td>\n",
              "      <td>0.0</td>\n",
              "      <td>0</td>\n",
              "      <td>1</td>\n",
              "      <td>0</td>\n",
              "      <td>0</td>\n",
              "      <td>0</td>\n",
              "    </tr>\n",
              "    <tr>\n",
              "      <th>...</th>\n",
              "      <td>...</td>\n",
              "      <td>...</td>\n",
              "      <td>...</td>\n",
              "      <td>...</td>\n",
              "      <td>...</td>\n",
              "      <td>...</td>\n",
              "      <td>...</td>\n",
              "      <td>...</td>\n",
              "      <td>...</td>\n",
              "      <td>...</td>\n",
              "      <td>...</td>\n",
              "      <td>...</td>\n",
              "      <td>...</td>\n",
              "      <td>...</td>\n",
              "      <td>...</td>\n",
              "      <td>...</td>\n",
              "      <td>...</td>\n",
              "      <td>...</td>\n",
              "      <td>...</td>\n",
              "      <td>...</td>\n",
              "      <td>...</td>\n",
              "      <td>...</td>\n",
              "      <td>...</td>\n",
              "    </tr>\n",
              "    <tr>\n",
              "      <th>844333</th>\n",
              "      <td>1017202</td>\n",
              "      <td>1115</td>\n",
              "      <td>1</td>\n",
              "      <td>6905</td>\n",
              "      <td>471</td>\n",
              "      <td>1</td>\n",
              "      <td>1</td>\n",
              "      <td>0</td>\n",
              "      <td>1</td>\n",
              "      <td>2013</td>\n",
              "      <td>1</td>\n",
              "      <td>7</td>\n",
              "      <td>2</td>\n",
              "      <td>2</td>\n",
              "      <td>5350.0</td>\n",
              "      <td>Mar,Jun,Sept,Dec</td>\n",
              "      <td>0</td>\n",
              "      <td>7.5</td>\n",
              "      <td>0</td>\n",
              "      <td>0</td>\n",
              "      <td>1</td>\n",
              "      <td>0</td>\n",
              "      <td>1</td>\n",
              "    </tr>\n",
              "    <tr>\n",
              "      <th>844334</th>\n",
              "      <td>1017204</td>\n",
              "      <td>1115</td>\n",
              "      <td>6</td>\n",
              "      <td>4771</td>\n",
              "      <td>339</td>\n",
              "      <td>1</td>\n",
              "      <td>0</td>\n",
              "      <td>0</td>\n",
              "      <td>1</td>\n",
              "      <td>2013</td>\n",
              "      <td>1</td>\n",
              "      <td>5</td>\n",
              "      <td>1</td>\n",
              "      <td>1</td>\n",
              "      <td>5350.0</td>\n",
              "      <td>Mar,Jun,Sept,Dec</td>\n",
              "      <td>0</td>\n",
              "      <td>7.5</td>\n",
              "      <td>0</td>\n",
              "      <td>0</td>\n",
              "      <td>1</td>\n",
              "      <td>0</td>\n",
              "      <td>1</td>\n",
              "    </tr>\n",
              "    <tr>\n",
              "      <th>844335</th>\n",
              "      <td>1017205</td>\n",
              "      <td>1115</td>\n",
              "      <td>5</td>\n",
              "      <td>4540</td>\n",
              "      <td>326</td>\n",
              "      <td>1</td>\n",
              "      <td>0</td>\n",
              "      <td>0</td>\n",
              "      <td>1</td>\n",
              "      <td>2013</td>\n",
              "      <td>1</td>\n",
              "      <td>4</td>\n",
              "      <td>1</td>\n",
              "      <td>1</td>\n",
              "      <td>5350.0</td>\n",
              "      <td>Mar,Jun,Sept,Dec</td>\n",
              "      <td>0</td>\n",
              "      <td>7.5</td>\n",
              "      <td>0</td>\n",
              "      <td>0</td>\n",
              "      <td>1</td>\n",
              "      <td>0</td>\n",
              "      <td>1</td>\n",
              "    </tr>\n",
              "    <tr>\n",
              "      <th>844336</th>\n",
              "      <td>1017206</td>\n",
              "      <td>1115</td>\n",
              "      <td>4</td>\n",
              "      <td>4297</td>\n",
              "      <td>300</td>\n",
              "      <td>1</td>\n",
              "      <td>0</td>\n",
              "      <td>0</td>\n",
              "      <td>1</td>\n",
              "      <td>2013</td>\n",
              "      <td>1</td>\n",
              "      <td>3</td>\n",
              "      <td>1</td>\n",
              "      <td>1</td>\n",
              "      <td>5350.0</td>\n",
              "      <td>Mar,Jun,Sept,Dec</td>\n",
              "      <td>0</td>\n",
              "      <td>7.5</td>\n",
              "      <td>0</td>\n",
              "      <td>0</td>\n",
              "      <td>1</td>\n",
              "      <td>0</td>\n",
              "      <td>1</td>\n",
              "    </tr>\n",
              "    <tr>\n",
              "      <th>844337</th>\n",
              "      <td>1017207</td>\n",
              "      <td>1115</td>\n",
              "      <td>3</td>\n",
              "      <td>3697</td>\n",
              "      <td>305</td>\n",
              "      <td>1</td>\n",
              "      <td>0</td>\n",
              "      <td>0</td>\n",
              "      <td>1</td>\n",
              "      <td>2013</td>\n",
              "      <td>1</td>\n",
              "      <td>2</td>\n",
              "      <td>1</td>\n",
              "      <td>1</td>\n",
              "      <td>5350.0</td>\n",
              "      <td>Mar,Jun,Sept,Dec</td>\n",
              "      <td>0</td>\n",
              "      <td>7.5</td>\n",
              "      <td>0</td>\n",
              "      <td>0</td>\n",
              "      <td>1</td>\n",
              "      <td>0</td>\n",
              "      <td>1</td>\n",
              "    </tr>\n",
              "  </tbody>\n",
              "</table>\n",
              "<p>844338 rows × 23 columns</p>\n",
              "</div>"
            ],
            "text/plain": [
              "          index  Store  DayOfWeek  ...  StoreType_d  Assortment_b  Assortment_c\n",
              "0             0      1          5  ...            0             0             0\n",
              "1             1      1          4  ...            0             0             0\n",
              "2             2      1          3  ...            0             0             0\n",
              "3             3      1          2  ...            0             0             0\n",
              "4             4      1          1  ...            0             0             0\n",
              "...         ...    ...        ...  ...          ...           ...           ...\n",
              "844333  1017202   1115          1  ...            1             0             1\n",
              "844334  1017204   1115          6  ...            1             0             1\n",
              "844335  1017205   1115          5  ...            1             0             1\n",
              "844336  1017206   1115          4  ...            1             0             1\n",
              "844337  1017207   1115          3  ...            1             0             1\n",
              "\n",
              "[844338 rows x 23 columns]"
            ]
          },
          "metadata": {
            "tags": []
          },
          "execution_count": 457
        }
      ]
    },
    {
      "cell_type": "code",
      "metadata": {
        "id": "5J2GtG0IwOU_"
      },
      "source": [
        "col_df2 =['Store', 'DayOfWeek', 'Customers', 'Open', 'Promo',\n",
        "       'StateHoliday', 'SchoolHoliday', 'Year', 'Month', 'Day', 'Week',\n",
        "       'WeekOfYear', 'CompetitionDistance', 'PromoInterval', 'CompetitionOpen', 'PromoOpen',\n",
        "       'StoreType_b', 'StoreType_c', 'StoreType_d', 'Assortment_b',\n",
        "       'Assortment_c', 'Sales']"
      ],
      "execution_count": null,
      "outputs": []
    },
    {
      "cell_type": "code",
      "metadata": {
        "id": "55l_WYXEq-oz"
      },
      "source": [
        "df2 = df2.reindex(columns =col_df2)"
      ],
      "execution_count": null,
      "outputs": []
    },
    {
      "cell_type": "code",
      "metadata": {
        "colab": {
          "base_uri": "https://localhost:8080/",
          "height": 224
        },
        "id": "TAQ5YrGnrFRE",
        "outputId": "f5bf23ba-f844-4fe0-b5d2-2f1bed9eff3a"
      },
      "source": [
        "df2.head()"
      ],
      "execution_count": null,
      "outputs": [
        {
          "output_type": "execute_result",
          "data": {
            "text/html": [
              "<div>\n",
              "<style scoped>\n",
              "    .dataframe tbody tr th:only-of-type {\n",
              "        vertical-align: middle;\n",
              "    }\n",
              "\n",
              "    .dataframe tbody tr th {\n",
              "        vertical-align: top;\n",
              "    }\n",
              "\n",
              "    .dataframe thead th {\n",
              "        text-align: right;\n",
              "    }\n",
              "</style>\n",
              "<table border=\"1\" class=\"dataframe\">\n",
              "  <thead>\n",
              "    <tr style=\"text-align: right;\">\n",
              "      <th></th>\n",
              "      <th>Store</th>\n",
              "      <th>DayOfWeek</th>\n",
              "      <th>Customers</th>\n",
              "      <th>Open</th>\n",
              "      <th>Promo</th>\n",
              "      <th>StateHoliday</th>\n",
              "      <th>SchoolHoliday</th>\n",
              "      <th>Year</th>\n",
              "      <th>Month</th>\n",
              "      <th>Day</th>\n",
              "      <th>Week</th>\n",
              "      <th>WeekOfYear</th>\n",
              "      <th>CompetitionDistance</th>\n",
              "      <th>PromoInterval</th>\n",
              "      <th>CompetitionOpen</th>\n",
              "      <th>PromoOpen</th>\n",
              "      <th>StoreType_b</th>\n",
              "      <th>StoreType_c</th>\n",
              "      <th>StoreType_d</th>\n",
              "      <th>Assortment_b</th>\n",
              "      <th>Assortment_c</th>\n",
              "      <th>Sales</th>\n",
              "    </tr>\n",
              "  </thead>\n",
              "  <tbody>\n",
              "    <tr>\n",
              "      <th>0</th>\n",
              "      <td>1</td>\n",
              "      <td>5</td>\n",
              "      <td>555</td>\n",
              "      <td>1</td>\n",
              "      <td>1</td>\n",
              "      <td>0</td>\n",
              "      <td>1</td>\n",
              "      <td>2015</td>\n",
              "      <td>7</td>\n",
              "      <td>31</td>\n",
              "      <td>3</td>\n",
              "      <td>31</td>\n",
              "      <td>1270.0</td>\n",
              "      <td>0</td>\n",
              "      <td>82</td>\n",
              "      <td>0.0</td>\n",
              "      <td>0</td>\n",
              "      <td>1</td>\n",
              "      <td>0</td>\n",
              "      <td>0</td>\n",
              "      <td>0</td>\n",
              "      <td>5263</td>\n",
              "    </tr>\n",
              "    <tr>\n",
              "      <th>1</th>\n",
              "      <td>1</td>\n",
              "      <td>4</td>\n",
              "      <td>546</td>\n",
              "      <td>1</td>\n",
              "      <td>1</td>\n",
              "      <td>0</td>\n",
              "      <td>1</td>\n",
              "      <td>2015</td>\n",
              "      <td>7</td>\n",
              "      <td>30</td>\n",
              "      <td>3</td>\n",
              "      <td>31</td>\n",
              "      <td>1270.0</td>\n",
              "      <td>0</td>\n",
              "      <td>82</td>\n",
              "      <td>0.0</td>\n",
              "      <td>0</td>\n",
              "      <td>1</td>\n",
              "      <td>0</td>\n",
              "      <td>0</td>\n",
              "      <td>0</td>\n",
              "      <td>5020</td>\n",
              "    </tr>\n",
              "    <tr>\n",
              "      <th>2</th>\n",
              "      <td>1</td>\n",
              "      <td>3</td>\n",
              "      <td>523</td>\n",
              "      <td>1</td>\n",
              "      <td>1</td>\n",
              "      <td>0</td>\n",
              "      <td>1</td>\n",
              "      <td>2015</td>\n",
              "      <td>7</td>\n",
              "      <td>29</td>\n",
              "      <td>3</td>\n",
              "      <td>31</td>\n",
              "      <td>1270.0</td>\n",
              "      <td>0</td>\n",
              "      <td>82</td>\n",
              "      <td>0.0</td>\n",
              "      <td>0</td>\n",
              "      <td>1</td>\n",
              "      <td>0</td>\n",
              "      <td>0</td>\n",
              "      <td>0</td>\n",
              "      <td>4782</td>\n",
              "    </tr>\n",
              "    <tr>\n",
              "      <th>3</th>\n",
              "      <td>1</td>\n",
              "      <td>2</td>\n",
              "      <td>560</td>\n",
              "      <td>1</td>\n",
              "      <td>1</td>\n",
              "      <td>0</td>\n",
              "      <td>1</td>\n",
              "      <td>2015</td>\n",
              "      <td>7</td>\n",
              "      <td>28</td>\n",
              "      <td>3</td>\n",
              "      <td>31</td>\n",
              "      <td>1270.0</td>\n",
              "      <td>0</td>\n",
              "      <td>82</td>\n",
              "      <td>0.0</td>\n",
              "      <td>0</td>\n",
              "      <td>1</td>\n",
              "      <td>0</td>\n",
              "      <td>0</td>\n",
              "      <td>0</td>\n",
              "      <td>5011</td>\n",
              "    </tr>\n",
              "    <tr>\n",
              "      <th>4</th>\n",
              "      <td>1</td>\n",
              "      <td>1</td>\n",
              "      <td>612</td>\n",
              "      <td>1</td>\n",
              "      <td>1</td>\n",
              "      <td>0</td>\n",
              "      <td>1</td>\n",
              "      <td>2015</td>\n",
              "      <td>7</td>\n",
              "      <td>27</td>\n",
              "      <td>3</td>\n",
              "      <td>31</td>\n",
              "      <td>1270.0</td>\n",
              "      <td>0</td>\n",
              "      <td>82</td>\n",
              "      <td>0.0</td>\n",
              "      <td>0</td>\n",
              "      <td>1</td>\n",
              "      <td>0</td>\n",
              "      <td>0</td>\n",
              "      <td>0</td>\n",
              "      <td>6102</td>\n",
              "    </tr>\n",
              "  </tbody>\n",
              "</table>\n",
              "</div>"
            ],
            "text/plain": [
              "   Store  DayOfWeek  Customers  ...  Assortment_b  Assortment_c Sales\n",
              "0      1          5        555  ...             0             0  5263\n",
              "1      1          4        546  ...             0             0  5020\n",
              "2      1          3        523  ...             0             0  4782\n",
              "3      1          2        560  ...             0             0  5011\n",
              "4      1          1        612  ...             0             0  6102\n",
              "\n",
              "[5 rows x 22 columns]"
            ]
          },
          "metadata": {
            "tags": []
          },
          "execution_count": 460
        }
      ]
    },
    {
      "cell_type": "code",
      "metadata": {
        "id": "IwmN-DasJdSC"
      },
      "source": [
        ""
      ],
      "execution_count": null,
      "outputs": []
    },
    {
      "cell_type": "code",
      "metadata": {
        "colab": {
          "base_uri": "https://localhost:8080/"
        },
        "id": "h4Dm6HGeIfBN",
        "outputId": "83b53efe-8bb8-43d4-8859-4d3e1467157e"
      },
      "source": [
        "print(df2['CompetitionOpen'].max())\n",
        "print(df2['CompetitionOpen'].min())\n",
        "\n",
        "print(df2['PromoOpen'].max())\n",
        "print(df2['PromoOpen'].min()) ########\n"
      ],
      "execution_count": null,
      "outputs": [
        {
          "output_type": "stream",
          "text": [
            "1386\n",
            "0\n",
            "71.25\n",
            "0.0\n"
          ],
          "name": "stdout"
        }
      ]
    },
    {
      "cell_type": "code",
      "metadata": {
        "id": "6awYAxtSczhE",
        "colab": {
          "base_uri": "https://localhost:8080/"
        },
        "outputId": "42b5c986-8e9b-48a3-e097-873f4d4bd691"
      },
      "source": [
        "df2[df2['CompetitionOpen'] == 1386]['Store'].unique()"
      ],
      "execution_count": null,
      "outputs": [
        {
          "output_type": "execute_result",
          "data": {
            "text/plain": [
              "array([815])"
            ]
          },
          "metadata": {
            "tags": []
          },
          "execution_count": 462
        }
      ]
    },
    {
      "cell_type": "code",
      "metadata": {
        "colab": {
          "base_uri": "https://localhost:8080/"
        },
        "id": "5gCafyodYGRE",
        "outputId": "d16b029e-a993-476f-e06d-f5e1b80e6237"
      },
      "source": [
        "df2[df2['PromoOpen'] == 71.25]['Store'].unique()"
      ],
      "execution_count": null,
      "outputs": [
        {
          "output_type": "execute_result",
          "data": {
            "text/plain": [
              "array([158, 277, 370, 612, 637, 808, 960])"
            ]
          },
          "metadata": {
            "tags": []
          },
          "execution_count": 463
        }
      ]
    },
    {
      "cell_type": "code",
      "metadata": {
        "colab": {
          "base_uri": "https://localhost:8080/",
          "height": 677
        },
        "id": "Un0ynIixrG_5",
        "outputId": "f93c43f1-ae42-40ca-8c30-11bb7c61ae23"
      },
      "source": [
        "plt.figure(figsize=(15,10))\n",
        "sns.distplot(df2['Sales'])"
      ],
      "execution_count": null,
      "outputs": [
        {
          "output_type": "stream",
          "text": [
            "/usr/local/lib/python3.7/dist-packages/seaborn/distributions.py:2557: FutureWarning: `distplot` is a deprecated function and will be removed in a future version. Please adapt your code to use either `displot` (a figure-level function with similar flexibility) or `histplot` (an axes-level function for histograms).\n",
            "  warnings.warn(msg, FutureWarning)\n"
          ],
          "name": "stderr"
        },
        {
          "output_type": "execute_result",
          "data": {
            "text/plain": [
              "<matplotlib.axes._subplots.AxesSubplot at 0x7efc94920bd0>"
            ]
          },
          "metadata": {
            "tags": []
          },
          "execution_count": 464
        },
        {
          "output_type": "display_data",
          "data": {
            "image/png": "[encoded data removed]",
            "text/plain": [
              "<Figure size 1080x720 with 1 Axes>"
            ]
          },
          "metadata": {
            "tags": [],
            "needs_background": "light"
          }
        }
      ]
    },
    {
      "cell_type": "code",
      "metadata": {
        "id": "Hp5y7hvsh-m4"
      },
      "source": [
        "# so its a right skewed, we can use log"
      ],
      "execution_count": null,
      "outputs": []
    },
    {
      "cell_type": "code",
      "metadata": {
        "colab": {
          "base_uri": "https://localhost:8080/",
          "height": 677
        },
        "id": "G35XKwgkh-MH",
        "outputId": "5fef5412-07ae-406e-d7f5-a07cb9b23a19"
      },
      "source": [
        "plt.figure(figsize=(15,10))\n",
        "sns.distplot(np.sqrt(df2['Sales']))"
      ],
      "execution_count": null,
      "outputs": [
        {
          "output_type": "stream",
          "text": [
            "/usr/local/lib/python3.7/dist-packages/seaborn/distributions.py:2557: FutureWarning: `distplot` is a deprecated function and will be removed in a future version. Please adapt your code to use either `displot` (a figure-level function with similar flexibility) or `histplot` (an axes-level function for histograms).\n",
            "  warnings.warn(msg, FutureWarning)\n"
          ],
          "name": "stderr"
        },
        {
          "output_type": "execute_result",
          "data": {
            "text/plain": [
              "<matplotlib.axes._subplots.AxesSubplot at 0x7efc9594e910>"
            ]
          },
          "metadata": {
            "tags": []
          },
          "execution_count": 466
        },
        {
          "output_type": "display_data",
          "data": {
            "image/png": "[encoded data removed]",
            "text/plain": [
              "<Figure size 1080x720 with 1 Axes>"
            ]
          },
          "metadata": {
            "tags": [],
            "needs_background": "light"
          }
        }
      ]
    },
    {
      "cell_type": "code",
      "metadata": {
        "id": "rvb6OIq7hNrh"
      },
      "source": [
        "df2 = pd.get_dummies(columns = ['PromoInterval', 'StateHoliday'], data = df2, drop_first = True)"
      ],
      "execution_count": null,
      "outputs": []
    },
    {
      "cell_type": "code",
      "metadata": {
        "id": "hZdGoFxdjmON"
      },
      "source": [
        "# lets check the independent variables"
      ],
      "execution_count": null,
      "outputs": []
    },
    {
      "cell_type": "code",
      "metadata": {
        "id": "u-bNDCiGklyQ",
        "colab": {
          "base_uri": "https://localhost:8080/"
        },
        "outputId": "173eccf6-99cc-4135-93de-21e96760c512"
      },
      "source": [
        "df2.describe().columns"
      ],
      "execution_count": null,
      "outputs": [
        {
          "output_type": "execute_result",
          "data": {
            "text/plain": [
              "Index(['Store', 'DayOfWeek', 'Customers', 'Open', 'Promo', 'SchoolHoliday',\n",
              "       'Year', 'Month', 'Day', 'Week', 'WeekOfYear', 'CompetitionDistance',\n",
              "       'CompetitionOpen', 'PromoOpen', 'StoreType_b', 'StoreType_c',\n",
              "       'StoreType_d', 'Assortment_b', 'Assortment_c', 'Sales',\n",
              "       'PromoInterval_Feb,May,Aug,Nov', 'PromoInterval_Jan,Apr,Jul,Oct',\n",
              "       'PromoInterval_Mar,Jun,Sept,Dec', 'StateHoliday_0', 'StateHoliday_a',\n",
              "       'StateHoliday_b', 'StateHoliday_c'],\n",
              "      dtype='object')"
            ]
          },
          "metadata": {
            "tags": []
          },
          "execution_count": 469
        }
      ]
    },
    {
      "cell_type": "code",
      "metadata": {
        "id": "DrJxjowLoYQs"
      },
      "source": [
        "numeric_feature = ['Customers', 'CompetitionDistance','CompetitionOpen', 'PromoOpen']"
      ],
      "execution_count": null,
      "outputs": []
    },
    {
      "cell_type": "code",
      "metadata": {
        "colab": {
          "base_uri": "https://localhost:8080/",
          "height": 1000
        },
        "id": "T-GrxOjyoQL0",
        "outputId": "42d1ad72-3d83-499c-b214-29c87b599e50"
      },
      "source": [
        "for col in numeric_feature:\n",
        "  fig = plt.figure(figsize=(9, 6))\n",
        "  ax = fig.gca()\n",
        "  df2[col].hist(bins=50, ax = ax)\n",
        "  ax.axvline(df2[col].mean(), color = 'pink',linestyle='dashed', linewidth=2)\n",
        "  ax.axvline(df2[col].median(), color = 'red',linestyle='dashed', linewidth=2)\n",
        "  ax.set_title(col)\n",
        "\n",
        "\n"
      ],
      "execution_count": null,
      "outputs": [
        {
          "output_type": "display_data",
          "data": {
            "image/png": "[encoded data removed]",
            "text/plain": [
              "<Figure size 648x432 with 1 Axes>"
            ]
          },
          "metadata": {
            "tags": [],
            "needs_background": "light"
          }
        },
        {
          "output_type": "display_data",
          "data": {
            "image/png": "[encoded data removed]",
            "text/plain": [
              "<Figure size 648x432 with 1 Axes>"
            ]
          },
          "metadata": {
            "tags": [],
            "needs_background": "light"
          }
        },
        {
          "output_type": "display_data",
          "data": {
            "image/png": "[encoded data removed]",
            "text/plain": [
              "<Figure size 648x432 with 1 Axes>"
            ]
          },
          "metadata": {
            "tags": [],
            "needs_background": "light"
          }
        },
        {
          "output_type": "display_data",
          "data": {
            "image/png": "[encoded data removed]",
            "text/plain": [
              "<Figure size 648x432 with 1 Axes>"
            ]
          },
          "metadata": {
            "tags": [],
            "needs_background": "light"
          }
        }
      ]
    },
    {
      "cell_type": "code",
      "metadata": {
        "id": "zQpKdSZGiO2c"
      },
      "source": [
        "# change to logarithm to get normal"
      ],
      "execution_count": null,
      "outputs": []
    },
    {
      "cell_type": "code",
      "metadata": {
        "colab": {
          "base_uri": "https://localhost:8080/"
        },
        "id": "WurzQLys_aBN",
        "outputId": "9dd7045e-d1b8-4d89-ef3f-90bee92a60f6"
      },
      "source": [
        "df2['PromoOpen'][14866]"
      ],
      "execution_count": null,
      "outputs": [
        {
          "output_type": "execute_result",
          "data": {
            "text/plain": [
              "0.0"
            ]
          },
          "metadata": {
            "tags": []
          },
          "execution_count": 473
        }
      ]
    },
    {
      "cell_type": "code",
      "metadata": {
        "id": "bZ0VQDRLiTk3"
      },
      "source": [
        "df2['Customer_ln'] = df2['Customers'].map(lambda x : np.log(x) if x != 0 else 0)\n",
        "df2['CompetitionDistance_ln'] = df2['CompetitionDistance'].map(lambda x : np.log(x) if x != 0 else 0)\n",
        "df2['PromoOpen_ln'] = df2['PromoOpen'].map(lambda x : np.log(x) if x != 0 else 0)\n",
        "df2['CompetitionOpen_ln'] = df2['CompetitionOpen'].map(lambda x : np.log(x) if x != 0 else 0)\n",
        "df2['Sales_sqrt'] = df2['Sales'].map(lambda x : np.sqrt(x) if x != 0 else 0)\n",
        "\n"
      ],
      "execution_count": null,
      "outputs": []
    },
    {
      "cell_type": "code",
      "metadata": {
        "id": "__PXR6UwiTKy"
      },
      "source": [
        "numeric_feature_ln = ['Customer_ln','CompetitionDistance_ln','PromoOpen_ln','CompetitionOpen_ln']"
      ],
      "execution_count": null,
      "outputs": []
    },
    {
      "cell_type": "code",
      "metadata": {
        "colab": {
          "base_uri": "https://localhost:8080/",
          "height": 1000
        },
        "id": "4ohGy0JztA7J",
        "outputId": "7e611433-75c8-4b21-f740-54012d0a1091"
      },
      "source": [
        "for col in numeric_feature_ln:\n",
        "  fig = plt.figure(figsize=(9, 6))\n",
        "  ax = fig.gca()\n",
        "  df2[col].hist(bins=50, ax = ax)\n",
        "  ax.axvline(df2[col].mean(), color = 'pink',linestyle='dashed', linewidth=2)\n",
        "  ax.axvline(df2[col].median(), color = 'red',linestyle='dashed', linewidth=2)\n",
        "  ax.set_title(col)"
      ],
      "execution_count": null,
      "outputs": [
        {
          "output_type": "display_data",
          "data": {
            "image/png": "[encoded data removed]",
            "text/plain": [
              "<Figure size 648x432 with 1 Axes>"
            ]
          },
          "metadata": {
            "tags": [],
            "needs_background": "light"
          }
        },
        {
          "output_type": "display_data",
          "data": {
            "image/png": "[encoded data removed]",
            "text/plain": [
              "<Figure size 648x432 with 1 Axes>"
            ]
          },
          "metadata": {
            "tags": [],
            "needs_background": "light"
          }
        },
        {
          "output_type": "display_data",
          "data": {
            "image/png": "[encoded data removed]",
            "text/plain": [
              "<Figure size 648x432 with 1 Axes>"
            ]
          },
          "metadata": {
            "tags": [],
            "needs_background": "light"
          }
        },
        {
          "output_type": "display_data",
          "data": {
            "image/png": "[encoded data removed]",
            "text/plain": [
              "<Figure size 648x432 with 1 Axes>"
            ]
          },
          "metadata": {
            "tags": [],
            "needs_background": "light"
          }
        }
      ]
    },
    {
      "cell_type": "code",
      "metadata": {
        "colab": {
          "base_uri": "https://localhost:8080/",
          "height": 439
        },
        "id": "-NV3m-epdyJj",
        "outputId": "8eeff172-1e4e-4450-e050-7457616df59d"
      },
      "source": [
        "df2"
      ],
      "execution_count": null,
      "outputs": [
        {
          "output_type": "execute_result",
          "data": {
            "text/html": [
              "<div>\n",
              "<style scoped>\n",
              "    .dataframe tbody tr th:only-of-type {\n",
              "        vertical-align: middle;\n",
              "    }\n",
              "\n",
              "    .dataframe tbody tr th {\n",
              "        vertical-align: top;\n",
              "    }\n",
              "\n",
              "    .dataframe thead th {\n",
              "        text-align: right;\n",
              "    }\n",
              "</style>\n",
              "<table border=\"1\" class=\"dataframe\">\n",
              "  <thead>\n",
              "    <tr style=\"text-align: right;\">\n",
              "      <th></th>\n",
              "      <th>Store</th>\n",
              "      <th>DayOfWeek</th>\n",
              "      <th>Customers</th>\n",
              "      <th>Open</th>\n",
              "      <th>Promo</th>\n",
              "      <th>SchoolHoliday</th>\n",
              "      <th>Year</th>\n",
              "      <th>Month</th>\n",
              "      <th>Day</th>\n",
              "      <th>Week</th>\n",
              "      <th>WeekOfYear</th>\n",
              "      <th>CompetitionDistance</th>\n",
              "      <th>CompetitionOpen</th>\n",
              "      <th>PromoOpen</th>\n",
              "      <th>StoreType_b</th>\n",
              "      <th>StoreType_c</th>\n",
              "      <th>StoreType_d</th>\n",
              "      <th>Assortment_b</th>\n",
              "      <th>Assortment_c</th>\n",
              "      <th>Sales</th>\n",
              "      <th>PromoInterval_Feb,May,Aug,Nov</th>\n",
              "      <th>PromoInterval_Jan,Apr,Jul,Oct</th>\n",
              "      <th>PromoInterval_Mar,Jun,Sept,Dec</th>\n",
              "      <th>StateHoliday_0</th>\n",
              "      <th>StateHoliday_a</th>\n",
              "      <th>StateHoliday_b</th>\n",
              "      <th>StateHoliday_c</th>\n",
              "      <th>Customer_ln</th>\n",
              "      <th>CompetitionDistance_ln</th>\n",
              "      <th>PromoOpen_ln</th>\n",
              "      <th>CompetitionOpen_ln</th>\n",
              "      <th>Sales_sqrt</th>\n",
              "    </tr>\n",
              "  </thead>\n",
              "  <tbody>\n",
              "    <tr>\n",
              "      <th>0</th>\n",
              "      <td>1</td>\n",
              "      <td>5</td>\n",
              "      <td>555</td>\n",
              "      <td>1</td>\n",
              "      <td>1</td>\n",
              "      <td>1</td>\n",
              "      <td>2015</td>\n",
              "      <td>7</td>\n",
              "      <td>31</td>\n",
              "      <td>3</td>\n",
              "      <td>31</td>\n",
              "      <td>1270.0</td>\n",
              "      <td>82</td>\n",
              "      <td>0.0</td>\n",
              "      <td>0</td>\n",
              "      <td>1</td>\n",
              "      <td>0</td>\n",
              "      <td>0</td>\n",
              "      <td>0</td>\n",
              "      <td>5263</td>\n",
              "      <td>0</td>\n",
              "      <td>0</td>\n",
              "      <td>0</td>\n",
              "      <td>1</td>\n",
              "      <td>0</td>\n",
              "      <td>0</td>\n",
              "      <td>0</td>\n",
              "      <td>6.318968</td>\n",
              "      <td>7.146772</td>\n",
              "      <td>0.000000</td>\n",
              "      <td>4.406719</td>\n",
              "      <td>72.546537</td>\n",
              "    </tr>\n",
              "    <tr>\n",
              "      <th>1</th>\n",
              "      <td>1</td>\n",
              "      <td>4</td>\n",
              "      <td>546</td>\n",
              "      <td>1</td>\n",
              "      <td>1</td>\n",
              "      <td>1</td>\n",
              "      <td>2015</td>\n",
              "      <td>7</td>\n",
              "      <td>30</td>\n",
              "      <td>3</td>\n",
              "      <td>31</td>\n",
              "      <td>1270.0</td>\n",
              "      <td>82</td>\n",
              "      <td>0.0</td>\n",
              "      <td>0</td>\n",
              "      <td>1</td>\n",
              "      <td>0</td>\n",
              "      <td>0</td>\n",
              "      <td>0</td>\n",
              "      <td>5020</td>\n",
              "      <td>0</td>\n",
              "      <td>0</td>\n",
              "      <td>0</td>\n",
              "      <td>1</td>\n",
              "      <td>0</td>\n",
              "      <td>0</td>\n",
              "      <td>0</td>\n",
              "      <td>6.302619</td>\n",
              "      <td>7.146772</td>\n",
              "      <td>0.000000</td>\n",
              "      <td>4.406719</td>\n",
              "      <td>70.851958</td>\n",
              "    </tr>\n",
              "    <tr>\n",
              "      <th>2</th>\n",
              "      <td>1</td>\n",
              "      <td>3</td>\n",
              "      <td>523</td>\n",
              "      <td>1</td>\n",
              "      <td>1</td>\n",
              "      <td>1</td>\n",
              "      <td>2015</td>\n",
              "      <td>7</td>\n",
              "      <td>29</td>\n",
              "      <td>3</td>\n",
              "      <td>31</td>\n",
              "      <td>1270.0</td>\n",
              "      <td>82</td>\n",
              "      <td>0.0</td>\n",
              "      <td>0</td>\n",
              "      <td>1</td>\n",
              "      <td>0</td>\n",
              "      <td>0</td>\n",
              "      <td>0</td>\n",
              "      <td>4782</td>\n",
              "      <td>0</td>\n",
              "      <td>0</td>\n",
              "      <td>0</td>\n",
              "      <td>1</td>\n",
              "      <td>0</td>\n",
              "      <td>0</td>\n",
              "      <td>0</td>\n",
              "      <td>6.259581</td>\n",
              "      <td>7.146772</td>\n",
              "      <td>0.000000</td>\n",
              "      <td>4.406719</td>\n",
              "      <td>69.152006</td>\n",
              "    </tr>\n",
              "    <tr>\n",
              "      <th>3</th>\n",
              "      <td>1</td>\n",
              "      <td>2</td>\n",
              "      <td>560</td>\n",
              "      <td>1</td>\n",
              "      <td>1</td>\n",
              "      <td>1</td>\n",
              "      <td>2015</td>\n",
              "      <td>7</td>\n",
              "      <td>28</td>\n",
              "      <td>3</td>\n",
              "      <td>31</td>\n",
              "      <td>1270.0</td>\n",
              "      <td>82</td>\n",
              "      <td>0.0</td>\n",
              "      <td>0</td>\n",
              "      <td>1</td>\n",
              "      <td>0</td>\n",
              "      <td>0</td>\n",
              "      <td>0</td>\n",
              "      <td>5011</td>\n",
              "      <td>0</td>\n",
              "      <td>0</td>\n",
              "      <td>0</td>\n",
              "      <td>1</td>\n",
              "      <td>0</td>\n",
              "      <td>0</td>\n",
              "      <td>0</td>\n",
              "      <td>6.327937</td>\n",
              "      <td>7.146772</td>\n",
              "      <td>0.000000</td>\n",
              "      <td>4.406719</td>\n",
              "      <td>70.788417</td>\n",
              "    </tr>\n",
              "    <tr>\n",
              "      <th>4</th>\n",
              "      <td>1</td>\n",
              "      <td>1</td>\n",
              "      <td>612</td>\n",
              "      <td>1</td>\n",
              "      <td>1</td>\n",
              "      <td>1</td>\n",
              "      <td>2015</td>\n",
              "      <td>7</td>\n",
              "      <td>27</td>\n",
              "      <td>3</td>\n",
              "      <td>31</td>\n",
              "      <td>1270.0</td>\n",
              "      <td>82</td>\n",
              "      <td>0.0</td>\n",
              "      <td>0</td>\n",
              "      <td>1</td>\n",
              "      <td>0</td>\n",
              "      <td>0</td>\n",
              "      <td>0</td>\n",
              "      <td>6102</td>\n",
              "      <td>0</td>\n",
              "      <td>0</td>\n",
              "      <td>0</td>\n",
              "      <td>1</td>\n",
              "      <td>0</td>\n",
              "      <td>0</td>\n",
              "      <td>0</td>\n",
              "      <td>6.416732</td>\n",
              "      <td>7.146772</td>\n",
              "      <td>0.000000</td>\n",
              "      <td>4.406719</td>\n",
              "      <td>78.115299</td>\n",
              "    </tr>\n",
              "    <tr>\n",
              "      <th>...</th>\n",
              "      <td>...</td>\n",
              "      <td>...</td>\n",
              "      <td>...</td>\n",
              "      <td>...</td>\n",
              "      <td>...</td>\n",
              "      <td>...</td>\n",
              "      <td>...</td>\n",
              "      <td>...</td>\n",
              "      <td>...</td>\n",
              "      <td>...</td>\n",
              "      <td>...</td>\n",
              "      <td>...</td>\n",
              "      <td>...</td>\n",
              "      <td>...</td>\n",
              "      <td>...</td>\n",
              "      <td>...</td>\n",
              "      <td>...</td>\n",
              "      <td>...</td>\n",
              "      <td>...</td>\n",
              "      <td>...</td>\n",
              "      <td>...</td>\n",
              "      <td>...</td>\n",
              "      <td>...</td>\n",
              "      <td>...</td>\n",
              "      <td>...</td>\n",
              "      <td>...</td>\n",
              "      <td>...</td>\n",
              "      <td>...</td>\n",
              "      <td>...</td>\n",
              "      <td>...</td>\n",
              "      <td>...</td>\n",
              "      <td>...</td>\n",
              "    </tr>\n",
              "    <tr>\n",
              "      <th>844333</th>\n",
              "      <td>1115</td>\n",
              "      <td>1</td>\n",
              "      <td>471</td>\n",
              "      <td>1</td>\n",
              "      <td>1</td>\n",
              "      <td>1</td>\n",
              "      <td>2013</td>\n",
              "      <td>1</td>\n",
              "      <td>7</td>\n",
              "      <td>2</td>\n",
              "      <td>2</td>\n",
              "      <td>5350.0</td>\n",
              "      <td>0</td>\n",
              "      <td>7.5</td>\n",
              "      <td>0</td>\n",
              "      <td>0</td>\n",
              "      <td>1</td>\n",
              "      <td>0</td>\n",
              "      <td>1</td>\n",
              "      <td>6905</td>\n",
              "      <td>0</td>\n",
              "      <td>0</td>\n",
              "      <td>1</td>\n",
              "      <td>1</td>\n",
              "      <td>0</td>\n",
              "      <td>0</td>\n",
              "      <td>0</td>\n",
              "      <td>6.154858</td>\n",
              "      <td>8.584852</td>\n",
              "      <td>2.014903</td>\n",
              "      <td>0.000000</td>\n",
              "      <td>83.096330</td>\n",
              "    </tr>\n",
              "    <tr>\n",
              "      <th>844334</th>\n",
              "      <td>1115</td>\n",
              "      <td>6</td>\n",
              "      <td>339</td>\n",
              "      <td>1</td>\n",
              "      <td>0</td>\n",
              "      <td>1</td>\n",
              "      <td>2013</td>\n",
              "      <td>1</td>\n",
              "      <td>5</td>\n",
              "      <td>1</td>\n",
              "      <td>1</td>\n",
              "      <td>5350.0</td>\n",
              "      <td>0</td>\n",
              "      <td>7.5</td>\n",
              "      <td>0</td>\n",
              "      <td>0</td>\n",
              "      <td>1</td>\n",
              "      <td>0</td>\n",
              "      <td>1</td>\n",
              "      <td>4771</td>\n",
              "      <td>0</td>\n",
              "      <td>0</td>\n",
              "      <td>1</td>\n",
              "      <td>1</td>\n",
              "      <td>0</td>\n",
              "      <td>0</td>\n",
              "      <td>0</td>\n",
              "      <td>5.826000</td>\n",
              "      <td>8.584852</td>\n",
              "      <td>2.014903</td>\n",
              "      <td>0.000000</td>\n",
              "      <td>69.072426</td>\n",
              "    </tr>\n",
              "    <tr>\n",
              "      <th>844335</th>\n",
              "      <td>1115</td>\n",
              "      <td>5</td>\n",
              "      <td>326</td>\n",
              "      <td>1</td>\n",
              "      <td>0</td>\n",
              "      <td>1</td>\n",
              "      <td>2013</td>\n",
              "      <td>1</td>\n",
              "      <td>4</td>\n",
              "      <td>1</td>\n",
              "      <td>1</td>\n",
              "      <td>5350.0</td>\n",
              "      <td>0</td>\n",
              "      <td>7.5</td>\n",
              "      <td>0</td>\n",
              "      <td>0</td>\n",
              "      <td>1</td>\n",
              "      <td>0</td>\n",
              "      <td>1</td>\n",
              "      <td>4540</td>\n",
              "      <td>0</td>\n",
              "      <td>0</td>\n",
              "      <td>1</td>\n",
              "      <td>1</td>\n",
              "      <td>0</td>\n",
              "      <td>0</td>\n",
              "      <td>0</td>\n",
              "      <td>5.786897</td>\n",
              "      <td>8.584852</td>\n",
              "      <td>2.014903</td>\n",
              "      <td>0.000000</td>\n",
              "      <td>67.379522</td>\n",
              "    </tr>\n",
              "    <tr>\n",
              "      <th>844336</th>\n",
              "      <td>1115</td>\n",
              "      <td>4</td>\n",
              "      <td>300</td>\n",
              "      <td>1</td>\n",
              "      <td>0</td>\n",
              "      <td>1</td>\n",
              "      <td>2013</td>\n",
              "      <td>1</td>\n",
              "      <td>3</td>\n",
              "      <td>1</td>\n",
              "      <td>1</td>\n",
              "      <td>5350.0</td>\n",
              "      <td>0</td>\n",
              "      <td>7.5</td>\n",
              "      <td>0</td>\n",
              "      <td>0</td>\n",
              "      <td>1</td>\n",
              "      <td>0</td>\n",
              "      <td>1</td>\n",
              "      <td>4297</td>\n",
              "      <td>0</td>\n",
              "      <td>0</td>\n",
              "      <td>1</td>\n",
              "      <td>1</td>\n",
              "      <td>0</td>\n",
              "      <td>0</td>\n",
              "      <td>0</td>\n",
              "      <td>5.703782</td>\n",
              "      <td>8.584852</td>\n",
              "      <td>2.014903</td>\n",
              "      <td>0.000000</td>\n",
              "      <td>65.551506</td>\n",
              "    </tr>\n",
              "    <tr>\n",
              "      <th>844337</th>\n",
              "      <td>1115</td>\n",
              "      <td>3</td>\n",
              "      <td>305</td>\n",
              "      <td>1</td>\n",
              "      <td>0</td>\n",
              "      <td>1</td>\n",
              "      <td>2013</td>\n",
              "      <td>1</td>\n",
              "      <td>2</td>\n",
              "      <td>1</td>\n",
              "      <td>1</td>\n",
              "      <td>5350.0</td>\n",
              "      <td>0</td>\n",
              "      <td>7.5</td>\n",
              "      <td>0</td>\n",
              "      <td>0</td>\n",
              "      <td>1</td>\n",
              "      <td>0</td>\n",
              "      <td>1</td>\n",
              "      <td>3697</td>\n",
              "      <td>0</td>\n",
              "      <td>0</td>\n",
              "      <td>1</td>\n",
              "      <td>1</td>\n",
              "      <td>0</td>\n",
              "      <td>0</td>\n",
              "      <td>0</td>\n",
              "      <td>5.720312</td>\n",
              "      <td>8.584852</td>\n",
              "      <td>2.014903</td>\n",
              "      <td>0.000000</td>\n",
              "      <td>60.802960</td>\n",
              "    </tr>\n",
              "  </tbody>\n",
              "</table>\n",
              "<p>844338 rows × 32 columns</p>\n",
              "</div>"
            ],
            "text/plain": [
              "        Store  DayOfWeek  ...  CompetitionOpen_ln  Sales_sqrt\n",
              "0           1          5  ...            4.406719   72.546537\n",
              "1           1          4  ...            4.406719   70.851958\n",
              "2           1          3  ...            4.406719   69.152006\n",
              "3           1          2  ...            4.406719   70.788417\n",
              "4           1          1  ...            4.406719   78.115299\n",
              "...       ...        ...  ...                 ...         ...\n",
              "844333   1115          1  ...            0.000000   83.096330\n",
              "844334   1115          6  ...            0.000000   69.072426\n",
              "844335   1115          5  ...            0.000000   67.379522\n",
              "844336   1115          4  ...            0.000000   65.551506\n",
              "844337   1115          3  ...            0.000000   60.802960\n",
              "\n",
              "[844338 rows x 32 columns]"
            ]
          },
          "metadata": {
            "tags": []
          },
          "execution_count": 477
        }
      ]
    },
    {
      "cell_type": "code",
      "metadata": {
        "id": "8582NXRvdx2T"
      },
      "source": [
        "df2.drop(['Customers','CompetitionDistance','PromoOpen','CompetitionOpen'], axis =1, inplace = True)"
      ],
      "execution_count": null,
      "outputs": []
    },
    {
      "cell_type": "code",
      "metadata": {
        "id": "tP073sUyk3NY"
      },
      "source": [
        "df2.drop(['Sales','Store'], axis =1, inplace = True)\n"
      ],
      "execution_count": null,
      "outputs": []
    },
    {
      "cell_type": "code",
      "metadata": {
        "colab": {
          "base_uri": "https://localhost:8080/",
          "height": 224
        },
        "id": "9GuP7jQrdxhh",
        "outputId": "ff9984ff-306d-4219-d827-15741918820a"
      },
      "source": [
        "df2.head()"
      ],
      "execution_count": null,
      "outputs": [
        {
          "output_type": "execute_result",
          "data": {
            "text/html": [
              "<div>\n",
              "<style scoped>\n",
              "    .dataframe tbody tr th:only-of-type {\n",
              "        vertical-align: middle;\n",
              "    }\n",
              "\n",
              "    .dataframe tbody tr th {\n",
              "        vertical-align: top;\n",
              "    }\n",
              "\n",
              "    .dataframe thead th {\n",
              "        text-align: right;\n",
              "    }\n",
              "</style>\n",
              "<table border=\"1\" class=\"dataframe\">\n",
              "  <thead>\n",
              "    <tr style=\"text-align: right;\">\n",
              "      <th></th>\n",
              "      <th>DayOfWeek</th>\n",
              "      <th>Open</th>\n",
              "      <th>Promo</th>\n",
              "      <th>SchoolHoliday</th>\n",
              "      <th>Year</th>\n",
              "      <th>Month</th>\n",
              "      <th>Day</th>\n",
              "      <th>Week</th>\n",
              "      <th>WeekOfYear</th>\n",
              "      <th>StoreType_b</th>\n",
              "      <th>StoreType_c</th>\n",
              "      <th>StoreType_d</th>\n",
              "      <th>Assortment_b</th>\n",
              "      <th>Assortment_c</th>\n",
              "      <th>PromoInterval_Feb,May,Aug,Nov</th>\n",
              "      <th>PromoInterval_Jan,Apr,Jul,Oct</th>\n",
              "      <th>PromoInterval_Mar,Jun,Sept,Dec</th>\n",
              "      <th>StateHoliday_0</th>\n",
              "      <th>StateHoliday_a</th>\n",
              "      <th>StateHoliday_b</th>\n",
              "      <th>StateHoliday_c</th>\n",
              "      <th>Customer_ln</th>\n",
              "      <th>CompetitionDistance_ln</th>\n",
              "      <th>PromoOpen_ln</th>\n",
              "      <th>CompetitionOpen_ln</th>\n",
              "      <th>Sales_sqrt</th>\n",
              "    </tr>\n",
              "  </thead>\n",
              "  <tbody>\n",
              "    <tr>\n",
              "      <th>0</th>\n",
              "      <td>5</td>\n",
              "      <td>1</td>\n",
              "      <td>1</td>\n",
              "      <td>1</td>\n",
              "      <td>2015</td>\n",
              "      <td>7</td>\n",
              "      <td>31</td>\n",
              "      <td>3</td>\n",
              "      <td>31</td>\n",
              "      <td>0</td>\n",
              "      <td>1</td>\n",
              "      <td>0</td>\n",
              "      <td>0</td>\n",
              "      <td>0</td>\n",
              "      <td>0</td>\n",
              "      <td>0</td>\n",
              "      <td>0</td>\n",
              "      <td>1</td>\n",
              "      <td>0</td>\n",
              "      <td>0</td>\n",
              "      <td>0</td>\n",
              "      <td>6.318968</td>\n",
              "      <td>7.146772</td>\n",
              "      <td>0.0</td>\n",
              "      <td>4.406719</td>\n",
              "      <td>72.546537</td>\n",
              "    </tr>\n",
              "    <tr>\n",
              "      <th>1</th>\n",
              "      <td>4</td>\n",
              "      <td>1</td>\n",
              "      <td>1</td>\n",
              "      <td>1</td>\n",
              "      <td>2015</td>\n",
              "      <td>7</td>\n",
              "      <td>30</td>\n",
              "      <td>3</td>\n",
              "      <td>31</td>\n",
              "      <td>0</td>\n",
              "      <td>1</td>\n",
              "      <td>0</td>\n",
              "      <td>0</td>\n",
              "      <td>0</td>\n",
              "      <td>0</td>\n",
              "      <td>0</td>\n",
              "      <td>0</td>\n",
              "      <td>1</td>\n",
              "      <td>0</td>\n",
              "      <td>0</td>\n",
              "      <td>0</td>\n",
              "      <td>6.302619</td>\n",
              "      <td>7.146772</td>\n",
              "      <td>0.0</td>\n",
              "      <td>4.406719</td>\n",
              "      <td>70.851958</td>\n",
              "    </tr>\n",
              "    <tr>\n",
              "      <th>2</th>\n",
              "      <td>3</td>\n",
              "      <td>1</td>\n",
              "      <td>1</td>\n",
              "      <td>1</td>\n",
              "      <td>2015</td>\n",
              "      <td>7</td>\n",
              "      <td>29</td>\n",
              "      <td>3</td>\n",
              "      <td>31</td>\n",
              "      <td>0</td>\n",
              "      <td>1</td>\n",
              "      <td>0</td>\n",
              "      <td>0</td>\n",
              "      <td>0</td>\n",
              "      <td>0</td>\n",
              "      <td>0</td>\n",
              "      <td>0</td>\n",
              "      <td>1</td>\n",
              "      <td>0</td>\n",
              "      <td>0</td>\n",
              "      <td>0</td>\n",
              "      <td>6.259581</td>\n",
              "      <td>7.146772</td>\n",
              "      <td>0.0</td>\n",
              "      <td>4.406719</td>\n",
              "      <td>69.152006</td>\n",
              "    </tr>\n",
              "    <tr>\n",
              "      <th>3</th>\n",
              "      <td>2</td>\n",
              "      <td>1</td>\n",
              "      <td>1</td>\n",
              "      <td>1</td>\n",
              "      <td>2015</td>\n",
              "      <td>7</td>\n",
              "      <td>28</td>\n",
              "      <td>3</td>\n",
              "      <td>31</td>\n",
              "      <td>0</td>\n",
              "      <td>1</td>\n",
              "      <td>0</td>\n",
              "      <td>0</td>\n",
              "      <td>0</td>\n",
              "      <td>0</td>\n",
              "      <td>0</td>\n",
              "      <td>0</td>\n",
              "      <td>1</td>\n",
              "      <td>0</td>\n",
              "      <td>0</td>\n",
              "      <td>0</td>\n",
              "      <td>6.327937</td>\n",
              "      <td>7.146772</td>\n",
              "      <td>0.0</td>\n",
              "      <td>4.406719</td>\n",
              "      <td>70.788417</td>\n",
              "    </tr>\n",
              "    <tr>\n",
              "      <th>4</th>\n",
              "      <td>1</td>\n",
              "      <td>1</td>\n",
              "      <td>1</td>\n",
              "      <td>1</td>\n",
              "      <td>2015</td>\n",
              "      <td>7</td>\n",
              "      <td>27</td>\n",
              "      <td>3</td>\n",
              "      <td>31</td>\n",
              "      <td>0</td>\n",
              "      <td>1</td>\n",
              "      <td>0</td>\n",
              "      <td>0</td>\n",
              "      <td>0</td>\n",
              "      <td>0</td>\n",
              "      <td>0</td>\n",
              "      <td>0</td>\n",
              "      <td>1</td>\n",
              "      <td>0</td>\n",
              "      <td>0</td>\n",
              "      <td>0</td>\n",
              "      <td>6.416732</td>\n",
              "      <td>7.146772</td>\n",
              "      <td>0.0</td>\n",
              "      <td>4.406719</td>\n",
              "      <td>78.115299</td>\n",
              "    </tr>\n",
              "  </tbody>\n",
              "</table>\n",
              "</div>"
            ],
            "text/plain": [
              "   DayOfWeek  Open  Promo  ...  PromoOpen_ln  CompetitionOpen_ln  Sales_sqrt\n",
              "0          5     1      1  ...           0.0            4.406719   72.546537\n",
              "1          4     1      1  ...           0.0            4.406719   70.851958\n",
              "2          3     1      1  ...           0.0            4.406719   69.152006\n",
              "3          2     1      1  ...           0.0            4.406719   70.788417\n",
              "4          1     1      1  ...           0.0            4.406719   78.115299\n",
              "\n",
              "[5 rows x 26 columns]"
            ]
          },
          "metadata": {
            "tags": []
          },
          "execution_count": 480
        }
      ]
    },
    {
      "cell_type": "code",
      "metadata": {
        "colab": {
          "base_uri": "https://localhost:8080/"
        },
        "id": "XIjVdhzbdxIS",
        "outputId": "7f50d1d0-1f42-4595-ff05-13de17eb586c"
      },
      "source": [
        "df2.Year.value_counts()"
      ],
      "execution_count": null,
      "outputs": [
        {
          "output_type": "execute_result",
          "data": {
            "text/plain": [
              "2013    337924\n",
              "2014    310385\n",
              "2015    196029\n",
              "Name: Year, dtype: int64"
            ]
          },
          "metadata": {
            "tags": []
          },
          "execution_count": 481
        }
      ]
    },
    {
      "cell_type": "code",
      "metadata": {
        "id": "RIYLIqVa8-6t",
        "colab": {
          "base_uri": "https://localhost:8080/",
          "height": 351
        },
        "outputId": "b0255b8c-1177-4ffe-ca87-71985f42c1ab"
      },
      "source": [
        "sns.countplot(df2['Year'])"
      ],
      "execution_count": null,
      "outputs": [
        {
          "output_type": "stream",
          "text": [
            "/usr/local/lib/python3.7/dist-packages/seaborn/_decorators.py:43: FutureWarning: Pass the following variable as a keyword arg: x. From version 0.12, the only valid positional argument will be `data`, and passing other arguments without an explicit keyword will result in an error or misinterpretation.\n",
            "  FutureWarning\n"
          ],
          "name": "stderr"
        },
        {
          "output_type": "execute_result",
          "data": {
            "text/plain": [
              "<matplotlib.axes._subplots.AxesSubplot at 0x7efc97ae0f90>"
            ]
          },
          "metadata": {
            "tags": []
          },
          "execution_count": 482
        },
        {
          "output_type": "display_data",
          "data": {
            "image/png": "[encoded data removed]",
            "text/plain": [
              "<Figure size 432x288 with 1 Axes>"
            ]
          },
          "metadata": {
            "tags": [],
            "needs_background": "light"
          }
        }
      ]
    },
    {
      "cell_type": "code",
      "metadata": {
        "colab": {
          "base_uri": "https://localhost:8080/",
          "height": 204
        },
        "id": "6E1UA95-dwSn",
        "outputId": "439acc99-b6a4-4e3d-94d4-b1d9fa4f589c"
      },
      "source": [
        "from sklearn.preprocessing import StandardScaler\n",
        "Scale =StandardScaler()\n",
        "data = df2[['CompetitionDistance_ln','Customer_ln', 'Sales_sqrt','PromoOpen_ln','CompetitionOpen_ln']]\n",
        "std_data=Scale.fit_transform(data)\n",
        "std_data=pd.DataFrame(std_data, columns = 'scaled_'+ data.columns)\n",
        "std_data.tail()"
      ],
      "execution_count": null,
      "outputs": [
        {
          "output_type": "execute_result",
          "data": {
            "text/html": [
              "<div>\n",
              "<style scoped>\n",
              "    .dataframe tbody tr th:only-of-type {\n",
              "        vertical-align: middle;\n",
              "    }\n",
              "\n",
              "    .dataframe tbody tr th {\n",
              "        vertical-align: top;\n",
              "    }\n",
              "\n",
              "    .dataframe thead th {\n",
              "        text-align: right;\n",
              "    }\n",
              "</style>\n",
              "<table border=\"1\" class=\"dataframe\">\n",
              "  <thead>\n",
              "    <tr style=\"text-align: right;\">\n",
              "      <th></th>\n",
              "      <th>scaled_CompetitionDistance_ln</th>\n",
              "      <th>scaled_Customer_ln</th>\n",
              "      <th>scaled_Sales_sqrt</th>\n",
              "      <th>scaled_PromoOpen_ln</th>\n",
              "      <th>scaled_CompetitionOpen_ln</th>\n",
              "    </tr>\n",
              "  </thead>\n",
              "  <tbody>\n",
              "    <tr>\n",
              "      <th>844333</th>\n",
              "      <td>0.603229</td>\n",
              "      <td>-0.861084</td>\n",
              "      <td>0.088327</td>\n",
              "      <td>0.402423</td>\n",
              "      <td>-1.599798</td>\n",
              "    </tr>\n",
              "    <tr>\n",
              "      <th>844334</th>\n",
              "      <td>0.603229</td>\n",
              "      <td>-1.608170</td>\n",
              "      <td>-0.714806</td>\n",
              "      <td>0.402423</td>\n",
              "      <td>-1.599798</td>\n",
              "    </tr>\n",
              "    <tr>\n",
              "      <th>844335</th>\n",
              "      <td>0.603229</td>\n",
              "      <td>-1.697002</td>\n",
              "      <td>-0.811757</td>\n",
              "      <td>0.402423</td>\n",
              "      <td>-1.599798</td>\n",
              "    </tr>\n",
              "    <tr>\n",
              "      <th>844336</th>\n",
              "      <td>0.603229</td>\n",
              "      <td>-1.885819</td>\n",
              "      <td>-0.916446</td>\n",
              "      <td>0.402423</td>\n",
              "      <td>-1.599798</td>\n",
              "    </tr>\n",
              "    <tr>\n",
              "      <th>844337</th>\n",
              "      <td>0.603229</td>\n",
              "      <td>-1.848268</td>\n",
              "      <td>-1.188390</td>\n",
              "      <td>0.402423</td>\n",
              "      <td>-1.599798</td>\n",
              "    </tr>\n",
              "  </tbody>\n",
              "</table>\n",
              "</div>"
            ],
            "text/plain": [
              "        scaled_CompetitionDistance_ln  ...  scaled_CompetitionOpen_ln\n",
              "844333                       0.603229  ...                  -1.599798\n",
              "844334                       0.603229  ...                  -1.599798\n",
              "844335                       0.603229  ...                  -1.599798\n",
              "844336                       0.603229  ...                  -1.599798\n",
              "844337                       0.603229  ...                  -1.599798\n",
              "\n",
              "[5 rows x 5 columns]"
            ]
          },
          "metadata": {
            "tags": []
          },
          "execution_count": 483
        }
      ]
    },
    {
      "cell_type": "code",
      "metadata": {
        "colab": {
          "base_uri": "https://localhost:8080/",
          "height": 49
        },
        "id": "LbN2Y3kb82iA",
        "outputId": "e95f1248-3b34-4b00-c551-322a07462ecf"
      },
      "source": [
        "std_data[std_data['scaled_PromoOpen_ln'].isnull()]"
      ],
      "execution_count": null,
      "outputs": [
        {
          "output_type": "execute_result",
          "data": {
            "text/html": [
              "<div>\n",
              "<style scoped>\n",
              "    .dataframe tbody tr th:only-of-type {\n",
              "        vertical-align: middle;\n",
              "    }\n",
              "\n",
              "    .dataframe tbody tr th {\n",
              "        vertical-align: top;\n",
              "    }\n",
              "\n",
              "    .dataframe thead th {\n",
              "        text-align: right;\n",
              "    }\n",
              "</style>\n",
              "<table border=\"1\" class=\"dataframe\">\n",
              "  <thead>\n",
              "    <tr style=\"text-align: right;\">\n",
              "      <th></th>\n",
              "      <th>scaled_CompetitionDistance_ln</th>\n",
              "      <th>scaled_Customer_ln</th>\n",
              "      <th>scaled_Sales_sqrt</th>\n",
              "      <th>scaled_PromoOpen_ln</th>\n",
              "      <th>scaled_CompetitionOpen_ln</th>\n",
              "    </tr>\n",
              "  </thead>\n",
              "  <tbody>\n",
              "  </tbody>\n",
              "</table>\n",
              "</div>"
            ],
            "text/plain": [
              "Empty DataFrame\n",
              "Columns: [scaled_CompetitionDistance_ln, scaled_Customer_ln, scaled_Sales_sqrt, scaled_PromoOpen_ln, scaled_CompetitionOpen_ln]\n",
              "Index: []"
            ]
          },
          "metadata": {
            "tags": []
          },
          "execution_count": 484
        }
      ]
    },
    {
      "cell_type": "code",
      "metadata": {
        "id": "M90r7-Dt82Ll"
      },
      "source": [
        ""
      ],
      "execution_count": null,
      "outputs": []
    },
    {
      "cell_type": "code",
      "metadata": {
        "colab": {
          "base_uri": "https://localhost:8080/",
          "height": 224
        },
        "id": "TOSgy99IdwAS",
        "outputId": "06950a84-6053-4a32-e0f6-3cf521a3a54e"
      },
      "source": [
        "df3=pd.concat([df2,std_data], axis=1)\n",
        "df3.tail()"
      ],
      "execution_count": null,
      "outputs": [
        {
          "output_type": "execute_result",
          "data": {
            "text/html": [
              "<div>\n",
              "<style scoped>\n",
              "    .dataframe tbody tr th:only-of-type {\n",
              "        vertical-align: middle;\n",
              "    }\n",
              "\n",
              "    .dataframe tbody tr th {\n",
              "        vertical-align: top;\n",
              "    }\n",
              "\n",
              "    .dataframe thead th {\n",
              "        text-align: right;\n",
              "    }\n",
              "</style>\n",
              "<table border=\"1\" class=\"dataframe\">\n",
              "  <thead>\n",
              "    <tr style=\"text-align: right;\">\n",
              "      <th></th>\n",
              "      <th>DayOfWeek</th>\n",
              "      <th>Open</th>\n",
              "      <th>Promo</th>\n",
              "      <th>SchoolHoliday</th>\n",
              "      <th>Year</th>\n",
              "      <th>Month</th>\n",
              "      <th>Day</th>\n",
              "      <th>Week</th>\n",
              "      <th>WeekOfYear</th>\n",
              "      <th>StoreType_b</th>\n",
              "      <th>StoreType_c</th>\n",
              "      <th>StoreType_d</th>\n",
              "      <th>Assortment_b</th>\n",
              "      <th>Assortment_c</th>\n",
              "      <th>PromoInterval_Feb,May,Aug,Nov</th>\n",
              "      <th>PromoInterval_Jan,Apr,Jul,Oct</th>\n",
              "      <th>PromoInterval_Mar,Jun,Sept,Dec</th>\n",
              "      <th>StateHoliday_0</th>\n",
              "      <th>StateHoliday_a</th>\n",
              "      <th>StateHoliday_b</th>\n",
              "      <th>StateHoliday_c</th>\n",
              "      <th>Customer_ln</th>\n",
              "      <th>CompetitionDistance_ln</th>\n",
              "      <th>PromoOpen_ln</th>\n",
              "      <th>CompetitionOpen_ln</th>\n",
              "      <th>Sales_sqrt</th>\n",
              "      <th>scaled_CompetitionDistance_ln</th>\n",
              "      <th>scaled_Customer_ln</th>\n",
              "      <th>scaled_Sales_sqrt</th>\n",
              "      <th>scaled_PromoOpen_ln</th>\n",
              "      <th>scaled_CompetitionOpen_ln</th>\n",
              "    </tr>\n",
              "  </thead>\n",
              "  <tbody>\n",
              "    <tr>\n",
              "      <th>844333</th>\n",
              "      <td>1</td>\n",
              "      <td>1</td>\n",
              "      <td>1</td>\n",
              "      <td>1</td>\n",
              "      <td>2013</td>\n",
              "      <td>1</td>\n",
              "      <td>7</td>\n",
              "      <td>2</td>\n",
              "      <td>2</td>\n",
              "      <td>0</td>\n",
              "      <td>0</td>\n",
              "      <td>1</td>\n",
              "      <td>0</td>\n",
              "      <td>1</td>\n",
              "      <td>0</td>\n",
              "      <td>0</td>\n",
              "      <td>1</td>\n",
              "      <td>1</td>\n",
              "      <td>0</td>\n",
              "      <td>0</td>\n",
              "      <td>0</td>\n",
              "      <td>6.154858</td>\n",
              "      <td>8.584852</td>\n",
              "      <td>2.014903</td>\n",
              "      <td>0.0</td>\n",
              "      <td>83.096330</td>\n",
              "      <td>0.603229</td>\n",
              "      <td>-0.861084</td>\n",
              "      <td>0.088327</td>\n",
              "      <td>0.402423</td>\n",
              "      <td>-1.599798</td>\n",
              "    </tr>\n",
              "    <tr>\n",
              "      <th>844334</th>\n",
              "      <td>6</td>\n",
              "      <td>1</td>\n",
              "      <td>0</td>\n",
              "      <td>1</td>\n",
              "      <td>2013</td>\n",
              "      <td>1</td>\n",
              "      <td>5</td>\n",
              "      <td>1</td>\n",
              "      <td>1</td>\n",
              "      <td>0</td>\n",
              "      <td>0</td>\n",
              "      <td>1</td>\n",
              "      <td>0</td>\n",
              "      <td>1</td>\n",
              "      <td>0</td>\n",
              "      <td>0</td>\n",
              "      <td>1</td>\n",
              "      <td>1</td>\n",
              "      <td>0</td>\n",
              "      <td>0</td>\n",
              "      <td>0</td>\n",
              "      <td>5.826000</td>\n",
              "      <td>8.584852</td>\n",
              "      <td>2.014903</td>\n",
              "      <td>0.0</td>\n",
              "      <td>69.072426</td>\n",
              "      <td>0.603229</td>\n",
              "      <td>-1.608170</td>\n",
              "      <td>-0.714806</td>\n",
              "      <td>0.402423</td>\n",
              "      <td>-1.599798</td>\n",
              "    </tr>\n",
              "    <tr>\n",
              "      <th>844335</th>\n",
              "      <td>5</td>\n",
              "      <td>1</td>\n",
              "      <td>0</td>\n",
              "      <td>1</td>\n",
              "      <td>2013</td>\n",
              "      <td>1</td>\n",
              "      <td>4</td>\n",
              "      <td>1</td>\n",
              "      <td>1</td>\n",
              "      <td>0</td>\n",
              "      <td>0</td>\n",
              "      <td>1</td>\n",
              "      <td>0</td>\n",
              "      <td>1</td>\n",
              "      <td>0</td>\n",
              "      <td>0</td>\n",
              "      <td>1</td>\n",
              "      <td>1</td>\n",
              "      <td>0</td>\n",
              "      <td>0</td>\n",
              "      <td>0</td>\n",
              "      <td>5.786897</td>\n",
              "      <td>8.584852</td>\n",
              "      <td>2.014903</td>\n",
              "      <td>0.0</td>\n",
              "      <td>67.379522</td>\n",
              "      <td>0.603229</td>\n",
              "      <td>-1.697002</td>\n",
              "      <td>-0.811757</td>\n",
              "      <td>0.402423</td>\n",
              "      <td>-1.599798</td>\n",
              "    </tr>\n",
              "    <tr>\n",
              "      <th>844336</th>\n",
              "      <td>4</td>\n",
              "      <td>1</td>\n",
              "      <td>0</td>\n",
              "      <td>1</td>\n",
              "      <td>2013</td>\n",
              "      <td>1</td>\n",
              "      <td>3</td>\n",
              "      <td>1</td>\n",
              "      <td>1</td>\n",
              "      <td>0</td>\n",
              "      <td>0</td>\n",
              "      <td>1</td>\n",
              "      <td>0</td>\n",
              "      <td>1</td>\n",
              "      <td>0</td>\n",
              "      <td>0</td>\n",
              "      <td>1</td>\n",
              "      <td>1</td>\n",
              "      <td>0</td>\n",
              "      <td>0</td>\n",
              "      <td>0</td>\n",
              "      <td>5.703782</td>\n",
              "      <td>8.584852</td>\n",
              "      <td>2.014903</td>\n",
              "      <td>0.0</td>\n",
              "      <td>65.551506</td>\n",
              "      <td>0.603229</td>\n",
              "      <td>-1.885819</td>\n",
              "      <td>-0.916446</td>\n",
              "      <td>0.402423</td>\n",
              "      <td>-1.599798</td>\n",
              "    </tr>\n",
              "    <tr>\n",
              "      <th>844337</th>\n",
              "      <td>3</td>\n",
              "      <td>1</td>\n",
              "      <td>0</td>\n",
              "      <td>1</td>\n",
              "      <td>2013</td>\n",
              "      <td>1</td>\n",
              "      <td>2</td>\n",
              "      <td>1</td>\n",
              "      <td>1</td>\n",
              "      <td>0</td>\n",
              "      <td>0</td>\n",
              "      <td>1</td>\n",
              "      <td>0</td>\n",
              "      <td>1</td>\n",
              "      <td>0</td>\n",
              "      <td>0</td>\n",
              "      <td>1</td>\n",
              "      <td>1</td>\n",
              "      <td>0</td>\n",
              "      <td>0</td>\n",
              "      <td>0</td>\n",
              "      <td>5.720312</td>\n",
              "      <td>8.584852</td>\n",
              "      <td>2.014903</td>\n",
              "      <td>0.0</td>\n",
              "      <td>60.802960</td>\n",
              "      <td>0.603229</td>\n",
              "      <td>-1.848268</td>\n",
              "      <td>-1.188390</td>\n",
              "      <td>0.402423</td>\n",
              "      <td>-1.599798</td>\n",
              "    </tr>\n",
              "  </tbody>\n",
              "</table>\n",
              "</div>"
            ],
            "text/plain": [
              "        DayOfWeek  Open  ...  scaled_PromoOpen_ln  scaled_CompetitionOpen_ln\n",
              "844333          1     1  ...             0.402423                  -1.599798\n",
              "844334          6     1  ...             0.402423                  -1.599798\n",
              "844335          5     1  ...             0.402423                  -1.599798\n",
              "844336          4     1  ...             0.402423                  -1.599798\n",
              "844337          3     1  ...             0.402423                  -1.599798\n",
              "\n",
              "[5 rows x 31 columns]"
            ]
          },
          "metadata": {
            "tags": []
          },
          "execution_count": 485
        }
      ]
    },
    {
      "cell_type": "code",
      "metadata": {
        "id": "ik86OxpQdvfm",
        "colab": {
          "base_uri": "https://localhost:8080/"
        },
        "outputId": "03ef9020-cc7f-4f10-a172-791773f68a8d"
      },
      "source": [
        "df3.columns"
      ],
      "execution_count": null,
      "outputs": [
        {
          "output_type": "execute_result",
          "data": {
            "text/plain": [
              "Index(['DayOfWeek', 'Open', 'Promo', 'SchoolHoliday', 'Year', 'Month', 'Day',\n",
              "       'Week', 'WeekOfYear', 'StoreType_b', 'StoreType_c', 'StoreType_d',\n",
              "       'Assortment_b', 'Assortment_c', 'PromoInterval_Feb,May,Aug,Nov',\n",
              "       'PromoInterval_Jan,Apr,Jul,Oct', 'PromoInterval_Mar,Jun,Sept,Dec',\n",
              "       'StateHoliday_0', 'StateHoliday_a', 'StateHoliday_b', 'StateHoliday_c',\n",
              "       'Customer_ln', 'CompetitionDistance_ln', 'PromoOpen_ln',\n",
              "       'CompetitionOpen_ln', 'Sales_sqrt', 'scaled_CompetitionDistance_ln',\n",
              "       'scaled_Customer_ln', 'scaled_Sales_sqrt', 'scaled_PromoOpen_ln',\n",
              "       'scaled_CompetitionOpen_ln'],\n",
              "      dtype='object')"
            ]
          },
          "metadata": {
            "tags": []
          },
          "execution_count": 486
        }
      ]
    },
    {
      "cell_type": "code",
      "metadata": {
        "id": "XsFC7NOwWwA3"
      },
      "source": [
        "df3 = df3[['DayOfWeek', 'Open', 'Promo', 'SchoolHoliday', 'Year', 'Month', 'Day',\n",
        "       'Week', 'WeekOfYear', 'StoreType_b', 'StoreType_c', 'StoreType_d',\n",
        "       'Assortment_b', 'Assortment_c', 'PromoInterval_Feb,May,Aug,Nov',\n",
        "       'PromoInterval_Jan,Apr,Jul,Oct', 'PromoInterval_Mar,Jun,Sept,Dec',\n",
        "       'StateHoliday_0', 'StateHoliday_a', 'StateHoliday_b', 'StateHoliday_c',\n",
        "       'Customer_ln', 'CompetitionDistance_ln', 'PromoOpen_ln',\n",
        "       'CompetitionOpen_ln', 'Sales_sqrt', 'scaled_CompetitionDistance_ln',\n",
        "       'scaled_Customer_ln', 'scaled_PromoOpen_ln',\n",
        "       'scaled_CompetitionOpen_ln','scaled_Sales_sqrt']]"
      ],
      "execution_count": null,
      "outputs": []
    },
    {
      "cell_type": "code",
      "metadata": {
        "id": "07FRxj3uvZaC"
      },
      "source": [
        "df3.drop(['Sales_sqrt','CompetitionOpen_ln','CompetitionDistance_ln', 'PromoOpen_ln','Customer_ln'],axis = 1, inplace = True)"
      ],
      "execution_count": null,
      "outputs": []
    },
    {
      "cell_type": "code",
      "metadata": {
        "colab": {
          "base_uri": "https://localhost:8080/",
          "height": 224
        },
        "id": "wb-zCNmSu9F2",
        "outputId": "c90c52d4-74ab-4d49-f20b-96672a7693d8"
      },
      "source": [
        "df3.tail()"
      ],
      "execution_count": null,
      "outputs": [
        {
          "output_type": "execute_result",
          "data": {
            "text/html": [
              "<div>\n",
              "<style scoped>\n",
              "    .dataframe tbody tr th:only-of-type {\n",
              "        vertical-align: middle;\n",
              "    }\n",
              "\n",
              "    .dataframe tbody tr th {\n",
              "        vertical-align: top;\n",
              "    }\n",
              "\n",
              "    .dataframe thead th {\n",
              "        text-align: right;\n",
              "    }\n",
              "</style>\n",
              "<table border=\"1\" class=\"dataframe\">\n",
              "  <thead>\n",
              "    <tr style=\"text-align: right;\">\n",
              "      <th></th>\n",
              "      <th>DayOfWeek</th>\n",
              "      <th>Open</th>\n",
              "      <th>Promo</th>\n",
              "      <th>SchoolHoliday</th>\n",
              "      <th>Year</th>\n",
              "      <th>Month</th>\n",
              "      <th>Day</th>\n",
              "      <th>Week</th>\n",
              "      <th>WeekOfYear</th>\n",
              "      <th>StoreType_b</th>\n",
              "      <th>StoreType_c</th>\n",
              "      <th>StoreType_d</th>\n",
              "      <th>Assortment_b</th>\n",
              "      <th>Assortment_c</th>\n",
              "      <th>PromoInterval_Feb,May,Aug,Nov</th>\n",
              "      <th>PromoInterval_Jan,Apr,Jul,Oct</th>\n",
              "      <th>PromoInterval_Mar,Jun,Sept,Dec</th>\n",
              "      <th>StateHoliday_0</th>\n",
              "      <th>StateHoliday_a</th>\n",
              "      <th>StateHoliday_b</th>\n",
              "      <th>StateHoliday_c</th>\n",
              "      <th>scaled_CompetitionDistance_ln</th>\n",
              "      <th>scaled_Customer_ln</th>\n",
              "      <th>scaled_PromoOpen_ln</th>\n",
              "      <th>scaled_CompetitionOpen_ln</th>\n",
              "      <th>scaled_Sales_sqrt</th>\n",
              "    </tr>\n",
              "  </thead>\n",
              "  <tbody>\n",
              "    <tr>\n",
              "      <th>844333</th>\n",
              "      <td>1</td>\n",
              "      <td>1</td>\n",
              "      <td>1</td>\n",
              "      <td>1</td>\n",
              "      <td>2013</td>\n",
              "      <td>1</td>\n",
              "      <td>7</td>\n",
              "      <td>2</td>\n",
              "      <td>2</td>\n",
              "      <td>0</td>\n",
              "      <td>0</td>\n",
              "      <td>1</td>\n",
              "      <td>0</td>\n",
              "      <td>1</td>\n",
              "      <td>0</td>\n",
              "      <td>0</td>\n",
              "      <td>1</td>\n",
              "      <td>1</td>\n",
              "      <td>0</td>\n",
              "      <td>0</td>\n",
              "      <td>0</td>\n",
              "      <td>0.603229</td>\n",
              "      <td>-0.861084</td>\n",
              "      <td>0.402423</td>\n",
              "      <td>-1.599798</td>\n",
              "      <td>0.088327</td>\n",
              "    </tr>\n",
              "    <tr>\n",
              "      <th>844334</th>\n",
              "      <td>6</td>\n",
              "      <td>1</td>\n",
              "      <td>0</td>\n",
              "      <td>1</td>\n",
              "      <td>2013</td>\n",
              "      <td>1</td>\n",
              "      <td>5</td>\n",
              "      <td>1</td>\n",
              "      <td>1</td>\n",
              "      <td>0</td>\n",
              "      <td>0</td>\n",
              "      <td>1</td>\n",
              "      <td>0</td>\n",
              "      <td>1</td>\n",
              "      <td>0</td>\n",
              "      <td>0</td>\n",
              "      <td>1</td>\n",
              "      <td>1</td>\n",
              "      <td>0</td>\n",
              "      <td>0</td>\n",
              "      <td>0</td>\n",
              "      <td>0.603229</td>\n",
              "      <td>-1.608170</td>\n",
              "      <td>0.402423</td>\n",
              "      <td>-1.599798</td>\n",
              "      <td>-0.714806</td>\n",
              "    </tr>\n",
              "    <tr>\n",
              "      <th>844335</th>\n",
              "      <td>5</td>\n",
              "      <td>1</td>\n",
              "      <td>0</td>\n",
              "      <td>1</td>\n",
              "      <td>2013</td>\n",
              "      <td>1</td>\n",
              "      <td>4</td>\n",
              "      <td>1</td>\n",
              "      <td>1</td>\n",
              "      <td>0</td>\n",
              "      <td>0</td>\n",
              "      <td>1</td>\n",
              "      <td>0</td>\n",
              "      <td>1</td>\n",
              "      <td>0</td>\n",
              "      <td>0</td>\n",
              "      <td>1</td>\n",
              "      <td>1</td>\n",
              "      <td>0</td>\n",
              "      <td>0</td>\n",
              "      <td>0</td>\n",
              "      <td>0.603229</td>\n",
              "      <td>-1.697002</td>\n",
              "      <td>0.402423</td>\n",
              "      <td>-1.599798</td>\n",
              "      <td>-0.811757</td>\n",
              "    </tr>\n",
              "    <tr>\n",
              "      <th>844336</th>\n",
              "      <td>4</td>\n",
              "      <td>1</td>\n",
              "      <td>0</td>\n",
              "      <td>1</td>\n",
              "      <td>2013</td>\n",
              "      <td>1</td>\n",
              "      <td>3</td>\n",
              "      <td>1</td>\n",
              "      <td>1</td>\n",
              "      <td>0</td>\n",
              "      <td>0</td>\n",
              "      <td>1</td>\n",
              "      <td>0</td>\n",
              "      <td>1</td>\n",
              "      <td>0</td>\n",
              "      <td>0</td>\n",
              "      <td>1</td>\n",
              "      <td>1</td>\n",
              "      <td>0</td>\n",
              "      <td>0</td>\n",
              "      <td>0</td>\n",
              "      <td>0.603229</td>\n",
              "      <td>-1.885819</td>\n",
              "      <td>0.402423</td>\n",
              "      <td>-1.599798</td>\n",
              "      <td>-0.916446</td>\n",
              "    </tr>\n",
              "    <tr>\n",
              "      <th>844337</th>\n",
              "      <td>3</td>\n",
              "      <td>1</td>\n",
              "      <td>0</td>\n",
              "      <td>1</td>\n",
              "      <td>2013</td>\n",
              "      <td>1</td>\n",
              "      <td>2</td>\n",
              "      <td>1</td>\n",
              "      <td>1</td>\n",
              "      <td>0</td>\n",
              "      <td>0</td>\n",
              "      <td>1</td>\n",
              "      <td>0</td>\n",
              "      <td>1</td>\n",
              "      <td>0</td>\n",
              "      <td>0</td>\n",
              "      <td>1</td>\n",
              "      <td>1</td>\n",
              "      <td>0</td>\n",
              "      <td>0</td>\n",
              "      <td>0</td>\n",
              "      <td>0.603229</td>\n",
              "      <td>-1.848268</td>\n",
              "      <td>0.402423</td>\n",
              "      <td>-1.599798</td>\n",
              "      <td>-1.188390</td>\n",
              "    </tr>\n",
              "  </tbody>\n",
              "</table>\n",
              "</div>"
            ],
            "text/plain": [
              "        DayOfWeek  Open  ...  scaled_CompetitionOpen_ln  scaled_Sales_sqrt\n",
              "844333          1     1  ...                  -1.599798           0.088327\n",
              "844334          6     1  ...                  -1.599798          -0.714806\n",
              "844335          5     1  ...                  -1.599798          -0.811757\n",
              "844336          4     1  ...                  -1.599798          -0.916446\n",
              "844337          3     1  ...                  -1.599798          -1.188390\n",
              "\n",
              "[5 rows x 26 columns]"
            ]
          },
          "metadata": {
            "tags": []
          },
          "execution_count": 489
        }
      ]
    },
    {
      "cell_type": "code",
      "metadata": {
        "id": "VjmdFJDFvEai"
      },
      "source": [
        "df_final = df3.copy() #checkpoint"
      ],
      "execution_count": null,
      "outputs": []
    },
    {
      "cell_type": "code",
      "metadata": {
        "id": "d3qMf7drwLUG"
      },
      "source": [
        "#lets check if there is any corelation and multicolinearity"
      ],
      "execution_count": null,
      "outputs": []
    },
    {
      "cell_type": "code",
      "metadata": {
        "id": "eIc75DtvwQpp"
      },
      "source": [
        "#plt.figure(figsize = (15,15))\n",
        "#sns.heatmap(df_final.corr(), annot= True)"
      ],
      "execution_count": null,
      "outputs": []
    },
    {
      "cell_type": "markdown",
      "metadata": {
        "id": "E-_2rAQNEKQM"
      },
      "source": [
        "#Regression"
      ]
    },
    {
      "cell_type": "markdown",
      "metadata": {
        "id": "Qwb6sI8oEYOD"
      },
      "source": [
        "###LinearRegression"
      ]
    },
    {
      "cell_type": "code",
      "metadata": {
        "id": "vBY8FaflxlIb"
      },
      "source": [
        "x = df_final.iloc[:,:-1]"
      ],
      "execution_count": null,
      "outputs": []
    },
    {
      "cell_type": "code",
      "metadata": {
        "id": "URrL8feExr6f"
      },
      "source": [
        "y = df_final['scaled_Sales_sqrt']"
      ],
      "execution_count": null,
      "outputs": []
    },
    {
      "cell_type": "code",
      "metadata": {
        "id": "36rTsjumxz1F"
      },
      "source": [
        "x_train, x_test, y_train, y_test = train_test_split(x,y, random_state = 42, test_size = 0.2)"
      ],
      "execution_count": null,
      "outputs": []
    },
    {
      "cell_type": "code",
      "metadata": {
        "colab": {
          "base_uri": "https://localhost:8080/"
        },
        "id": "OzCrjXbjyOE4",
        "outputId": "d19350d8-a1f7-4937-98b7-0b91be015cc5"
      },
      "source": [
        "reg = LinearRegression()\n",
        "reg.fit(x_train,y_train)"
      ],
      "execution_count": null,
      "outputs": [
        {
          "output_type": "execute_result",
          "data": {
            "text/plain": [
              "LinearRegression(copy_X=True, fit_intercept=True, n_jobs=None, normalize=False)"
            ]
          },
          "metadata": {
            "tags": []
          },
          "execution_count": 496
        }
      ]
    },
    {
      "cell_type": "code",
      "metadata": {
        "id": "fwQtp_Lw6hX2"
      },
      "source": [
        "y_pred = reg.predict(x_test)"
      ],
      "execution_count": null,
      "outputs": []
    },
    {
      "cell_type": "code",
      "metadata": {
        "id": "Pxt9gG-t6pFD"
      },
      "source": [
        "from sklearn.metrics import r2_score"
      ],
      "execution_count": null,
      "outputs": []
    },
    {
      "cell_type": "code",
      "metadata": {
        "colab": {
          "base_uri": "https://localhost:8080/"
        },
        "id": "qA0N2bRHDwTg",
        "outputId": "88c4f74e-8705-41f9-b170-edeee057b7c1"
      },
      "source": [
        "r2_score(y_pred,y_test)"
      ],
      "execution_count": null,
      "outputs": [
        {
          "output_type": "execute_result",
          "data": {
            "text/plain": [
              "0.8209586823153805"
            ]
          },
          "metadata": {
            "tags": []
          },
          "execution_count": 499
        }
      ]
    },
    {
      "cell_type": "code",
      "metadata": {
        "id": "izVDIUFnD3Ou"
      },
      "source": [
        "#82% with LinearRegression"
      ],
      "execution_count": null,
      "outputs": []
    },
    {
      "cell_type": "code",
      "metadata": {
        "id": "Kc-KVFVuECuJ"
      },
      "source": [
        ""
      ],
      "execution_count": null,
      "outputs": []
    },
    {
      "cell_type": "markdown",
      "metadata": {
        "id": "HEh-fztuhtgT"
      },
      "source": [
        "###Implementing Lasso"
      ]
    },
    {
      "cell_type": "code",
      "metadata": {
        "id": "UVZt6bfZhkN8"
      },
      "source": [
        "lass = Lasso(alpha = 0.1, max_iter = 2000)"
      ],
      "execution_count": null,
      "outputs": []
    },
    {
      "cell_type": "code",
      "metadata": {
        "colab": {
          "base_uri": "https://localhost:8080/"
        },
        "id": "DUeMvMqdjof2",
        "outputId": "e7b62eec-19cd-42c0-9831-33fc49574a13"
      },
      "source": [
        "lass.fit(x_train,y_train)"
      ],
      "execution_count": null,
      "outputs": [
        {
          "output_type": "execute_result",
          "data": {
            "text/plain": [
              "Lasso(alpha=0.1, copy_X=True, fit_intercept=True, max_iter=2000,\n",
              "      normalize=False, positive=False, precompute=False, random_state=None,\n",
              "      selection='cyclic', tol=0.0001, warm_start=False)"
            ]
          },
          "metadata": {
            "tags": []
          },
          "execution_count": 502
        }
      ]
    },
    {
      "cell_type": "code",
      "metadata": {
        "id": "ssGRumJSjoa_"
      },
      "source": [
        "prediction_lasso = lass.predict(x_test)"
      ],
      "execution_count": null,
      "outputs": []
    },
    {
      "cell_type": "code",
      "metadata": {
        "colab": {
          "base_uri": "https://localhost:8080/"
        },
        "id": "73qtUt_CjuAh",
        "outputId": "d8190af7-4987-41b7-de43-8b5ba9d44f52"
      },
      "source": [
        "r2_score(y_test,prediction_lasso)"
      ],
      "execution_count": null,
      "outputs": [
        {
          "output_type": "execute_result",
          "data": {
            "text/plain": [
              "0.7296809311788559"
            ]
          },
          "metadata": {
            "tags": []
          },
          "execution_count": 504
        }
      ]
    },
    {
      "cell_type": "code",
      "metadata": {
        "id": "LDEi3pD3FdUh"
      },
      "source": [
        "#lasso has dropped or ignore many features"
      ],
      "execution_count": null,
      "outputs": []
    },
    {
      "cell_type": "markdown",
      "metadata": {
        "id": "LRqC9C4xEiM8"
      },
      "source": [
        "### Decision tree with and without Crossvalidation"
      ]
    },
    {
      "cell_type": "code",
      "metadata": {
        "id": "LbrKdhScGcgj"
      },
      "source": [
        "from sklearn.model_selection import cross_val_score"
      ],
      "execution_count": null,
      "outputs": []
    },
    {
      "cell_type": "code",
      "metadata": {
        "colab": {
          "base_uri": "https://localhost:8080/"
        },
        "id": "G_1awehtFkva",
        "outputId": "9f80205e-a65b-442a-f4bc-ad2244b88080"
      },
      "source": [
        "des_regressor = DecisionTreeRegressor(random_state=0)\n",
        "cross_val_score(des_regressor, x_train, y_train, cv=10).mean()"
      ],
      "execution_count": null,
      "outputs": [
        {
          "output_type": "execute_result",
          "data": {
            "text/plain": [
              "0.9429869531177097"
            ]
          },
          "metadata": {
            "tags": []
          },
          "execution_count": 394
        }
      ]
    },
    {
      "cell_type": "code",
      "metadata": {
        "id": "FUc5CmUikadn"
      },
      "source": [
        "# if we use Descion tree directly without any validation tests"
      ],
      "execution_count": null,
      "outputs": []
    },
    {
      "cell_type": "code",
      "metadata": {
        "colab": {
          "base_uri": "https://localhost:8080/"
        },
        "id": "j51UYvf9HH2y",
        "outputId": "0aa825b1-28f4-4f2b-8f75-753ebb327bec"
      },
      "source": [
        "des_regressor.fit(x_train,y_train)"
      ],
      "execution_count": null,
      "outputs": [
        {
          "output_type": "execute_result",
          "data": {
            "text/plain": [
              "DecisionTreeRegressor(ccp_alpha=0.0, criterion='mse', max_depth=None,\n",
              "                      max_features=None, max_leaf_nodes=None,\n",
              "                      min_impurity_decrease=0.0, min_impurity_split=None,\n",
              "                      min_samples_leaf=1, min_samples_split=2,\n",
              "                      min_weight_fraction_leaf=0.0, presort='deprecated',\n",
              "                      random_state=0, splitter='best')"
            ]
          },
          "metadata": {
            "tags": []
          },
          "execution_count": 396
        }
      ]
    },
    {
      "cell_type": "code",
      "metadata": {
        "id": "1nbl6pLWGX38"
      },
      "source": [
        "y_pred_des = des_regressor.predict(x_test)"
      ],
      "execution_count": null,
      "outputs": []
    },
    {
      "cell_type": "code",
      "metadata": {
        "colab": {
          "base_uri": "https://localhost:8080/"
        },
        "id": "FUL2qJMtHDcy",
        "outputId": "e77ac7bd-bb7c-48fa-b2e2-6571aac8ab07"
      },
      "source": [
        "r2_score(y_pred_des, y_test)"
      ],
      "execution_count": null,
      "outputs": [
        {
          "output_type": "execute_result",
          "data": {
            "text/plain": [
              "0.9457188032646296"
            ]
          },
          "metadata": {
            "tags": []
          },
          "execution_count": 398
        }
      ]
    },
    {
      "cell_type": "code",
      "metadata": {
        "id": "QqfzghiJHSpf"
      },
      "source": [
        ""
      ],
      "execution_count": null,
      "outputs": []
    },
    {
      "cell_type": "markdown",
      "metadata": {
        "id": "E-7zrgTJlL1w"
      },
      "source": [
        "### decision tree is the best for this dataset problem"
      ]
    },
    {
      "cell_type": "code",
      "metadata": {
        "id": "APsTIHTz0yN3"
      },
      "source": [
        ""
      ],
      "execution_count": null,
      "outputs": []
    }
  ]
}